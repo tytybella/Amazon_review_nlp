{
  "nbformat": 4,
  "nbformat_minor": 0,
  "metadata": {
    "colab": {
      "provenance": [],
      "collapsed_sections": [
        "tdDeWkmJOO2S",
        "e3-23rmpr7Ye",
        "vlXwilZT-MJz",
        "DMVPrqlwHeej",
        "Thgys3dusT0X",
        "hqqsFNokjko2",
        "r7f5DsamHi14",
        "cKv4u_5ZnYnx",
        "c5S-jCVtnieW",
        "adhOUHEtrl5r",
        "hUMosUMnsw7t"
      ],
      "gpuType": "T4",
      "authorship_tag": "ABX9TyO6iZoDmtDtZ3kelQKfu28O",
      "include_colab_link": true
    },
    "kernelspec": {
      "name": "python3",
      "display_name": "Python 3"
    },
    "language_info": {
      "name": "python"
    },
    "accelerator": "GPU"
  },
  "cells": [
    {
      "cell_type": "markdown",
      "metadata": {
        "id": "view-in-github",
        "colab_type": "text"
      },
      "source": [
        "<a href=\"https://colab.research.google.com/github/tytybella/Amazon_review_nlp/blob/main/topic_modeling_LDA_%26_BERTopic.ipynb\" target=\"_parent\"><img src=\"https://colab.research.google.com/assets/colab-badge.svg\" alt=\"Open In Colab\"/></a>"
      ]
    },
    {
      "cell_type": "code",
      "source": [
        "# !pip install pyLDAvis"
      ],
      "metadata": {
        "id": "bRRqs-hvP6mR"
      },
      "execution_count": null,
      "outputs": []
    },
    {
      "cell_type": "code",
      "source": [
        "!pip install numpy --upgrade"
      ],
      "metadata": {
        "id": "wmQoQlT6aman"
      },
      "execution_count": null,
      "outputs": []
    },
    {
      "cell_type": "code",
      "source": [
        "!pip install gensim"
      ],
      "metadata": {
        "id": "RVMJQO_lA0RK"
      },
      "execution_count": null,
      "outputs": []
    },
    {
      "cell_type": "code",
      "source": [
        "!pip install --upgrade pandas gensim pyldavis"
      ],
      "metadata": {
        "id": "Jhg20GSL-9fu"
      },
      "execution_count": null,
      "outputs": []
    },
    {
      "cell_type": "code",
      "execution_count": 1,
      "metadata": {
        "id": "xRIofAQxHbNT"
      },
      "outputs": [],
      "source": [
        "import gensim\n",
        "from gensim import corpora\n",
        "from gensim.models import LdaModel\n",
        "import pandas as pd"
      ]
    },
    {
      "cell_type": "markdown",
      "source": [
        "# 0. Data prepartion"
      ],
      "metadata": {
        "id": "tdDeWkmJOO2S"
      }
    },
    {
      "cell_type": "code",
      "source": [
        "from google.colab import files\n",
        "\n",
        "# Upload files\n",
        "files.upload()  # need cleaned_data.csv"
      ],
      "metadata": {
        "id": "BOYoImjEOOOp"
      },
      "execution_count": null,
      "outputs": []
    },
    {
      "cell_type": "code",
      "source": [
        "data = pd.read_csv('cleaned_data.csv')\n",
        "#only keep the 'overall' column and 'basic_cleaned_reviewText'\n",
        "df = data[['category', 'cleaned_reviewText', 'overall']]\n",
        "df.sample(5)"
      ],
      "metadata": {
        "colab": {
          "base_uri": "https://localhost:8080/",
          "height": 262
        },
        "id": "LgzeGEphOZtX",
        "outputId": "a1be6cb0-3150-446b-e30a-0a9e32e01063"
      },
      "execution_count": 60,
      "outputs": [
        {
          "output_type": "stream",
          "name": "stderr",
          "text": [
            "/usr/local/lib/python3.10/dist-packages/ipykernel/ipkernel.py:283: DeprecationWarning: `should_run_async` will not call `transform_cell` automatically in the future. Please pass the result to `transformed_cell` argument and any exception that happen during thetransform in `preprocessing_exc_tuple` in IPython 7.17 and above.\n",
            "  and should_run_async(code)\n"
          ]
        },
        {
          "output_type": "execute_result",
          "data": {
            "text/plain": [
              "                    category  \\\n",
              "16830  Clothing,ShoesJewelry   \n",
              "35922  Clothing,ShoesJewelry   \n",
              "43325  Clothing,ShoesJewelry   \n",
              "54657  Clothing,ShoesJewelry   \n",
              "49429  Clothing,ShoesJewelry   \n",
              "\n",
              "                                      cleaned_reviewText  overall  \n",
              "16830  color nice top supportive however little bow b...      2.0  \n",
              "35922  buy lot type sunglass fit glass le intrusive m...      5.0  \n",
              "43325                              worked great daughter      5.0  \n",
              "54657  real big dwight chute syndrome suffer smaller ...      2.0  \n",
              "49429               cute well made friend really liked !      4.0  "
            ],
            "text/html": [
              "\n",
              "  <div id=\"df-b3edd18d-2ba2-4560-bb19-bda19bb41479\" class=\"colab-df-container\">\n",
              "    <div>\n",
              "<style scoped>\n",
              "    .dataframe tbody tr th:only-of-type {\n",
              "        vertical-align: middle;\n",
              "    }\n",
              "\n",
              "    .dataframe tbody tr th {\n",
              "        vertical-align: top;\n",
              "    }\n",
              "\n",
              "    .dataframe thead th {\n",
              "        text-align: right;\n",
              "    }\n",
              "</style>\n",
              "<table border=\"1\" class=\"dataframe\">\n",
              "  <thead>\n",
              "    <tr style=\"text-align: right;\">\n",
              "      <th></th>\n",
              "      <th>category</th>\n",
              "      <th>cleaned_reviewText</th>\n",
              "      <th>overall</th>\n",
              "    </tr>\n",
              "  </thead>\n",
              "  <tbody>\n",
              "    <tr>\n",
              "      <th>16830</th>\n",
              "      <td>Clothing,ShoesJewelry</td>\n",
              "      <td>color nice top supportive however little bow b...</td>\n",
              "      <td>2.0</td>\n",
              "    </tr>\n",
              "    <tr>\n",
              "      <th>35922</th>\n",
              "      <td>Clothing,ShoesJewelry</td>\n",
              "      <td>buy lot type sunglass fit glass le intrusive m...</td>\n",
              "      <td>5.0</td>\n",
              "    </tr>\n",
              "    <tr>\n",
              "      <th>43325</th>\n",
              "      <td>Clothing,ShoesJewelry</td>\n",
              "      <td>worked great daughter</td>\n",
              "      <td>5.0</td>\n",
              "    </tr>\n",
              "    <tr>\n",
              "      <th>54657</th>\n",
              "      <td>Clothing,ShoesJewelry</td>\n",
              "      <td>real big dwight chute syndrome suffer smaller ...</td>\n",
              "      <td>2.0</td>\n",
              "    </tr>\n",
              "    <tr>\n",
              "      <th>49429</th>\n",
              "      <td>Clothing,ShoesJewelry</td>\n",
              "      <td>cute well made friend really liked !</td>\n",
              "      <td>4.0</td>\n",
              "    </tr>\n",
              "  </tbody>\n",
              "</table>\n",
              "</div>\n",
              "    <div class=\"colab-df-buttons\">\n",
              "\n",
              "  <div class=\"colab-df-container\">\n",
              "    <button class=\"colab-df-convert\" onclick=\"convertToInteractive('df-b3edd18d-2ba2-4560-bb19-bda19bb41479')\"\n",
              "            title=\"Convert this dataframe to an interactive table.\"\n",
              "            style=\"display:none;\">\n",
              "\n",
              "  <svg xmlns=\"http://www.w3.org/2000/svg\" height=\"24px\" viewBox=\"0 -960 960 960\">\n",
              "    <path d=\"M120-120v-720h720v720H120Zm60-500h600v-160H180v160Zm220 220h160v-160H400v160Zm0 220h160v-160H400v160ZM180-400h160v-160H180v160Zm440 0h160v-160H620v160ZM180-180h160v-160H180v160Zm440 0h160v-160H620v160Z\"/>\n",
              "  </svg>\n",
              "    </button>\n",
              "\n",
              "  <style>\n",
              "    .colab-df-container {\n",
              "      display:flex;\n",
              "      gap: 12px;\n",
              "    }\n",
              "\n",
              "    .colab-df-convert {\n",
              "      background-color: #E8F0FE;\n",
              "      border: none;\n",
              "      border-radius: 50%;\n",
              "      cursor: pointer;\n",
              "      display: none;\n",
              "      fill: #1967D2;\n",
              "      height: 32px;\n",
              "      padding: 0 0 0 0;\n",
              "      width: 32px;\n",
              "    }\n",
              "\n",
              "    .colab-df-convert:hover {\n",
              "      background-color: #E2EBFA;\n",
              "      box-shadow: 0px 1px 2px rgba(60, 64, 67, 0.3), 0px 1px 3px 1px rgba(60, 64, 67, 0.15);\n",
              "      fill: #174EA6;\n",
              "    }\n",
              "\n",
              "    .colab-df-buttons div {\n",
              "      margin-bottom: 4px;\n",
              "    }\n",
              "\n",
              "    [theme=dark] .colab-df-convert {\n",
              "      background-color: #3B4455;\n",
              "      fill: #D2E3FC;\n",
              "    }\n",
              "\n",
              "    [theme=dark] .colab-df-convert:hover {\n",
              "      background-color: #434B5C;\n",
              "      box-shadow: 0px 1px 3px 1px rgba(0, 0, 0, 0.15);\n",
              "      filter: drop-shadow(0px 1px 2px rgba(0, 0, 0, 0.3));\n",
              "      fill: #FFFFFF;\n",
              "    }\n",
              "  </style>\n",
              "\n",
              "    <script>\n",
              "      const buttonEl =\n",
              "        document.querySelector('#df-b3edd18d-2ba2-4560-bb19-bda19bb41479 button.colab-df-convert');\n",
              "      buttonEl.style.display =\n",
              "        google.colab.kernel.accessAllowed ? 'block' : 'none';\n",
              "\n",
              "      async function convertToInteractive(key) {\n",
              "        const element = document.querySelector('#df-b3edd18d-2ba2-4560-bb19-bda19bb41479');\n",
              "        const dataTable =\n",
              "          await google.colab.kernel.invokeFunction('convertToInteractive',\n",
              "                                                    [key], {});\n",
              "        if (!dataTable) return;\n",
              "\n",
              "        const docLinkHtml = 'Like what you see? Visit the ' +\n",
              "          '<a target=\"_blank\" href=https://colab.research.google.com/notebooks/data_table.ipynb>data table notebook</a>'\n",
              "          + ' to learn more about interactive tables.';\n",
              "        element.innerHTML = '';\n",
              "        dataTable['output_type'] = 'display_data';\n",
              "        await google.colab.output.renderOutput(dataTable, element);\n",
              "        const docLink = document.createElement('div');\n",
              "        docLink.innerHTML = docLinkHtml;\n",
              "        element.appendChild(docLink);\n",
              "      }\n",
              "    </script>\n",
              "  </div>\n",
              "\n",
              "\n",
              "<div id=\"df-3ca001f6-ba65-4e53-b12b-9f82c851091a\">\n",
              "  <button class=\"colab-df-quickchart\" onclick=\"quickchart('df-3ca001f6-ba65-4e53-b12b-9f82c851091a')\"\n",
              "            title=\"Suggest charts\"\n",
              "            style=\"display:none;\">\n",
              "\n",
              "<svg xmlns=\"http://www.w3.org/2000/svg\" height=\"24px\"viewBox=\"0 0 24 24\"\n",
              "     width=\"24px\">\n",
              "    <g>\n",
              "        <path d=\"M19 3H5c-1.1 0-2 .9-2 2v14c0 1.1.9 2 2 2h14c1.1 0 2-.9 2-2V5c0-1.1-.9-2-2-2zM9 17H7v-7h2v7zm4 0h-2V7h2v10zm4 0h-2v-4h2v4z\"/>\n",
              "    </g>\n",
              "</svg>\n",
              "  </button>\n",
              "\n",
              "<style>\n",
              "  .colab-df-quickchart {\n",
              "      --bg-color: #E8F0FE;\n",
              "      --fill-color: #1967D2;\n",
              "      --hover-bg-color: #E2EBFA;\n",
              "      --hover-fill-color: #174EA6;\n",
              "      --disabled-fill-color: #AAA;\n",
              "      --disabled-bg-color: #DDD;\n",
              "  }\n",
              "\n",
              "  [theme=dark] .colab-df-quickchart {\n",
              "      --bg-color: #3B4455;\n",
              "      --fill-color: #D2E3FC;\n",
              "      --hover-bg-color: #434B5C;\n",
              "      --hover-fill-color: #FFFFFF;\n",
              "      --disabled-bg-color: #3B4455;\n",
              "      --disabled-fill-color: #666;\n",
              "  }\n",
              "\n",
              "  .colab-df-quickchart {\n",
              "    background-color: var(--bg-color);\n",
              "    border: none;\n",
              "    border-radius: 50%;\n",
              "    cursor: pointer;\n",
              "    display: none;\n",
              "    fill: var(--fill-color);\n",
              "    height: 32px;\n",
              "    padding: 0;\n",
              "    width: 32px;\n",
              "  }\n",
              "\n",
              "  .colab-df-quickchart:hover {\n",
              "    background-color: var(--hover-bg-color);\n",
              "    box-shadow: 0 1px 2px rgba(60, 64, 67, 0.3), 0 1px 3px 1px rgba(60, 64, 67, 0.15);\n",
              "    fill: var(--button-hover-fill-color);\n",
              "  }\n",
              "\n",
              "  .colab-df-quickchart-complete:disabled,\n",
              "  .colab-df-quickchart-complete:disabled:hover {\n",
              "    background-color: var(--disabled-bg-color);\n",
              "    fill: var(--disabled-fill-color);\n",
              "    box-shadow: none;\n",
              "  }\n",
              "\n",
              "  .colab-df-spinner {\n",
              "    border: 2px solid var(--fill-color);\n",
              "    border-color: transparent;\n",
              "    border-bottom-color: var(--fill-color);\n",
              "    animation:\n",
              "      spin 1s steps(1) infinite;\n",
              "  }\n",
              "\n",
              "  @keyframes spin {\n",
              "    0% {\n",
              "      border-color: transparent;\n",
              "      border-bottom-color: var(--fill-color);\n",
              "      border-left-color: var(--fill-color);\n",
              "    }\n",
              "    20% {\n",
              "      border-color: transparent;\n",
              "      border-left-color: var(--fill-color);\n",
              "      border-top-color: var(--fill-color);\n",
              "    }\n",
              "    30% {\n",
              "      border-color: transparent;\n",
              "      border-left-color: var(--fill-color);\n",
              "      border-top-color: var(--fill-color);\n",
              "      border-right-color: var(--fill-color);\n",
              "    }\n",
              "    40% {\n",
              "      border-color: transparent;\n",
              "      border-right-color: var(--fill-color);\n",
              "      border-top-color: var(--fill-color);\n",
              "    }\n",
              "    60% {\n",
              "      border-color: transparent;\n",
              "      border-right-color: var(--fill-color);\n",
              "    }\n",
              "    80% {\n",
              "      border-color: transparent;\n",
              "      border-right-color: var(--fill-color);\n",
              "      border-bottom-color: var(--fill-color);\n",
              "    }\n",
              "    90% {\n",
              "      border-color: transparent;\n",
              "      border-bottom-color: var(--fill-color);\n",
              "    }\n",
              "  }\n",
              "</style>\n",
              "\n",
              "  <script>\n",
              "    async function quickchart(key) {\n",
              "      const quickchartButtonEl =\n",
              "        document.querySelector('#' + key + ' button');\n",
              "      quickchartButtonEl.disabled = true;  // To prevent multiple clicks.\n",
              "      quickchartButtonEl.classList.add('colab-df-spinner');\n",
              "      try {\n",
              "        const charts = await google.colab.kernel.invokeFunction(\n",
              "            'suggestCharts', [key], {});\n",
              "      } catch (error) {\n",
              "        console.error('Error during call to suggestCharts:', error);\n",
              "      }\n",
              "      quickchartButtonEl.classList.remove('colab-df-spinner');\n",
              "      quickchartButtonEl.classList.add('colab-df-quickchart-complete');\n",
              "    }\n",
              "    (() => {\n",
              "      let quickchartButtonEl =\n",
              "        document.querySelector('#df-3ca001f6-ba65-4e53-b12b-9f82c851091a button');\n",
              "      quickchartButtonEl.style.display =\n",
              "        google.colab.kernel.accessAllowed ? 'block' : 'none';\n",
              "    })();\n",
              "  </script>\n",
              "</div>\n",
              "\n",
              "    </div>\n",
              "  </div>\n"
            ]
          },
          "metadata": {},
          "execution_count": 60
        }
      ]
    },
    {
      "cell_type": "code",
      "source": [
        "import nltk\n",
        "from nltk.tokenize import word_tokenize\n",
        "nltk.download('punkt')"
      ],
      "metadata": {
        "colab": {
          "base_uri": "https://localhost:8080/"
        },
        "id": "MRNhQm5Nw2E-",
        "outputId": "d006495e-1cf0-40b0-8f55-2dda2fdd6f38"
      },
      "execution_count": 7,
      "outputs": [
        {
          "output_type": "stream",
          "name": "stderr",
          "text": [
            "[nltk_data] Downloading package punkt to /root/nltk_data...\n",
            "[nltk_data]   Unzipping tokenizers/punkt.zip.\n"
          ]
        },
        {
          "output_type": "execute_result",
          "data": {
            "text/plain": [
              "True"
            ]
          },
          "metadata": {},
          "execution_count": 7
        }
      ]
    },
    {
      "cell_type": "code",
      "source": [
        "df.info()\n",
        "df = df.dropna(subset=['cleaned_reviewText', 'category'])\n",
        "df.info()"
      ],
      "metadata": {
        "colab": {
          "base_uri": "https://localhost:8080/"
        },
        "id": "QFwOqOg_yK-U",
        "outputId": "9dffc500-afaa-435c-8c2f-e3f290ecde49"
      },
      "execution_count": 126,
      "outputs": [
        {
          "output_type": "stream",
          "name": "stdout",
          "text": [
            "<class 'pandas.core.frame.DataFrame'>\n",
            "RangeIndex: 57397 entries, 0 to 57396\n",
            "Data columns (total 3 columns):\n",
            " #   Column              Non-Null Count  Dtype  \n",
            "---  ------              --------------  -----  \n",
            " 0   category            55306 non-null  object \n",
            " 1   cleaned_reviewText  57283 non-null  object \n",
            " 2   overall             57397 non-null  float64\n",
            "dtypes: float64(1), object(2)\n",
            "memory usage: 1.3+ MB\n",
            "<class 'pandas.core.frame.DataFrame'>\n",
            "Int64Index: 55195 entries, 0 to 57396\n",
            "Data columns (total 3 columns):\n",
            " #   Column              Non-Null Count  Dtype  \n",
            "---  ------              --------------  -----  \n",
            " 0   category            55195 non-null  object \n",
            " 1   cleaned_reviewText  55195 non-null  object \n",
            " 2   overall             55195 non-null  float64\n",
            "dtypes: float64(1), object(2)\n",
            "memory usage: 1.7+ MB\n"
          ]
        }
      ]
    },
    {
      "cell_type": "code",
      "source": [
        "df['tokenized_text'] = df['cleaned_reviewText'].apply(lambda x: word_tokenize(x))\n",
        "df.sample(5)"
      ],
      "metadata": {
        "colab": {
          "base_uri": "https://localhost:8080/",
          "height": 206
        },
        "id": "qPSf0xTfxFW7",
        "outputId": "925c36a5-1477-4a41-8494-da7e03056c8f"
      },
      "execution_count": 127,
      "outputs": [
        {
          "output_type": "execute_result",
          "data": {
            "text/plain": [
              "                    category  \\\n",
              "16068  Clothing,ShoesJewelry   \n",
              "25744  Clothing,ShoesJewelry   \n",
              "33316  Clothing,ShoesJewelry   \n",
              "3649   Clothing,ShoesJewelry   \n",
              "28448  Clothing,ShoesJewelry   \n",
              "\n",
              "                                      cleaned_reviewText  overall  \\\n",
              "16068  far good ! really like comfort especially supp...      5.0   \n",
              "25744  wife worn prescription glass since middle scho...      5.0   \n",
              "33316  overall really nice bag one thing could improv...      4.0   \n",
              "3649                                                 god      5.0   \n",
              "28448                      love product mess los clothes      5.0   \n",
              "\n",
              "                                          tokenized_text  \n",
              "16068  [far, good, !, really, like, comfort, especial...  \n",
              "25744  [wife, worn, prescription, glass, since, middl...  \n",
              "33316  [overall, really, nice, bag, one, thing, could...  \n",
              "3649                                               [god]  \n",
              "28448                [love, product, mess, los, clothes]  "
            ],
            "text/html": [
              "\n",
              "  <div id=\"df-bfae9491-a521-43ae-a0ac-651d3dbeb9bb\" class=\"colab-df-container\">\n",
              "    <div>\n",
              "<style scoped>\n",
              "    .dataframe tbody tr th:only-of-type {\n",
              "        vertical-align: middle;\n",
              "    }\n",
              "\n",
              "    .dataframe tbody tr th {\n",
              "        vertical-align: top;\n",
              "    }\n",
              "\n",
              "    .dataframe thead th {\n",
              "        text-align: right;\n",
              "    }\n",
              "</style>\n",
              "<table border=\"1\" class=\"dataframe\">\n",
              "  <thead>\n",
              "    <tr style=\"text-align: right;\">\n",
              "      <th></th>\n",
              "      <th>category</th>\n",
              "      <th>cleaned_reviewText</th>\n",
              "      <th>overall</th>\n",
              "      <th>tokenized_text</th>\n",
              "    </tr>\n",
              "  </thead>\n",
              "  <tbody>\n",
              "    <tr>\n",
              "      <th>16068</th>\n",
              "      <td>Clothing,ShoesJewelry</td>\n",
              "      <td>far good ! really like comfort especially supp...</td>\n",
              "      <td>5.0</td>\n",
              "      <td>[far, good, !, really, like, comfort, especial...</td>\n",
              "    </tr>\n",
              "    <tr>\n",
              "      <th>25744</th>\n",
              "      <td>Clothing,ShoesJewelry</td>\n",
              "      <td>wife worn prescription glass since middle scho...</td>\n",
              "      <td>5.0</td>\n",
              "      <td>[wife, worn, prescription, glass, since, middl...</td>\n",
              "    </tr>\n",
              "    <tr>\n",
              "      <th>33316</th>\n",
              "      <td>Clothing,ShoesJewelry</td>\n",
              "      <td>overall really nice bag one thing could improv...</td>\n",
              "      <td>4.0</td>\n",
              "      <td>[overall, really, nice, bag, one, thing, could...</td>\n",
              "    </tr>\n",
              "    <tr>\n",
              "      <th>3649</th>\n",
              "      <td>Clothing,ShoesJewelry</td>\n",
              "      <td>god</td>\n",
              "      <td>5.0</td>\n",
              "      <td>[god]</td>\n",
              "    </tr>\n",
              "    <tr>\n",
              "      <th>28448</th>\n",
              "      <td>Clothing,ShoesJewelry</td>\n",
              "      <td>love product mess los clothes</td>\n",
              "      <td>5.0</td>\n",
              "      <td>[love, product, mess, los, clothes]</td>\n",
              "    </tr>\n",
              "  </tbody>\n",
              "</table>\n",
              "</div>\n",
              "    <div class=\"colab-df-buttons\">\n",
              "\n",
              "  <div class=\"colab-df-container\">\n",
              "    <button class=\"colab-df-convert\" onclick=\"convertToInteractive('df-bfae9491-a521-43ae-a0ac-651d3dbeb9bb')\"\n",
              "            title=\"Convert this dataframe to an interactive table.\"\n",
              "            style=\"display:none;\">\n",
              "\n",
              "  <svg xmlns=\"http://www.w3.org/2000/svg\" height=\"24px\" viewBox=\"0 -960 960 960\">\n",
              "    <path d=\"M120-120v-720h720v720H120Zm60-500h600v-160H180v160Zm220 220h160v-160H400v160Zm0 220h160v-160H400v160ZM180-400h160v-160H180v160Zm440 0h160v-160H620v160ZM180-180h160v-160H180v160Zm440 0h160v-160H620v160Z\"/>\n",
              "  </svg>\n",
              "    </button>\n",
              "\n",
              "  <style>\n",
              "    .colab-df-container {\n",
              "      display:flex;\n",
              "      gap: 12px;\n",
              "    }\n",
              "\n",
              "    .colab-df-convert {\n",
              "      background-color: #E8F0FE;\n",
              "      border: none;\n",
              "      border-radius: 50%;\n",
              "      cursor: pointer;\n",
              "      display: none;\n",
              "      fill: #1967D2;\n",
              "      height: 32px;\n",
              "      padding: 0 0 0 0;\n",
              "      width: 32px;\n",
              "    }\n",
              "\n",
              "    .colab-df-convert:hover {\n",
              "      background-color: #E2EBFA;\n",
              "      box-shadow: 0px 1px 2px rgba(60, 64, 67, 0.3), 0px 1px 3px 1px rgba(60, 64, 67, 0.15);\n",
              "      fill: #174EA6;\n",
              "    }\n",
              "\n",
              "    .colab-df-buttons div {\n",
              "      margin-bottom: 4px;\n",
              "    }\n",
              "\n",
              "    [theme=dark] .colab-df-convert {\n",
              "      background-color: #3B4455;\n",
              "      fill: #D2E3FC;\n",
              "    }\n",
              "\n",
              "    [theme=dark] .colab-df-convert:hover {\n",
              "      background-color: #434B5C;\n",
              "      box-shadow: 0px 1px 3px 1px rgba(0, 0, 0, 0.15);\n",
              "      filter: drop-shadow(0px 1px 2px rgba(0, 0, 0, 0.3));\n",
              "      fill: #FFFFFF;\n",
              "    }\n",
              "  </style>\n",
              "\n",
              "    <script>\n",
              "      const buttonEl =\n",
              "        document.querySelector('#df-bfae9491-a521-43ae-a0ac-651d3dbeb9bb button.colab-df-convert');\n",
              "      buttonEl.style.display =\n",
              "        google.colab.kernel.accessAllowed ? 'block' : 'none';\n",
              "\n",
              "      async function convertToInteractive(key) {\n",
              "        const element = document.querySelector('#df-bfae9491-a521-43ae-a0ac-651d3dbeb9bb');\n",
              "        const dataTable =\n",
              "          await google.colab.kernel.invokeFunction('convertToInteractive',\n",
              "                                                    [key], {});\n",
              "        if (!dataTable) return;\n",
              "\n",
              "        const docLinkHtml = 'Like what you see? Visit the ' +\n",
              "          '<a target=\"_blank\" href=https://colab.research.google.com/notebooks/data_table.ipynb>data table notebook</a>'\n",
              "          + ' to learn more about interactive tables.';\n",
              "        element.innerHTML = '';\n",
              "        dataTable['output_type'] = 'display_data';\n",
              "        await google.colab.output.renderOutput(dataTable, element);\n",
              "        const docLink = document.createElement('div');\n",
              "        docLink.innerHTML = docLinkHtml;\n",
              "        element.appendChild(docLink);\n",
              "      }\n",
              "    </script>\n",
              "  </div>\n",
              "\n",
              "\n",
              "<div id=\"df-a66d748b-be45-409b-aa1e-8025e2b5f809\">\n",
              "  <button class=\"colab-df-quickchart\" onclick=\"quickchart('df-a66d748b-be45-409b-aa1e-8025e2b5f809')\"\n",
              "            title=\"Suggest charts\"\n",
              "            style=\"display:none;\">\n",
              "\n",
              "<svg xmlns=\"http://www.w3.org/2000/svg\" height=\"24px\"viewBox=\"0 0 24 24\"\n",
              "     width=\"24px\">\n",
              "    <g>\n",
              "        <path d=\"M19 3H5c-1.1 0-2 .9-2 2v14c0 1.1.9 2 2 2h14c1.1 0 2-.9 2-2V5c0-1.1-.9-2-2-2zM9 17H7v-7h2v7zm4 0h-2V7h2v10zm4 0h-2v-4h2v4z\"/>\n",
              "    </g>\n",
              "</svg>\n",
              "  </button>\n",
              "\n",
              "<style>\n",
              "  .colab-df-quickchart {\n",
              "      --bg-color: #E8F0FE;\n",
              "      --fill-color: #1967D2;\n",
              "      --hover-bg-color: #E2EBFA;\n",
              "      --hover-fill-color: #174EA6;\n",
              "      --disabled-fill-color: #AAA;\n",
              "      --disabled-bg-color: #DDD;\n",
              "  }\n",
              "\n",
              "  [theme=dark] .colab-df-quickchart {\n",
              "      --bg-color: #3B4455;\n",
              "      --fill-color: #D2E3FC;\n",
              "      --hover-bg-color: #434B5C;\n",
              "      --hover-fill-color: #FFFFFF;\n",
              "      --disabled-bg-color: #3B4455;\n",
              "      --disabled-fill-color: #666;\n",
              "  }\n",
              "\n",
              "  .colab-df-quickchart {\n",
              "    background-color: var(--bg-color);\n",
              "    border: none;\n",
              "    border-radius: 50%;\n",
              "    cursor: pointer;\n",
              "    display: none;\n",
              "    fill: var(--fill-color);\n",
              "    height: 32px;\n",
              "    padding: 0;\n",
              "    width: 32px;\n",
              "  }\n",
              "\n",
              "  .colab-df-quickchart:hover {\n",
              "    background-color: var(--hover-bg-color);\n",
              "    box-shadow: 0 1px 2px rgba(60, 64, 67, 0.3), 0 1px 3px 1px rgba(60, 64, 67, 0.15);\n",
              "    fill: var(--button-hover-fill-color);\n",
              "  }\n",
              "\n",
              "  .colab-df-quickchart-complete:disabled,\n",
              "  .colab-df-quickchart-complete:disabled:hover {\n",
              "    background-color: var(--disabled-bg-color);\n",
              "    fill: var(--disabled-fill-color);\n",
              "    box-shadow: none;\n",
              "  }\n",
              "\n",
              "  .colab-df-spinner {\n",
              "    border: 2px solid var(--fill-color);\n",
              "    border-color: transparent;\n",
              "    border-bottom-color: var(--fill-color);\n",
              "    animation:\n",
              "      spin 1s steps(1) infinite;\n",
              "  }\n",
              "\n",
              "  @keyframes spin {\n",
              "    0% {\n",
              "      border-color: transparent;\n",
              "      border-bottom-color: var(--fill-color);\n",
              "      border-left-color: var(--fill-color);\n",
              "    }\n",
              "    20% {\n",
              "      border-color: transparent;\n",
              "      border-left-color: var(--fill-color);\n",
              "      border-top-color: var(--fill-color);\n",
              "    }\n",
              "    30% {\n",
              "      border-color: transparent;\n",
              "      border-left-color: var(--fill-color);\n",
              "      border-top-color: var(--fill-color);\n",
              "      border-right-color: var(--fill-color);\n",
              "    }\n",
              "    40% {\n",
              "      border-color: transparent;\n",
              "      border-right-color: var(--fill-color);\n",
              "      border-top-color: var(--fill-color);\n",
              "    }\n",
              "    60% {\n",
              "      border-color: transparent;\n",
              "      border-right-color: var(--fill-color);\n",
              "    }\n",
              "    80% {\n",
              "      border-color: transparent;\n",
              "      border-right-color: var(--fill-color);\n",
              "      border-bottom-color: var(--fill-color);\n",
              "    }\n",
              "    90% {\n",
              "      border-color: transparent;\n",
              "      border-bottom-color: var(--fill-color);\n",
              "    }\n",
              "  }\n",
              "</style>\n",
              "\n",
              "  <script>\n",
              "    async function quickchart(key) {\n",
              "      const quickchartButtonEl =\n",
              "        document.querySelector('#' + key + ' button');\n",
              "      quickchartButtonEl.disabled = true;  // To prevent multiple clicks.\n",
              "      quickchartButtonEl.classList.add('colab-df-spinner');\n",
              "      try {\n",
              "        const charts = await google.colab.kernel.invokeFunction(\n",
              "            'suggestCharts', [key], {});\n",
              "      } catch (error) {\n",
              "        console.error('Error during call to suggestCharts:', error);\n",
              "      }\n",
              "      quickchartButtonEl.classList.remove('colab-df-spinner');\n",
              "      quickchartButtonEl.classList.add('colab-df-quickchart-complete');\n",
              "    }\n",
              "    (() => {\n",
              "      let quickchartButtonEl =\n",
              "        document.querySelector('#df-a66d748b-be45-409b-aa1e-8025e2b5f809 button');\n",
              "      quickchartButtonEl.style.display =\n",
              "        google.colab.kernel.accessAllowed ? 'block' : 'none';\n",
              "    })();\n",
              "  </script>\n",
              "</div>\n",
              "\n",
              "    </div>\n",
              "  </div>\n"
            ]
          },
          "metadata": {},
          "execution_count": 127
        }
      ]
    },
    {
      "cell_type": "markdown",
      "source": [
        "# 1. LDA Topic Modeling:\n",
        "\n",
        "vectorizer used gensim's copora.dictionary and Gensim's doc2bow, which is a  Bag-of-Words (BoW) method"
      ],
      "metadata": {
        "id": "X7Mm2ZJerrZS"
      }
    },
    {
      "cell_type": "markdown",
      "source": [
        "## 1.1 LDA topic modeling for the  whole review datasets"
      ],
      "metadata": {
        "id": "e3-23rmpr7Ye"
      }
    },
    {
      "cell_type": "markdown",
      "source": [
        "### build model"
      ],
      "metadata": {
        "id": "P8EZZglZ42aq"
      }
    },
    {
      "cell_type": "code",
      "source": [
        "# Create Dictionary\n",
        "id2word = corpora.Dictionary(df['tokenized_text'])\n",
        "# Create Corpus\n",
        "texts = df['tokenized_text']\n",
        "# Term Document Frequency\n",
        "corpus = [id2word.doc2bow(text) for text in texts]\n",
        "\n",
        "# View\n",
        "# Human readable format of corpus (term-frequency)\n",
        "# There is nothing magical about 2500:2510, I just wanted to examine a random location\n",
        "print ([[(id2word[id], freq) for id, freq in cp] for cp in corpus[2500:2512]])"
      ],
      "metadata": {
        "colab": {
          "base_uri": "https://localhost:8080/"
        },
        "id": "KaAqthKo45Da",
        "outputId": "1ee6713f-b0ca-4c06-fca3-1985fa9472be"
      },
      "execution_count": 47,
      "outputs": [
        {
          "output_type": "stream",
          "name": "stderr",
          "text": [
            "/usr/local/lib/python3.10/dist-packages/ipykernel/ipkernel.py:283: DeprecationWarning: `should_run_async` will not call `transform_cell` automatically in the future. Please pass the result to `transformed_cell` argument and any exception that happen during thetransform in `preprocessing_exc_tuple` in IPython 7.17 and above.\n",
            "  and should_run_async(code)\n"
          ]
        },
        {
          "output_type": "stream",
          "name": "stdout",
          "text": [
            "[[('well', 1), ('comfortable', 1), ('fit', 1)], [('love', 1), ('realize', 1), ('got', 1), ('pocket', 1), ('sweat', 1), ('dis', 1)], [('like', 1), ('one', 1), ('size', 2), ('large', 1), ('however', 1), ('im', 1), ('look', 1), ('short', 1), ('would', 1), ('quality', 1), ('really', 1), ('waist', 1), ('got', 1), ('get', 1), ('made', 1), ('al', 2), ('sizing', 1), ('smaller', 1), ('long', 1), ('leg', 2), ('room', 1), ('actually', 1), ('amount', 1), ('elastic', 1), ('extra', 1), ('hold', 1), ('based', 1), ('pair', 1), ('bigger', 1), ('listed', 1), ('experience', 1), ('nicely', 1), ('past', 1), ('soon', 1), ('accommodate', 1), ('sweat', 1), ('thankfully', 1), ('eg', 1), ('gigantic', 1), ('hulk', 1), ('roll', 1)], [('fit', 1), ('nice', 1), ('easy', 1), ('expected', 1), ('color', 1), ('lighter', 1), ('due', 1), ('possibly', 1), ('stain', 1)], [('baggy', 1), ('pant', 1)], [('fit', 1), ('great', 1)], [('fit', 1), ('fabric', 1), ('quality', 1), ('nothing', 1), ('fleece', 1), ('want', 1), ('paid', 1), ('time', 1), ('pair', 1), ('go', 1), ('appear', 1), ('hey', 1), ('fall', 1), ('red', 1), ('causing', 1), ('clothing', 2), ('sweatpants', 2), ('carpet', 1), ('ditch', 1), ('flake', 1), ('ordinary', 1), ('special', 1), ('tends', 1)], [('comfortable', 1), ('fabric', 1), ('la', 1), ('woman', 1), ('little', 1), ('long', 1), ('much', 1), ('wanted', 1), ('heavy', 1)], [('fit', 1), ('big', 1), ('may', 1), ('enough', 1), ('somewhat', 1), ('bad', 1), ('reading', 1), ('prior', 1), ('description', 1), ('does', 1), (\"n't\", 1), ('ordering', 1), ('pocket', 1), ('figure', 1), ('thoroughly', 1)], [('great', 1), ('item', 1)], [('wear', 1), ('leg', 1), ('wide', 1), ('people', 1), ('pant', 1), ('heavy', 1), ('designed', 1), ('must', 1), ('sweatpants', 1), ('lounging', 1), ('gym', 1), ('youd', 1)], [('like', 2), ('ordered', 1), ('large', 1), ('im', 1), ('there', 1), ('vibe', 1), ('loose', 1), ('long', 1), ('amazing', 1), ('expectation', 1), ('sweat', 1), ('boyfriend', 1), ('sweatpants', 2), ('bro', 1), ('college', 1), ('exceeded', 1), ('flattering', 1), ('legit', 1), ('nonsense', 1), ('oversized', 1), ('remind', 1), ('ultimate', 1)]]\n"
          ]
        }
      ]
    },
    {
      "cell_type": "code",
      "source": [
        "reviews_corpus = dict(id2word)"
      ],
      "metadata": {
        "colab": {
          "base_uri": "https://localhost:8080/"
        },
        "id": "4G8C1Mah53V-",
        "outputId": "7e974513-3998-40cc-8b88-85ec41dc2ad4"
      },
      "execution_count": 48,
      "outputs": [
        {
          "output_type": "stream",
          "name": "stderr",
          "text": [
            "/usr/local/lib/python3.10/dist-packages/ipykernel/ipkernel.py:283: DeprecationWarning: `should_run_async` will not call `transform_cell` automatically in the future. Please pass the result to `transformed_cell` argument and any exception that happen during thetransform in `preprocessing_exc_tuple` in IPython 7.17 and above.\n",
            "  and should_run_async(code)\n"
          ]
        }
      ]
    },
    {
      "cell_type": "markdown",
      "source": [
        "tried num_topics=10: can't visulize, some topic empty\n",
        "\n",
        "tried num_topics=5: three topics overlap together\n",
        "\n",
        "choosed num_topic=3"
      ],
      "metadata": {
        "id": "h7pj-Cjjd4WG"
      }
    },
    {
      "cell_type": "code",
      "source": [
        "# takes 16 mins to run\n",
        "\n",
        "\n",
        "# Build LDA model\n",
        "def build_lda_model(corpus, id2word, num_topics = 3):\n",
        "  lda_model = gensim.models.ldamodel.LdaModel(corpus=corpus,\n",
        "                                            id2word=id2word,\n",
        "                                            num_topics=num_topics,\n",
        "                                            random_state=42,\n",
        "                                            update_every=1,\n",
        "                                            chunksize=5,\n",
        "                                            passes=10,\n",
        "                                            alpha='auto',\n",
        "                                            per_word_topics=True)\n",
        "  return lda_model\n",
        "\n",
        "lda_model = build_lda_model(corpus, id2word)"
      ],
      "metadata": {
        "colab": {
          "base_uri": "https://localhost:8080/"
        },
        "id": "hnMULQtk59dv",
        "outputId": "95877b76-c03c-48d3-ad43-8e931ce139ca"
      },
      "execution_count": 29,
      "outputs": [
        {
          "output_type": "stream",
          "name": "stderr",
          "text": [
            "/usr/local/lib/python3.10/dist-packages/ipykernel/ipkernel.py:283: DeprecationWarning: `should_run_async` will not call `transform_cell` automatically in the future. Please pass the result to `transformed_cell` argument and any exception that happen during thetransform in `preprocessing_exc_tuple` in IPython 7.17 and above.\n",
            "  and should_run_async(code)\n"
          ]
        }
      ]
    },
    {
      "cell_type": "code",
      "source": [
        "\n",
        "lda_model.print_topics()"
      ],
      "metadata": {
        "colab": {
          "base_uri": "https://localhost:8080/"
        },
        "id": "Ay6Bi63B8r5Q",
        "outputId": "8335ce4f-917e-402c-f6e5-a2d25a38083c"
      },
      "execution_count": 30,
      "outputs": [
        {
          "output_type": "stream",
          "name": "stderr",
          "text": [
            "/usr/local/lib/python3.10/dist-packages/ipykernel/ipkernel.py:283: DeprecationWarning: `should_run_async` will not call `transform_cell` automatically in the future. Please pass the result to `transformed_cell` argument and any exception that happen during thetransform in `preprocessing_exc_tuple` in IPython 7.17 and above.\n",
            "  and should_run_async(code)\n"
          ]
        },
        {
          "output_type": "execute_result",
          "data": {
            "text/plain": [
              "[(0,\n",
              "  '0.025*\"good\" + 0.018*\"time\" + 0.017*\"get\" + 0.013*\"product\" + 0.012*\"even\" + 0.011*\"could\" + 0.010*\"much\" + 0.010*\"see\" + 0.009*\"bag\" + 0.009*\"back\"'),\n",
              " (1,\n",
              "  '0.103*\"!\" + 0.042*\"like\" + 0.038*\"size\" + 0.029*\"wear\" + 0.020*\"one\" + 0.020*\"well\" + 0.019*\"little\" + 0.018*\"bought\" + 0.017*\"would\" + 0.016*\"ordered\"'),\n",
              " (2,\n",
              "  '0.053*\"fit\" + 0.050*\"love\" + 0.037*\"great\" + 0.025*\"look\" + 0.024*\"small\" + 0.024*\"nice\" + 0.022*\"quality\" + 0.019*\"cute\" + 0.019*\"color\" + 0.018*\"perfect\"')]"
            ]
          },
          "metadata": {},
          "execution_count": 30
        }
      ]
    },
    {
      "cell_type": "code",
      "source": [
        "doc_lda = lda_model[corpus]"
      ],
      "metadata": {
        "colab": {
          "base_uri": "https://localhost:8080/"
        },
        "id": "eZRV4MTP6YXj",
        "outputId": "f54a2d65-25fb-4158-ed0a-2f74d0d0596e"
      },
      "execution_count": 31,
      "outputs": [
        {
          "output_type": "stream",
          "name": "stderr",
          "text": [
            "/usr/local/lib/python3.10/dist-packages/ipykernel/ipkernel.py:283: DeprecationWarning: `should_run_async` will not call `transform_cell` automatically in the future. Please pass the result to `transformed_cell` argument and any exception that happen during thetransform in `preprocessing_exc_tuple` in IPython 7.17 and above.\n",
            "  and should_run_async(code)\n"
          ]
        }
      ]
    },
    {
      "cell_type": "markdown",
      "source": [
        "### Visualize result"
      ],
      "metadata": {
        "id": "vlXwilZT-MJz"
      }
    },
    {
      "cell_type": "code",
      "source": [
        "!pip install pyLDAvis==3.2.1"
      ],
      "metadata": {
        "id": "j3yagd3--Je2"
      },
      "execution_count": null,
      "outputs": []
    },
    {
      "cell_type": "code",
      "source": [
        "# Plotting tools\n",
        "import pyLDAvis\n",
        "import pyLDAvis.gensim"
      ],
      "metadata": {
        "colab": {
          "base_uri": "https://localhost:8080/"
        },
        "id": "YviEk9N36Zbj",
        "outputId": "15d97d5f-088f-4ee5-fdd8-081e63656fa9"
      },
      "execution_count": 27,
      "outputs": [
        {
          "output_type": "stream",
          "name": "stderr",
          "text": [
            "/usr/local/lib/python3.10/dist-packages/ipykernel/ipkernel.py:283: DeprecationWarning: `should_run_async` will not call `transform_cell` automatically in the future. Please pass the result to `transformed_cell` argument and any exception that happen during thetransform in `preprocessing_exc_tuple` in IPython 7.17 and above.\n",
            "  and should_run_async(code)\n"
          ]
        }
      ]
    },
    {
      "cell_type": "code",
      "source": [
        "# Visualize the topics\n",
        "pyLDAvis.enable_notebook()\n",
        "vis = pyLDAvis.gensim.prepare(lda_model, corpus, id2word, n_jobs=1)\n",
        "pyLDAvis.display(vis)"
      ],
      "metadata": {
        "colab": {
          "base_uri": "https://localhost:8080/",
          "height": 952
        },
        "id": "ChJu-UjN6eFa",
        "outputId": "34db4afb-d008-4950-9f6d-c645905a769e"
      },
      "execution_count": 32,
      "outputs": [
        {
          "output_type": "stream",
          "name": "stderr",
          "text": [
            "/usr/local/lib/python3.10/dist-packages/ipykernel/ipkernel.py:283: DeprecationWarning: `should_run_async` will not call `transform_cell` automatically in the future. Please pass the result to `transformed_cell` argument and any exception that happen during thetransform in `preprocessing_exc_tuple` in IPython 7.17 and above.\n",
            "  and should_run_async(code)\n",
            "/usr/local/lib/python3.10/dist-packages/pyLDAvis/_prepare.py:248: FutureWarning: In a future version of pandas all arguments of DataFrame.drop except for the argument 'labels' will be keyword-only.\n",
            "  by='saliency', ascending=False).head(R).drop('saliency', 1)\n"
          ]
        },
        {
          "output_type": "execute_result",
          "data": {
            "text/plain": [
              "<IPython.core.display.HTML object>"
            ],
            "text/html": [
              "\n",
              "<link rel=\"stylesheet\" type=\"text/css\" href=\"https://cdn.jsdelivr.net/gh/bmabey/pyLDAvis/pyLDAvis/js/ldavis.v1.0.0.css\">\n",
              "\n",
              "\n",
              "<div id=\"ldavis_el5271388493195596641142149230\"></div>\n",
              "<script type=\"text/javascript\">\n",
              "\n",
              "var ldavis_el5271388493195596641142149230_data = {\"mdsDat\": {\"x\": [-0.3431644614374833, 0.24494670295735724, 0.09821775848012608], \"y\": [-0.08023452640935126, -0.24135724213631782, 0.32159176854566907], \"topics\": [1, 2, 3], \"cluster\": [1, 1, 1], \"Freq\": [37.20044895271359, 31.776045503471938, 31.023505543814466]}, \"tinfo\": {\"Term\": [\"!\", \"fit\", \"love\", \"like\", \"size\", \"great\", \"wear\", \"look\", \"small\", \"good\", \"nice\", \"quality\", \"one\", \"well\", \"cute\", \"little\", \"color\", \"perfect\", \"time\", \"bought\", \"shirt\", \"get\", \"ordered\", \"comfortable\", \"really\", \"dress\", \"im\", \"beautiful\", \"product\", \"even\", \"fit\", \"love\", \"great\", \"look\", \"small\", \"nice\", \"quality\", \"cute\", \"color\", \"perfect\", \"shirt\", \"dress\", \"really\", \"material\", \"large\", \"soft\", \"fabric\", \"made\", \"top\", \"price\", \"expected\", \"way\", \"picture\", \"long\", \"bit\", \"feel\", \"short\", \"buy\", \"right\", \"also\", \"came\", \"around\", \"!\", \"size\", \"like\", \"wear\", \"one\", \"well\", \"little\", \"bought\", \"ordered\", \"comfortable\", \"beautiful\", \"im\", \"got\", \"big\", \"super\", \"loved\", \"order\", \"daughter\", \"gift\", \"pretty\", \"tight\", \"compliment\", \"suit\", \"smaller\", \"i\", \"thin\", \"wanted\", \"son\", \"purchased\", \"perfectly\", \"pair\", \"would\", \"good\", \"time\", \"get\", \"product\", \"even\", \"could\", \"much\", \"bag\", \"see\", \"back\", \"work\", \"year\", \"use\", \"make\", \"keep\", \"two\", \"ive\", \"first\", \"put\", \"day\", \"n't\", \"purse\", \"enough\", \"hole\", \"star\", \"hold\", \"month\", \"thing\", \"worth\", \"disappointed\", \"piece\", \"almost\", \"would\"], \"Freq\": [21961.0, 13132.0, 12466.0, 8853.0, 8190.0, 9331.0, 6247.0, 6201.0, 6100.0, 5128.0, 5986.0, 5402.0, 4362.0, 4360.0, 4739.0, 4031.0, 4632.0, 4524.0, 3749.0, 3801.0, 4347.0, 3557.0, 3338.0, 3158.0, 3451.0, 3293.0, 2759.0, 2712.0, 2646.0, 2539.0, 13131.538198071166, 12466.055962020659, 9330.794894162784, 6200.41610990105, 6099.491278416498, 5985.823654237708, 5401.602902411765, 4738.991614443758, 4631.322237666068, 4523.44666532891, 4346.212293877918, 3292.4538346543177, 3450.4723124974585, 2890.3648310189387, 2817.294744036886, 2607.9358939082845, 2369.9996860102187, 2686.115358244541, 2432.069657858626, 2402.0168872683744, 2320.3736626161453, 2287.2177417367834, 2127.7440526648293, 2011.031328748581, 1791.8440558208786, 1769.0887039776994, 1640.4922194305589, 1618.746947186125, 1687.2173406574775, 1696.0798022770884, 1799.5258853209905, 1706.8096340422414, 21960.527570500082, 8189.297578896008, 8852.8780298464, 6246.795749527096, 4361.949603771515, 4359.211669861391, 4030.446579709088, 3800.6588714627756, 3337.8449020228522, 3157.545884729535, 2711.221798614729, 2758.9236128221205, 2366.8484620708423, 2376.8552891958493, 2153.0502164559903, 1860.8979511567445, 1880.5857270081542, 1869.7692616463225, 1760.9018769469, 1770.5479172142923, 1838.4567706008759, 1680.436490522918, 1813.3060192578291, 1576.4038282247006, 1346.302638049603, 1366.6459392250465, 1345.1315187528535, 1368.5484502411225, 1318.5161988794996, 1179.7603304156896, 1416.4603102331291, 3540.2163792737383, 5128.09629542407, 3749.075312442949, 3556.862071215795, 2645.897758782888, 2538.3516811753025, 2321.932468391998, 2140.5016425232657, 1898.1921233337255, 2044.9761542257504, 1821.0608961392993, 1760.4068324374955, 1697.8987997940146, 1474.2347976822687, 1448.4882735968183, 1527.0331182211844, 1524.265526398075, 1557.075877416312, 1315.6044590811255, 1235.8612348039946, 1190.1189953489343, 1060.7174240433635, 1046.6039063520896, 1160.553477271079, 1231.930313294534, 978.7491078376406, 984.2993958892754, 921.3253536094726, 969.6095870375217, 1056.7605539399835, 913.1730412556323, 1032.3027454704577, 1018.3413368875696, 1189.5978933620895], \"Total\": [21961.0, 13132.0, 12466.0, 8853.0, 8190.0, 9331.0, 6247.0, 6201.0, 6100.0, 5128.0, 5986.0, 5402.0, 4362.0, 4360.0, 4739.0, 4031.0, 4632.0, 4524.0, 3749.0, 3801.0, 4347.0, 3557.0, 3338.0, 3158.0, 3451.0, 3293.0, 2759.0, 2712.0, 2646.0, 2539.0, 13132.431642492895, 12466.989183826916, 9331.687068501753, 6201.294566340166, 6100.361710231822, 5986.72857428568, 5402.511623970432, 4739.888512673109, 4632.228892672853, 4524.3661359836415, 4347.1123803021355, 3293.30665301802, 3451.3878260059346, 2891.205528545163, 2818.2203909485233, 2608.8891457778727, 2370.8685681774364, 2687.10623582989, 2432.9749620663656, 2402.9186104182345, 2321.2459303470964, 2288.122575160009, 2128.649725486036, 2011.91667716745, 1792.7275262053213, 1770.0107254297445, 1641.36540998903, 1619.651056015345, 1688.2003800182706, 1697.0780463178494, 1800.6500688869874, 1707.8515164758874, 21961.383362917542, 8190.168635183699, 8853.840781738496, 6247.71248109093, 4362.90035778517, 4360.168472087937, 4031.3954363828493, 3801.5558856935104, 3338.718867930277, 3158.4624759083713, 2712.124130443465, 2759.8478411216374, 2367.7216097213773, 2377.7359210660757, 2153.939522220966, 1861.741679478897, 1881.4578113743519, 1870.6457293989051, 1761.7769060651924, 1771.4413081108992, 1839.4199137862909, 1681.396884641734, 1814.3986515491715, 1577.3570141021855, 1347.1700082941047, 1367.5646821418984, 1346.0655311103146, 1369.5271448903782, 1319.4654731158273, 1180.649245986163, 1417.553790294867, 4730.270052091959, 5128.997707355632, 3749.9692428431476, 3557.737106250254, 2646.763971764509, 2539.2604429214025, 2322.825590237502, 2141.408434169982, 1898.9964615240158, 2045.9074586752756, 1821.9127021199008, 1761.3089276940607, 1698.8401808480266, 1475.070120736099, 1449.356956785875, 1527.9621442657794, 1525.1983529866836, 1558.0400899426381, 1316.4654530629175, 1236.6976553093766, 1190.9711393649027, 1061.555738324014, 1047.4341953555663, 1161.49920603732, 1232.9610242876317, 979.5762873383064, 985.1502907360997, 922.1224224676374, 970.4566438462554, 1057.6997065871126, 913.9939406732377, 1033.3100085693884, 1019.281555308575, 4730.270052091959], \"Category\": [\"Default\", \"Default\", \"Default\", \"Default\", \"Default\", \"Default\", \"Default\", \"Default\", \"Default\", \"Default\", \"Default\", \"Default\", \"Default\", \"Default\", \"Default\", \"Default\", \"Default\", \"Default\", \"Default\", \"Default\", \"Default\", \"Default\", \"Default\", \"Default\", \"Default\", \"Default\", \"Default\", \"Default\", \"Default\", \"Default\", \"Topic1\", \"Topic1\", \"Topic1\", \"Topic1\", \"Topic1\", \"Topic1\", \"Topic1\", \"Topic1\", \"Topic1\", \"Topic1\", \"Topic1\", \"Topic1\", \"Topic1\", \"Topic1\", \"Topic1\", \"Topic1\", \"Topic1\", \"Topic1\", \"Topic1\", \"Topic1\", \"Topic1\", \"Topic1\", \"Topic1\", \"Topic1\", \"Topic1\", \"Topic1\", \"Topic1\", \"Topic1\", \"Topic1\", \"Topic1\", \"Topic1\", \"Topic1\", \"Topic2\", \"Topic2\", \"Topic2\", \"Topic2\", \"Topic2\", \"Topic2\", \"Topic2\", \"Topic2\", \"Topic2\", \"Topic2\", \"Topic2\", \"Topic2\", \"Topic2\", \"Topic2\", \"Topic2\", \"Topic2\", \"Topic2\", \"Topic2\", \"Topic2\", \"Topic2\", \"Topic2\", \"Topic2\", \"Topic2\", \"Topic2\", \"Topic2\", \"Topic2\", \"Topic2\", \"Topic2\", \"Topic2\", \"Topic2\", \"Topic2\", \"Topic2\", \"Topic3\", \"Topic3\", \"Topic3\", \"Topic3\", \"Topic3\", \"Topic3\", \"Topic3\", \"Topic3\", \"Topic3\", \"Topic3\", \"Topic3\", \"Topic3\", \"Topic3\", \"Topic3\", \"Topic3\", \"Topic3\", \"Topic3\", \"Topic3\", \"Topic3\", \"Topic3\", \"Topic3\", \"Topic3\", \"Topic3\", \"Topic3\", \"Topic3\", \"Topic3\", \"Topic3\", \"Topic3\", \"Topic3\", \"Topic3\", \"Topic3\", \"Topic3\", \"Topic3\"], \"logprob\": [30.0, 29.0, 28.0, 27.0, 26.0, 25.0, 24.0, 23.0, 22.0, 21.0, 20.0, 19.0, 18.0, 17.0, 16.0, 15.0, 14.0, 13.0, 12.0, 11.0, 10.0, 9.0, 8.0, 7.0, 6.0, 5.0, 4.0, 3.0, 2.0, 1.0, -2.9437, -2.9957, -3.2854, -3.6941, -3.7106, -3.7294, -3.8321, -3.9629, -3.9859, -4.0095, -4.0495, -4.3271, -4.2802, -4.4574, -4.483, -4.5602, -4.6559, -4.5307, -4.63, -4.6424, -4.677, -4.6914, -4.7637, -4.8201, -4.9355, -4.9483, -5.0238, -5.0371, -4.9957, -4.9904, -4.9312, -4.9841, -2.2719, -3.2583, -3.1804, -3.5291, -3.8882, -3.8889, -3.9673, -4.026, -4.1558, -4.2114, -4.3638, -4.3463, -4.4996, -4.4954, -4.5943, -4.7401, -4.7296, -4.7353, -4.7953, -4.7899, -4.7522, -4.8421, -4.766, -4.906, -5.0638, -5.0488, -5.0647, -5.0474, -5.0846, -5.1958, -5.013, -4.097, -3.7024, -4.0157, -4.0683, -4.3642, -4.4057, -4.4948, -4.5761, -4.6963, -4.6218, -4.7378, -4.7716, -4.8078, -4.949, -4.9667, -4.9139, -4.9157, -4.8944, -5.0629, -5.1254, -5.1631, -5.2782, -5.2916, -5.1883, -5.1286, -5.3587, -5.353, -5.4191, -5.368, -5.282, -5.428, -5.3054, -5.319, -5.1636], \"loglift\": [30.0, 29.0, 28.0, 27.0, 26.0, 25.0, 24.0, 23.0, 22.0, 21.0, 20.0, 19.0, 18.0, 17.0, 16.0, 15.0, 14.0, 13.0, 12.0, 11.0, 10.0, 9.0, 8.0, 7.0, 6.0, 5.0, 4.0, 3.0, 2.0, 1.0, 0.9888, 0.9888, 0.9888, 0.9887, 0.9887, 0.9887, 0.9887, 0.9887, 0.9887, 0.9886, 0.9886, 0.9886, 0.9886, 0.9886, 0.9885, 0.9885, 0.9885, 0.9885, 0.9885, 0.9885, 0.9885, 0.9885, 0.9884, 0.9884, 0.9884, 0.9883, 0.9883, 0.9883, 0.9883, 0.9883, 0.9882, 0.9882, 1.1464, 1.1464, 1.1463, 1.1463, 1.1462, 1.1462, 1.1462, 1.1462, 1.1462, 1.1462, 1.1461, 1.1461, 1.1461, 1.1461, 1.146, 1.146, 1.146, 1.146, 1.146, 1.146, 1.1459, 1.1459, 1.1459, 1.1459, 1.1458, 1.1458, 1.1458, 1.1457, 1.1457, 1.1457, 1.1457, 0.8567, 1.1702, 1.1702, 1.1702, 1.1701, 1.1701, 1.17, 1.17, 1.17, 1.17, 1.17, 1.1699, 1.1699, 1.1699, 1.1698, 1.1698, 1.1698, 1.1698, 1.1698, 1.1697, 1.1697, 1.1696, 1.1696, 1.1696, 1.1696, 1.1696, 1.1696, 1.1696, 1.1696, 1.1695, 1.1695, 1.1694, 1.1695, -0.2099]}, \"token.table\": {\"Topic\": [2, 3, 1, 3, 1, 3, 3, 3, 2, 2, 1, 2, 1, 1, 3, 1, 2, 2, 3, 3, 1, 2, 3, 3, 1, 3, 3, 1, 1, 1, 3, 1, 3, 2, 3, 2, 1, 3, 1, 3, 2, 2, 3, 3, 1, 2, 2, 1, 1, 1, 2, 1, 3, 3, 1, 3, 3, 3, 1, 2, 3, 2, 2, 2, 3, 1, 2, 1, 2, 3, 2, 1, 3, 2, 3, 3, 1, 1, 1, 3, 3, 1, 1, 2, 1, 2, 1, 2, 3, 3, 1, 2, 3, 2, 2, 3, 1, 2, 3, 1, 3, 3, 2, 1, 2, 2, 3, 3, 2, 3, 3], \"Freq\": [0.9999825437718923, 0.9987426876294382, 0.9993647632646074, 0.0005892480915475279, 0.9995014107094952, 0.0005855309963148771, 0.9994990417933642, 0.9994752694150804, 0.9995855165953332, 0.9996904950379243, 0.9995941791517748, 0.9998537741624154, 0.999598026986784, 0.9996389810001289, 0.0005553549894445161, 0.999734708128349, 0.9998535756204486, 0.9991692118294655, 0.0005947435784699199, 0.9996445750206249, 0.9998125456599383, 0.9996548093587381, 0.9991845819492985, 0.9989125303472958, 0.9996032397964452, 0.9995702054424789, 0.9995036181007284, 0.9994632493133073, 0.9996336497986035, 0.9994289721439404, 0.9996464373130076, 0.9999671315637008, 0.9997928159871737, 0.9995590213139258, 0.9998054771297321, 0.9996952303351819, 0.99992637253085, 0.9988323703023625, 0.0008110556459623452, 0.9992205558256093, 0.9991315065753384, 0.9996927942515509, 0.9993324369832638, 0.9993703088329837, 0.999566963977536, 0.9999050376261306, 0.9996538577262216, 0.9995443761772776, 0.9997912425661583, 0.9999206557563876, 0.9996016206291818, 0.999588317047112, 0.00037214754916124797, 0.9990637525286495, 0.9995830360265776, 0.9987827836735238, 0.9998092684405906, 0.9994764869107189, 0.9998783017675447, 0.9997936332000883, 0.00022920532627237236, 0.9997566719957343, 0.9997846874928038, 0.9989038932381227, 0.0007054406025692957, 0.9996980491979249, 0.99945009410003, 0.9996947710662506, 0.0009677637801887684, 0.998732221154809, 0.99975087624474, 0.9996177105565491, 0.9997113562929454, 0.9996472259977155, 0.9995854676527732, 0.9994358723764201, 0.9999052988672598, 0.9995978933472855, 0.9992889588034226, 0.0005923467449931373, 0.9995564517488669, 0.9997441105256041, 0.9991681255248098, 0.9998573124393705, 0.9997767820505564, 0.9991396912112773, 0.9996591860641869, 0.9996150898561267, 0.0007301790283828536, 0.9994116973371494, 0.0005511467940885974, 0.9992291376826271, 0.0005511467940885974, 0.999563812163121, 0.9995870892621956, 0.9995294546653362, 0.0005436496541681906, 0.9992280643611343, 0.9997415331219056, 0.9995992716400429, 0.9992142969572863, 0.9992745289047242, 0.9992084106711835, 0.9995093902869558, 0.9998859612869372, 0.999732012169847, 0.9992568437748315, 0.9993384638543861, 0.7483716491903961, 0.25157126060355123, 0.9995054385589072], \"Term\": [\"!\", \"almost\", \"also\", \"also\", \"around\", \"around\", \"back\", \"bag\", \"beautiful\", \"big\", \"bit\", \"bought\", \"buy\", \"came\", \"came\", \"color\", \"comfortable\", \"compliment\", \"compliment\", \"could\", \"cute\", \"daughter\", \"day\", \"disappointed\", \"dress\", \"enough\", \"even\", \"expected\", \"fabric\", \"feel\", \"first\", \"fit\", \"get\", \"gift\", \"good\", \"got\", \"great\", \"hold\", \"hole\", \"hole\", \"i\", \"im\", \"ive\", \"keep\", \"large\", \"like\", \"little\", \"long\", \"look\", \"love\", \"loved\", \"made\", \"made\", \"make\", \"material\", \"month\", \"much\", \"n't\", \"nice\", \"one\", \"one\", \"order\", \"ordered\", \"pair\", \"pair\", \"perfect\", \"perfectly\", \"picture\", \"piece\", \"piece\", \"pretty\", \"price\", \"product\", \"purchased\", \"purse\", \"put\", \"quality\", \"really\", \"right\", \"right\", \"see\", \"shirt\", \"short\", \"size\", \"small\", \"smaller\", \"soft\", \"son\", \"son\", \"star\", \"suit\", \"suit\", \"suit\", \"super\", \"thin\", \"thing\", \"tight\", \"tight\", \"time\", \"top\", \"two\", \"use\", \"wanted\", \"way\", \"wear\", \"well\", \"work\", \"worth\", \"would\", \"would\", \"year\"]}, \"R\": 30, \"lambda.step\": 0.01, \"plot.opts\": {\"xlab\": \"PC1\", \"ylab\": \"PC2\"}, \"topic.order\": [3, 2, 1]};\n",
              "\n",
              "function LDAvis_load_lib(url, callback){\n",
              "  var s = document.createElement('script');\n",
              "  s.src = url;\n",
              "  s.async = true;\n",
              "  s.onreadystatechange = s.onload = callback;\n",
              "  s.onerror = function(){console.warn(\"failed to load library \" + url);};\n",
              "  document.getElementsByTagName(\"head\")[0].appendChild(s);\n",
              "}\n",
              "\n",
              "if(typeof(LDAvis) !== \"undefined\"){\n",
              "   // already loaded: just create the visualization\n",
              "   !function(LDAvis){\n",
              "       new LDAvis(\"#\" + \"ldavis_el5271388493195596641142149230\", ldavis_el5271388493195596641142149230_data);\n",
              "   }(LDAvis);\n",
              "}else if(typeof define === \"function\" && define.amd){\n",
              "   // require.js is available: use it to load d3/LDAvis\n",
              "   require.config({paths: {d3: \"https://d3js.org/d3.v5\"}});\n",
              "   require([\"d3\"], function(d3){\n",
              "      window.d3 = d3;\n",
              "      LDAvis_load_lib(\"https://cdn.jsdelivr.net/gh/bmabey/pyLDAvis/pyLDAvis/js/ldavis.v3.0.0.js\", function(){\n",
              "        new LDAvis(\"#\" + \"ldavis_el5271388493195596641142149230\", ldavis_el5271388493195596641142149230_data);\n",
              "      });\n",
              "    });\n",
              "}else{\n",
              "    // require.js not available: dynamically load d3 & LDAvis\n",
              "    LDAvis_load_lib(\"https://d3js.org/d3.v5.js\", function(){\n",
              "         LDAvis_load_lib(\"https://cdn.jsdelivr.net/gh/bmabey/pyLDAvis/pyLDAvis/js/ldavis.v3.0.0.js\", function(){\n",
              "                 new LDAvis(\"#\" + \"ldavis_el5271388493195596641142149230\", ldavis_el5271388493195596641142149230_data);\n",
              "            })\n",
              "         });\n",
              "}\n",
              "</script>"
            ]
          },
          "metadata": {},
          "execution_count": 32
        }
      ]
    },
    {
      "cell_type": "markdown",
      "source": [
        "\n",
        "Each bubble on the left-hand side plot represents a topic. The larger the bubble, the more prevalent is that topic.\n",
        "\n",
        "A good topic model will have fairly big, non-overlapping bubbles scattered throughout the chart instead of being clustered in one quadrant.\n",
        "\n",
        "(A model with too many topics, will typically have many overlaps, small sized bubbles clustered in one region of the chart. )"
      ],
      "metadata": {
        "id": "nDiaiHz5ReLU"
      }
    },
    {
      "cell_type": "markdown",
      "source": [
        "## 1.2 LDA Topic modeling for each category"
      ],
      "metadata": {
        "id": "DMVPrqlwHeej"
      }
    },
    {
      "cell_type": "markdown",
      "source": [
        "### Build model and visualization"
      ],
      "metadata": {
        "id": "Thgys3dusT0X"
      }
    },
    {
      "cell_type": "code",
      "source": [
        "import warnings\n",
        "\n",
        "# Ignore specific DeprecationWarnings\n",
        "warnings.filterwarnings(\"ignore\", category=DeprecationWarning, module='ipykernel')"
      ],
      "metadata": {
        "id": "PiMjHH9Yp4IZ"
      },
      "execution_count": null,
      "outputs": []
    },
    {
      "cell_type": "code",
      "source": [
        "def get_corpus_id2word(text_data):\n",
        "  # Create Dictionary\n",
        "  cur_id2word = corpora.Dictionary(text_data['tokenized_text'])\n",
        "  # Create Corpus\n",
        "  texts = text_data['tokenized_text']\n",
        "  # Term Document Frequency\n",
        "  cur_corpus = [cur_id2word.doc2bow(text) for text in texts]\n",
        "  return cur_corpus, cur_id2word\n",
        "\n",
        "def get_data(category, rating_filter=False):\n",
        "  '''get only this category's data'''\n",
        "  # filter category\n",
        "  filtered_df = df[df['category'] == category]\n",
        "  # filter only rating 4 and 5\n",
        "  if rating_filter:\n",
        "    filtered_df = filtered_df[filtered_df['overall'].isin([4, 5])]\n",
        "  return filtered_df\n",
        "\n"
      ],
      "metadata": {
        "id": "Niuas9yh7td3"
      },
      "execution_count": 124,
      "outputs": []
    },
    {
      "cell_type": "code",
      "source": [
        "print(df.category.unique())\n"
      ],
      "metadata": {
        "colab": {
          "base_uri": "https://localhost:8080/"
        },
        "id": "x0_XUIPU8FV9",
        "outputId": "bf9d177e-05a4-40a8-f545-f98328a15355"
      },
      "execution_count": 122,
      "outputs": [
        {
          "output_type": "stream",
          "name": "stdout",
          "text": [
            "['Clothing,ShoesJewelry' nan 'Clothing,Shoesamp;Jewelry' 'SportsOutdoors'\n",
            " 'HealthHousehold' ' Tools & Home Improvement ' 'Books' 'AmazonLaunchpad'\n",
            " 'CellPhonesAccessories' 'BeautyPersonalCare' ' Home & Kitchen '\n",
            " ' Arts, Crafts & Sewing ' ' Toys & Games ' ' Office Products '\n",
            " 'IndustrialScientific' ' Kitchen & Dining ' 'Electronics' 'Baby'\n",
            " ' Automotive ' 'Arts,CraftsSewing' 'HomeKitchen']\n"
          ]
        }
      ]
    },
    {
      "cell_type": "code",
      "source": [
        "category = 'SportsOutdoors'\n",
        "\n",
        "cur_corpus, cur_id2word = get_corpus_id2word(get_data(category))\n",
        "cur_lda_model = build_lda_model(cur_corpus, cur_id2word, num_topics = 3)"
      ],
      "metadata": {
        "id": "LfT7JizAf1b1"
      },
      "execution_count": 128,
      "outputs": []
    },
    {
      "cell_type": "code",
      "source": [
        "cur_lda_model.print_topics()"
      ],
      "metadata": {
        "colab": {
          "base_uri": "https://localhost:8080/"
        },
        "id": "oI2EukcjghtA",
        "outputId": "c6b5972b-0089-4c18-d090-bbdc9c0f8467"
      },
      "execution_count": 129,
      "outputs": [
        {
          "output_type": "execute_result",
          "data": {
            "text/plain": [
              "[(0,\n",
              "  '0.056*\"great\" + 0.028*\"quality\" + 0.021*\"product\" + 0.019*\"make\" + 0.018*\"price\" + 0.015*\"sock\" + 0.014*\"enough\" + 0.013*\"purse\" + 0.012*\"thats\" + 0.009*\"work\"'),\n",
              " (1,\n",
              "  '0.059*\"!\" + 0.032*\"like\" + 0.031*\"fit\" + 0.018*\"would\" + 0.017*\"love\" + 0.016*\"good\" + 0.015*\"one\" + 0.014*\"well\" + 0.012*\"bag\" + 0.011*\"little\"'),\n",
              " (2,\n",
              "  '0.028*\"lens\" + 0.022*\"look\" + 0.020*\"nice\" + 0.015*\"much\" + 0.013*\"something\" + 0.011*\"buy\" + 0.011*\"get\" + 0.011*\"original\" + 0.011*\"got\" + 0.011*\"made\"')]"
            ]
          },
          "metadata": {},
          "execution_count": 129
        }
      ]
    },
    {
      "cell_type": "code",
      "source": [
        "# Visualize the topics\n",
        "pyLDAvis.enable_notebook()\n",
        "vis = pyLDAvis.gensim.prepare(cur_lda_model, cur_corpus, cur_id2word, n_jobs=1)\n",
        "pyLDAvis.display(vis)\n",
        "\n"
      ],
      "metadata": {
        "colab": {
          "base_uri": "https://localhost:8080/",
          "height": 917
        },
        "id": "4FjhYioUgDy5",
        "outputId": "adc0784b-86b0-42c0-ba6f-6f7232f1c479"
      },
      "execution_count": 130,
      "outputs": [
        {
          "output_type": "stream",
          "name": "stderr",
          "text": [
            "/usr/local/lib/python3.10/dist-packages/pyLDAvis/_prepare.py:248: FutureWarning: In a future version of pandas all arguments of DataFrame.drop except for the argument 'labels' will be keyword-only.\n",
            "  by='saliency', ascending=False).head(R).drop('saliency', 1)\n"
          ]
        },
        {
          "output_type": "execute_result",
          "data": {
            "text/plain": [
              "<IPython.core.display.HTML object>"
            ],
            "text/html": [
              "\n",
              "<link rel=\"stylesheet\" type=\"text/css\" href=\"https://cdn.jsdelivr.net/gh/bmabey/pyLDAvis/pyLDAvis/js/ldavis.v1.0.0.css\">\n",
              "\n",
              "\n",
              "<div id=\"ldavis_el5271388494482914404175717439\"></div>\n",
              "<script type=\"text/javascript\">\n",
              "\n",
              "var ldavis_el5271388494482914404175717439_data = {\"mdsDat\": {\"x\": [0.1652140475692591, -0.10674256160724939, -0.05847148596200982], \"y\": [-0.019336764348874942, -0.08960551204483176, 0.10894227639370666], \"topics\": [1, 2, 3], \"cluster\": [1, 1, 1], \"Freq\": [49.635168227048524, 29.00557891034381, 21.359252862607665]}, \"tinfo\": {\"Term\": [\"!\", \"great\", \"like\", \"fit\", \"lens\", \"quality\", \"look\", \"product\", \"nice\", \"make\", \"price\", \"would\", \"love\", \"good\", \"much\", \"sock\", \"one\", \"well\", \"enough\", \"get\", \"buy\", \"got\", \"made\", \"bag\", \"thats\", \"little\", \"n't\", \"something\", \"size\", \"im\", \"!\", \"fit\", \"like\", \"love\", \"good\", \"would\", \"one\", \"well\", \"size\", \"little\", \"perfect\", \"bag\", \"really\", \"bought\", \"cute\", \"tight\", \"year\", \"glass\", \"time\", \"still\", \"big\", \"small\", \"color\", \"hat\", \"gift\", \"super\", \"last\", \"awesome\", \"daughter\", \"go\", \"old\", \"thanks\", \"say\", \"using\", \"review\", \"new\", \"ever\", \"picture\", \"lens\", \"nice\", \"look\", \"much\", \"made\", \"get\", \"got\", \"n't\", \"pair\", \"im\", \"wear\", \"buy\", \"replacement\", \"another\", \"definitely\", \"never\", \"frame\", \"better\", \"is\", \"star\", \"light\", \"also\", \"looking\", \"comfortable\", \"reason\", \"green\", \"first\", \"loose\", \"even\", \"two\", \"eye\", \"something\", \"valley\", \"original\", \"worth\", \"your\", \"set\", \"purse\", \"scratched\", \"zipper\", \"great\", \"quality\", \"product\", \"price\", \"make\", \"expected\", \"sock\", \"enough\", \"work\", \"feel\", \"hold\", \"material\", \"thats\", \"long\", \"run\", \"pretty\", \"warm\", \"large\", \"shipping\", \"anything\", \"fast\", \"said\", \"amazing\", \"going\", \"arrived\", \"extra\", \"toe\", \"worn\", \"durable\", \"ad\", \"started\", \"purse\", \"mentioned\", \"zipper\", \"ton\", \"compression\", \"cost\", \"highly\", \"wig\", \"party\", \"carry\"], \"Freq\": [170.0, 69.0, 93.0, 88.0, 47.0, 35.0, 36.0, 26.0, 34.0, 24.0, 22.0, 52.0, 49.0, 45.0, 25.0, 19.0, 43.0, 41.0, 17.0, 19.0, 19.0, 18.0, 18.0, 35.0, 16.0, 32.0, 17.0, 25.0, 31.0, 17.0, 169.7611770257735, 87.70647527244056, 92.64817909014513, 49.183369683683274, 45.2014354374926, 51.63238070459166, 43.171837593135706, 41.00164851334709, 30.639564300189583, 32.34653334873625, 27.57906430312561, 34.988498382118415, 27.198321766602472, 21.00262178415464, 20.595389153980534, 26.018006331000038, 21.699457083736664, 18.56867876708911, 17.67159097383603, 19.740104293324347, 15.959568209412003, 13.068601884338031, 10.70369105601902, 14.195484719948073, 13.3120717655764, 11.274841453006628, 20.736093492584864, 18.01164564198165, 10.001350293181979, 12.038802820220292, 16.87416038190853, 16.82972414132815, 17.758761584905397, 12.857938576284553, 17.32532760682686, 18.053294222013577, 16.09352893767762, 23.968552892034953, 47.116649390984875, 33.787743712645494, 36.03520399849299, 24.2615695028553, 17.771651848462025, 18.485240092137673, 18.141860089968464, 16.556429493582527, 11.552515745786359, 16.355896530300488, 11.348804014826776, 18.977028421459657, 12.905060397784691, 11.006958187957908, 8.922741774400132, 13.369820648412027, 7.441619546736398, 7.7725231968052695, 7.218169596910192, 10.431734205365848, 6.836635051589885, 15.896339101231481, 7.25988936750785, 5.565479060221916, 9.965536199984165, 6.627023782868678, 10.1000086479009, 4.606817781696304, 3.615481990647647, 7.849986996904226, 10.926489799232233, 21.59477781765862, 17.55456565467129, 18.450552023131998, 9.238619370995215, 9.820991692936506, 9.175645868271753, 13.975699366364111, 7.992880690894296, 8.235155197155345, 69.28792798785797, 34.99791412603641, 26.400615301294756, 21.853452291872628, 23.422787874630696, 11.205399804976993, 18.670066681475905, 16.699252758352397, 11.501684393288352, 6.084782199531506, 10.980733911862009, 6.255269691497664, 14.176509471782696, 3.5038442854537477, 2.212717409383395, 8.785210577915603, 3.2724832502364927, 1.6552286587513207, 4.245438135020224, 7.369688906377402, 6.754985821868151, 6.964211517695324, 3.822890352807858, 3.9788641165836154, 0.9303777462781225, 2.753893318163718, 0.8484123581495477, 1.9812633264354045, 1.944895263001742, 0.9565825639594884, 4.676988070455669, 15.710948433605909, 4.161708919792801, 10.631938337736594, 4.5468248882836715, 4.328058221297286, 5.179825164865363, 4.844805235700088, 4.6317771801440175, 4.27381311208304, 3.8568819771985487], \"Total\": [170.0, 69.0, 93.0, 88.0, 47.0, 35.0, 36.0, 26.0, 34.0, 24.0, 22.0, 52.0, 49.0, 45.0, 25.0, 19.0, 43.0, 41.0, 17.0, 19.0, 19.0, 18.0, 18.0, 35.0, 16.0, 32.0, 17.0, 25.0, 31.0, 17.0, 170.18240887247225, 88.11911662656071, 93.14335397628368, 49.585685661443684, 45.60723209443806, 52.16180970338111, 43.65218260092767, 41.549384239114765, 31.06360224418616, 32.801807258123674, 27.971295976462166, 35.55470135929076, 27.65440016874133, 21.401854391330538, 20.993343038218985, 26.566061958741265, 22.205810752233646, 19.00986422523735, 18.1521634935598, 20.30281642598372, 16.424276696739778, 13.48593517836546, 11.075752655892089, 14.721379810901421, 13.807016318732922, 11.708690675261106, 21.538783668455032, 18.71997119143362, 10.413349401691338, 12.55464709303779, 17.606999108067374, 17.617290740578596, 18.63987065946711, 13.434007865739861, 18.61057973077086, 19.556034912786295, 17.60366978950246, 31.22234604563677, 47.696902101869526, 34.37105203366069, 36.75841833108574, 25.01528812687962, 18.32957596337513, 19.08291221222717, 18.774043008081943, 17.18178571483657, 12.00895672236451, 17.095300437313796, 11.86487582218729, 19.845024461557408, 13.552496878277031, 11.583914391892081, 9.457352474779508, 14.24793223807272, 7.934516961090603, 8.326615009558354, 7.7474206112261115, 11.199583548719936, 7.376866240230103, 17.297191625510266, 7.903901500743589, 6.062663531180093, 10.895198537039153, 7.246240915760598, 11.171378997299167, 5.130021431454421, 4.17196445521392, 9.06121855639726, 12.888047294173575, 25.948124748551265, 22.381603313892125, 24.700619500832033, 10.995284955569941, 14.02179439227318, 13.24665937939102, 42.050402688228516, 13.118718424245083, 28.816989868289433, 69.84904527923634, 35.66209311887103, 26.958465827505428, 22.49889366095363, 24.317149148008248, 11.808341324592293, 19.85590993814993, 17.8139691826678, 12.363366372947384, 6.634414119966786, 12.015531735141632, 6.889175852372728, 16.086778048497052, 4.0590772216414805, 2.6521398489240644, 10.60022466402231, 3.9701772058077975, 2.0734064413567683, 5.410631601505729, 9.607136835963342, 8.960794614245104, 9.442767496089168, 5.337802633924002, 5.6627492654540825, 1.349524536644358, 4.129641234714526, 1.3365450669907177, 3.156889744140912, 3.114888350012258, 1.8914141675381968, 9.677177200948776, 42.050402688228516, 8.772881257495923, 28.816989868289433, 10.932725964134338, 10.745195013889614, 15.072839903807935, 15.97770958617268, 21.453763281725994, 20.88579942010968, 14.443868703112095], \"Category\": [\"Default\", \"Default\", \"Default\", \"Default\", \"Default\", \"Default\", \"Default\", \"Default\", \"Default\", \"Default\", \"Default\", \"Default\", \"Default\", \"Default\", \"Default\", \"Default\", \"Default\", \"Default\", \"Default\", \"Default\", \"Default\", \"Default\", \"Default\", \"Default\", \"Default\", \"Default\", \"Default\", \"Default\", \"Default\", \"Default\", \"Topic1\", \"Topic1\", \"Topic1\", \"Topic1\", \"Topic1\", \"Topic1\", \"Topic1\", \"Topic1\", \"Topic1\", \"Topic1\", \"Topic1\", \"Topic1\", \"Topic1\", \"Topic1\", \"Topic1\", \"Topic1\", \"Topic1\", \"Topic1\", \"Topic1\", \"Topic1\", \"Topic1\", \"Topic1\", \"Topic1\", \"Topic1\", \"Topic1\", \"Topic1\", \"Topic1\", \"Topic1\", \"Topic1\", \"Topic1\", \"Topic1\", \"Topic1\", \"Topic1\", \"Topic1\", \"Topic1\", \"Topic1\", \"Topic1\", \"Topic1\", \"Topic2\", \"Topic2\", \"Topic2\", \"Topic2\", \"Topic2\", \"Topic2\", \"Topic2\", \"Topic2\", \"Topic2\", \"Topic2\", \"Topic2\", \"Topic2\", \"Topic2\", \"Topic2\", \"Topic2\", \"Topic2\", \"Topic2\", \"Topic2\", \"Topic2\", \"Topic2\", \"Topic2\", \"Topic2\", \"Topic2\", \"Topic2\", \"Topic2\", \"Topic2\", \"Topic2\", \"Topic2\", \"Topic2\", \"Topic2\", \"Topic2\", \"Topic2\", \"Topic2\", \"Topic2\", \"Topic2\", \"Topic2\", \"Topic2\", \"Topic2\", \"Topic2\", \"Topic2\", \"Topic3\", \"Topic3\", \"Topic3\", \"Topic3\", \"Topic3\", \"Topic3\", \"Topic3\", \"Topic3\", \"Topic3\", \"Topic3\", \"Topic3\", \"Topic3\", \"Topic3\", \"Topic3\", \"Topic3\", \"Topic3\", \"Topic3\", \"Topic3\", \"Topic3\", \"Topic3\", \"Topic3\", \"Topic3\", \"Topic3\", \"Topic3\", \"Topic3\", \"Topic3\", \"Topic3\", \"Topic3\", \"Topic3\", \"Topic3\", \"Topic3\", \"Topic3\", \"Topic3\", \"Topic3\", \"Topic3\", \"Topic3\", \"Topic3\", \"Topic3\", \"Topic3\", \"Topic3\", \"Topic3\"], \"logprob\": [30.0, 29.0, 28.0, 27.0, 26.0, 25.0, 24.0, 23.0, 22.0, 21.0, 20.0, 19.0, 18.0, 17.0, 16.0, 15.0, 14.0, 13.0, 12.0, 11.0, 10.0, 9.0, 8.0, 7.0, 6.0, 5.0, 4.0, 3.0, 2.0, 1.0, -2.8233, -3.4837, -3.4289, -4.0621, -4.1466, -4.0136, -4.1925, -4.2441, -4.5354, -4.4812, -4.6406, -4.4027, -4.6545, -4.9131, -4.9326, -4.6989, -4.8804, -5.0362, -5.0857, -4.975, -5.1876, -5.3875, -5.5871, -5.3048, -5.369, -5.5351, -4.9258, -5.0667, -5.655, -5.4696, -5.1319, -5.1346, -5.0808, -5.4037, -5.1055, -5.0644, -5.1793, -4.781, -3.5679, -3.9004, -3.836, -4.2316, -4.5429, -4.5035, -4.5223, -4.6137, -4.9736, -4.6259, -4.9914, -4.4773, -4.8629, -5.022, -5.2319, -4.8275, -5.4134, -5.3699, -5.4439, -5.0756, -5.4982, -4.6544, -5.4381, -5.7039, -5.1214, -5.5293, -5.108, -5.893, -6.1353, -5.36, -5.0293, -4.348, -4.5552, -4.5054, -5.1971, -5.136, -5.2039, -4.7832, -5.3419, -5.3121, -2.8762, -3.5592, -3.8411, -4.0301, -3.9608, -4.6981, -4.1876, -4.2991, -4.672, -5.3087, -4.7183, -5.2811, -4.4629, -5.8606, -6.3203, -4.9414, -5.9289, -6.6105, -5.6686, -5.1171, -5.2042, -5.1737, -5.7735, -5.7335, -7.1867, -6.1015, -7.2789, -6.4308, -6.4493, -7.1589, -5.5718, -4.3601, -5.6886, -4.7506, -5.6001, -5.6494, -5.4697, -5.5366, -5.5815, -5.662, -5.7646], \"loglift\": [30.0, 29.0, 28.0, 27.0, 26.0, 25.0, 24.0, 23.0, 22.0, 21.0, 20.0, 19.0, 18.0, 17.0, 16.0, 15.0, 14.0, 13.0, 12.0, 11.0, 10.0, 9.0, 8.0, 7.0, 6.0, 5.0, 4.0, 3.0, 2.0, 1.0, 0.698, 0.6958, 0.6951, 0.6923, 0.6915, 0.6903, 0.6894, 0.6872, 0.6867, 0.6865, 0.6863, 0.6844, 0.6838, 0.6816, 0.6813, 0.6796, 0.6774, 0.677, 0.6736, 0.6724, 0.6718, 0.669, 0.6663, 0.6641, 0.664, 0.6627, 0.6625, 0.6619, 0.6601, 0.6585, 0.658, 0.6547, 0.652, 0.6566, 0.6289, 0.6205, 0.6108, 0.4361, 1.2254, 1.2206, 1.2178, 1.2071, 1.2068, 1.2059, 1.2034, 1.2006, 1.1989, 1.1935, 1.1932, 1.193, 1.1887, 1.1866, 1.1795, 1.1741, 1.1735, 1.1688, 1.1669, 1.1667, 1.1616, 1.1532, 1.1527, 1.1521, 1.1485, 1.1484, 1.1369, 1.1301, 1.0945, 1.0942, 1.0726, 1.054, 0.9948, 0.9459, 1.0636, 0.8816, 0.8705, 0.1361, 0.7422, -0.0149, 1.5356, 1.5249, 1.5228, 1.5146, 1.5062, 1.4913, 1.4821, 1.4791, 1.4714, 1.4572, 1.4536, 1.4472, 1.4173, 1.3966, 1.3625, 1.3559, 1.3504, 1.3184, 1.3012, 1.2786, 1.2611, 1.2392, 1.2099, 1.1908, 1.1718, 1.1385, 1.0892, 1.0778, 1.0727, 0.862, 0.8166, 0.5592, 0.7979, 0.5466, 0.6664, 0.6343, 0.4756, 0.3504, 0.0107, -0.0429, 0.2233]}, \"token.table\": {\"Topic\": [1, 1, 3, 1, 2, 1, 3, 2, 1, 2, 3, 3, 1, 1, 2, 1, 1, 1, 2, 1, 2, 3, 1, 2, 1, 2, 3, 1, 2, 3, 1, 1, 2, 1, 2, 3, 2, 3, 2, 1, 2, 3, 3, 1, 3, 1, 2, 3, 1, 3, 3, 1, 2, 1, 2, 2, 1, 1, 1, 1, 2, 3, 1, 2, 3, 2, 1, 1, 2, 3, 1, 3, 2, 2, 3, 1, 2, 2, 1, 1, 3, 2, 2, 2, 1, 2, 1, 3, 3, 1, 2, 3, 2, 2, 1, 2, 1, 2, 3, 2, 1, 1, 1, 2, 3, 2, 1, 2, 3, 1, 1, 2, 3, 1, 3, 3, 3, 1, 2, 3, 3, 1, 1, 2, 2, 1, 2, 3, 3, 1, 2, 3, 1, 3, 1, 2, 3, 1, 2, 3, 1, 3, 1, 1, 1, 3, 1, 2, 3, 1, 2, 1, 2, 3, 1, 1, 1, 1, 2, 3, 1, 1, 3, 1, 2, 3, 1, 2, 1, 1, 2, 3, 3, 2, 1, 1, 2, 3, 3, 1, 2, 3, 1, 2, 3, 1, 1, 1, 2, 3, 1, 2, 3], \"Freq\": [0.9989281567132539, 0.5287049326174644, 0.5287049326174644, 0.0578128531874029, 0.9250056509984464, 0.18734300770968476, 0.749372030838739, 0.9495926530412915, 0.10408928456776023, 0.10408928456776023, 0.7286249919743216, 0.7410017178987619, 0.9615399412706852, 0.9843986494588904, 0.9607745753606449, 0.9741677088998387, 0.981223384479556, 0.05039046446816632, 0.9574188248951601, 0.5538682304884363, 0.20770058643316358, 0.2769341152442181, 0.9931604958827074, 0.9896640262389926, 0.3722594140757297, 0.18612970703786486, 0.3722594140757297, 0.3317224910440946, 0.3317224910440946, 0.3317224910440946, 1.0003170986997592, 0.9603058165296747, 0.951640538300845, 0.32103879421426607, 0.32103879421426607, 0.6420775884285321, 0.056135720778778236, 0.9543072532392299, 0.958780939516633, 0.9089013933640829, 0.05680633708525518, 0.05680633708525518, 0.9315448882808948, 0.24215178587278124, 0.7264553576183438, 0.0775912733073287, 0.8535040063806157, 0.0775912733073287, 0.22319449179435172, 0.781180721280231, 0.9043752607999751, 0.08951446372392913, 0.8951446372392913, 0.9986482317217782, 0.8822213166002039, 0.9432522562497926, 0.9415502741430103, 0.9994810996480314, 0.955821371247833, 0.1765926678231289, 0.1765926678231289, 0.7063706712925156, 0.9866856183427076, 0.9587705744708942, 0.9878445685858397, 0.9660181163415332, 0.9509978126936697, 0.500697547220617, 0.18776158020773137, 0.3129359670128856, 0.08322561348452986, 0.9154817483298285, 0.935929734529667, 0.9035265220861909, 0.9645962123524929, 0.9749854180835608, 0.9853889441209178, 0.9489124205377557, 0.9984609317770522, 0.9755560036124199, 0.9854456521973756, 0.9793674927943141, 0.8856385671483189, 0.9746547976082123, 0.988188412570463, 0.9820194442013461, 0.04112324162316154, 0.9458345573327155, 0.870931462423552, 0.34196290955570297, 0.2279752730371353, 0.4559505460742706, 0.9594132947128174, 0.9894198590383073, 0.07018562295852604, 0.9124130984608385, 0.9204319832867084, 0.05113511018259491, 0.05113511018259491, 0.9892045191605626, 0.9655251241655796, 0.9850595649044636, 0.16193925823865515, 0.7287266620739482, 0.08096962911932758, 0.9992541631574181, 0.5745530615622939, 0.23939710898428912, 0.1915176871874313, 1.00102619569583, 0.7686802255320571, 0.1281133709220095, 0.09608502819150713, 0.09433762318208687, 0.8490386086387818, 0.97782585808566, 0.9644465737168353, 0.28537182126342037, 0.33293379147399044, 0.3804957616845605, 0.9814342608364546, 0.9763364902240397, 0.09178355002897974, 0.9178355002897974, 0.9592328348614036, 0.9134589166984457, 0.05373287745284975, 0.05373287745284975, 0.754108046305089, 0.21180231333963515, 0.10590115666981757, 0.741308096688723, 0.9656719367233312, 0.053648440929073955, 0.2286808743798947, 0.6098156650130525, 0.15245391625326313, 0.22647219303210597, 0.6794165790963179, 0.07549073101070199, 0.1848213062078943, 0.7392852248315772, 0.9979525154975204, 0.9639672613030936, 0.050362839230986896, 0.956893945388751, 0.07707686082832109, 0.8478454691115319, 0.07707686082832109, 0.08928903433327176, 0.8928903433327177, 0.31000775719037904, 0.20667183812691936, 0.5166795953172983, 0.9850850039900783, 0.939473106351808, 0.9649610856931159, 0.062162851814408386, 0.062162851814408386, 0.8702799254017174, 0.9786922894473259, 0.9916173356628378, 0.7481977410993991, 0.3658739835903975, 0.18293699179519876, 0.45734247948799694, 0.11036043262569753, 0.8828834610055802, 0.9676933443781366, 0.1340386547793883, 0.8042319286763299, 0.08935910318625888, 0.7556337776589498, 0.9271062053114812, 0.9867775600246423, 0.6059542947914044, 0.18644747532043213, 0.23305934415054014, 0.9706094309602864, 0.3167674771841394, 0.3167674771841394, 0.6335349543682788, 0.09094807492855604, 0.8185326743570044, 0.09094807492855604, 0.9968979277310116, 0.9907316713390911, 0.14263509676779426, 0.7131754838389713, 0.2139526451516914, 0.3470175075781986, 0.27761400606255887, 0.38171925833601844], \"Term\": [\"!\", \"ad\", \"ad\", \"also\", \"also\", \"amazing\", \"amazing\", \"another\", \"anything\", \"anything\", \"anything\", \"arrived\", \"awesome\", \"bag\", \"better\", \"big\", \"bought\", \"buy\", \"buy\", \"carry\", \"carry\", \"carry\", \"color\", \"comfortable\", \"compression\", \"compression\", \"compression\", \"cost\", \"cost\", \"cost\", \"cute\", \"daughter\", \"definitely\", \"durable\", \"durable\", \"durable\", \"enough\", \"enough\", \"even\", \"ever\", \"ever\", \"ever\", \"expected\", \"extra\", \"extra\", \"eye\", \"eye\", \"eye\", \"fast\", \"fast\", \"feel\", \"first\", \"first\", \"fit\", \"frame\", \"get\", \"gift\", \"glass\", \"go\", \"going\", \"going\", \"going\", \"good\", \"got\", \"great\", \"green\", \"hat\", \"highly\", \"highly\", \"highly\", \"hold\", \"hold\", \"im\", \"is\", \"large\", \"last\", \"lens\", \"light\", \"like\", \"little\", \"long\", \"look\", \"looking\", \"loose\", \"love\", \"made\", \"make\", \"make\", \"material\", \"mentioned\", \"mentioned\", \"mentioned\", \"much\", \"n't\", \"never\", \"never\", \"new\", \"new\", \"new\", \"nice\", \"old\", \"one\", \"original\", \"original\", \"original\", \"pair\", \"party\", \"party\", \"party\", \"perfect\", \"picture\", \"picture\", \"picture\", \"pretty\", \"pretty\", \"price\", \"product\", \"purse\", \"purse\", \"purse\", \"quality\", \"really\", \"reason\", \"reason\", \"replacement\", \"review\", \"review\", \"review\", \"run\", \"said\", \"said\", \"said\", \"say\", \"say\", \"scratched\", \"scratched\", \"scratched\", \"set\", \"set\", \"set\", \"shipping\", \"shipping\", \"size\", \"small\", \"sock\", \"sock\", \"something\", \"something\", \"something\", \"star\", \"star\", \"started\", \"started\", \"started\", \"still\", \"super\", \"thanks\", \"thats\", \"thats\", \"thats\", \"tight\", \"time\", \"toe\", \"ton\", \"ton\", \"ton\", \"two\", \"two\", \"using\", \"valley\", \"valley\", \"valley\", \"warm\", \"wear\", \"well\", \"wig\", \"wig\", \"wig\", \"work\", \"worn\", \"worn\", \"worn\", \"worth\", \"worth\", \"worth\", \"would\", \"year\", \"your\", \"your\", \"your\", \"zipper\", \"zipper\", \"zipper\"]}, \"R\": 30, \"lambda.step\": 0.01, \"plot.opts\": {\"xlab\": \"PC1\", \"ylab\": \"PC2\"}, \"topic.order\": [2, 3, 1]};\n",
              "\n",
              "function LDAvis_load_lib(url, callback){\n",
              "  var s = document.createElement('script');\n",
              "  s.src = url;\n",
              "  s.async = true;\n",
              "  s.onreadystatechange = s.onload = callback;\n",
              "  s.onerror = function(){console.warn(\"failed to load library \" + url);};\n",
              "  document.getElementsByTagName(\"head\")[0].appendChild(s);\n",
              "}\n",
              "\n",
              "if(typeof(LDAvis) !== \"undefined\"){\n",
              "   // already loaded: just create the visualization\n",
              "   !function(LDAvis){\n",
              "       new LDAvis(\"#\" + \"ldavis_el5271388494482914404175717439\", ldavis_el5271388494482914404175717439_data);\n",
              "   }(LDAvis);\n",
              "}else if(typeof define === \"function\" && define.amd){\n",
              "   // require.js is available: use it to load d3/LDAvis\n",
              "   require.config({paths: {d3: \"https://d3js.org/d3.v5\"}});\n",
              "   require([\"d3\"], function(d3){\n",
              "      window.d3 = d3;\n",
              "      LDAvis_load_lib(\"https://cdn.jsdelivr.net/gh/bmabey/pyLDAvis/pyLDAvis/js/ldavis.v3.0.0.js\", function(){\n",
              "        new LDAvis(\"#\" + \"ldavis_el5271388494482914404175717439\", ldavis_el5271388494482914404175717439_data);\n",
              "      });\n",
              "    });\n",
              "}else{\n",
              "    // require.js not available: dynamically load d3 & LDAvis\n",
              "    LDAvis_load_lib(\"https://d3js.org/d3.v5.js\", function(){\n",
              "         LDAvis_load_lib(\"https://cdn.jsdelivr.net/gh/bmabey/pyLDAvis/pyLDAvis/js/ldavis.v3.0.0.js\", function(){\n",
              "                 new LDAvis(\"#\" + \"ldavis_el5271388494482914404175717439\", ldavis_el5271388494482914404175717439_data);\n",
              "            })\n",
              "         });\n",
              "}\n",
              "</script>"
            ]
          },
          "metadata": {},
          "execution_count": 130
        }
      ]
    },
    {
      "cell_type": "markdown",
      "source": [
        "### Further explore this catrogy and the category's positive reviews topics"
      ],
      "metadata": {
        "id": "hqqsFNokjko2"
      }
    },
    {
      "cell_type": "code",
      "source": [
        "category = 'SportsOutdoors'\n",
        "\n",
        "cur_corpus, cur_id2word = get_corpus_id2word(get_data(category, rating_filter=True))\n",
        "cur_lda_model = build_lda_model(cur_corpus, cur_id2word, num_topics = 3)"
      ],
      "metadata": {
        "id": "ifis7XqQirR5"
      },
      "execution_count": 131,
      "outputs": []
    },
    {
      "cell_type": "code",
      "source": [
        "# Visualize the topics\n",
        "pyLDAvis.enable_notebook()\n",
        "vis = pyLDAvis.gensim.prepare(cur_lda_model, cur_corpus, cur_id2word, n_jobs=1)\n",
        "pyLDAvis.display(vis)"
      ],
      "metadata": {
        "colab": {
          "base_uri": "https://localhost:8080/",
          "height": 917
        },
        "id": "21sybGknjdaF",
        "outputId": "c8b70526-eb53-475a-e476-082ea3f13fe7"
      },
      "execution_count": 132,
      "outputs": [
        {
          "output_type": "stream",
          "name": "stderr",
          "text": [
            "/usr/local/lib/python3.10/dist-packages/pyLDAvis/_prepare.py:248: FutureWarning: In a future version of pandas all arguments of DataFrame.drop except for the argument 'labels' will be keyword-only.\n",
            "  by='saliency', ascending=False).head(R).drop('saliency', 1)\n"
          ]
        },
        {
          "output_type": "execute_result",
          "data": {
            "text/plain": [
              "<IPython.core.display.HTML object>"
            ],
            "text/html": [
              "\n",
              "<link rel=\"stylesheet\" type=\"text/css\" href=\"https://cdn.jsdelivr.net/gh/bmabey/pyLDAvis/pyLDAvis/js/ldavis.v1.0.0.css\">\n",
              "\n",
              "\n",
              "<div id=\"ldavis_el5271388494487344801062921017\"></div>\n",
              "<script type=\"text/javascript\">\n",
              "\n",
              "var ldavis_el5271388494487344801062921017_data = {\"mdsDat\": {\"x\": [0.15151225929951442, -0.1407900097422111, -0.010722249557303403], \"y\": [-0.06652565427180587, -0.08297795573493116, 0.14950361000673712], \"topics\": [1, 2, 3], \"cluster\": [1, 1, 1], \"Freq\": [37.63775613819385, 35.08647371017928, 27.275770151626876]}, \"tinfo\": {\"Term\": [\"!\", \"great\", \"fit\", \"like\", \"love\", \"would\", \"lens\", \"good\", \"well\", \"quality\", \"look\", \"one\", \"nice\", \"product\", \"size\", \"bag\", \"little\", \"something\", \"really\", \"buy\", \"perfect\", \"get\", \"price\", \"make\", \"got\", \"made\", \"n't\", \"much\", \"sock\", \"zipper\", \"!\", \"lens\", \"nice\", \"bought\", \"price\", \"much\", \"sock\", \"perfect\", \"cute\", \"time\", \"make\", \"pair\", \"valley\", \"another\", \"last\", \"definitely\", \"wear\", \"say\", \"first\", \"glass\", \"im\", \"tight\", \"seller\", \"original\", \"enough\", \"gift\", \"exactly\", \"frame\", \"comfortable\", \"happy\", \"review\", \"hat\", \"eye\", \"worth\", \"great\", \"fit\", \"good\", \"well\", \"product\", \"look\", \"size\", \"quality\", \"really\", \"awesome\", \"made\", \"got\", \"big\", \"pretty\", \"work\", \"daughter\", \"color\", \"bag\", \"use\", \"described\", \"worked\", \"old\", \"fast\", \"ordered\", \"expected\", \"new\", \"perfectly\", \"material\", \"shoe\", \"thanks\", \"replacement\", \"party\", \"picture\", \"year\", \"hold\", \"like\", \"love\", \"would\", \"one\", \"little\", \"get\", \"n't\", \"water\", \"buy\", \"go\", \"thing\", \"want\", \"compliment\", \"something\", \"still\", \"part\", \"your\", \"also\", \"light\", \"star\", \"going\", \"is\", \"may\", \"help\", \"zipper\", \"button\", \"high\", \"tell\", \"thought\", \"ever\", \"purse\", \"bottom\", \"never\", \"return\", \"absolutely\", \"ton\", \"investment\"], \"Freq\": [125.0, 75.0, 68.0, 41.0, 33.0, 32.0, 42.0, 37.0, 34.0, 34.0, 32.0, 24.0, 32.0, 28.0, 26.0, 28.0, 17.0, 20.0, 20.0, 17.0, 22.0, 15.0, 21.0, 22.0, 19.0, 18.0, 13.0, 19.0, 19.0, 19.0, 124.67562191299774, 42.23352980848579, 31.568515435893822, 16.45898394276952, 21.11069728159808, 18.961996687869146, 19.049048018385708, 21.871455463786788, 15.070729446218618, 13.7406717469607, 21.46338784552635, 11.774002184975894, 18.742122604113963, 10.546990565098456, 15.053900379637707, 9.313238536296895, 9.041104327650368, 12.751740215305672, 10.074183342185458, 10.106338292016947, 10.451214184547146, 15.532717199339267, 12.699032350361321, 19.46968842825729, 14.845568736478507, 10.147259850942396, 7.176042744770699, 6.5403432210134715, 6.368275777681905, 14.24964946578481, 12.783939076595951, 11.393110270773539, 10.960845870453934, 9.403143327501553, 75.49527035608449, 67.93438739103657, 36.83785967745958, 33.56484736704647, 27.849719594841243, 32.37109176065247, 25.816438645110786, 33.74549021083352, 20.407933833029496, 16.866805157258696, 17.6662815368142, 19.1369004221346, 13.150534997513493, 10.7410483156785, 11.503982976255214, 8.919031717031364, 7.19169026058657, 26.91538022299306, 9.764192920606403, 9.507452805948194, 13.075793695610242, 13.314233711556028, 8.858369101015922, 5.621195306267785, 10.010442002042295, 14.284573876756992, 5.074793539273686, 7.069210079246095, 5.428093629548655, 13.373636117058979, 11.624814796397505, 14.900056597566477, 12.77493963418966, 13.192779826943823, 7.943377323045127, 41.0018863096096, 33.1446904140764, 32.178466268756985, 24.001815691722054, 17.382449293270195, 14.94738983372097, 13.387125726807236, 8.440353208870338, 16.61960582477371, 7.755599319168747, 7.313838582263117, 7.910036207448498, 4.821381975313535, 18.655363980090684, 11.8629287539796, 4.189840604441165, 9.895352086234498, 11.162441024533628, 5.503374714794166, 8.227880454760848, 4.143157901868182, 5.327413470048158, 6.825012139028808, 4.257357233861457, 16.37468231031885, 3.5585214212074847, 5.156519921879743, 4.624189309466346, 2.8366471370916293, 9.630456687510058, 18.848908165799227, 6.8652048031836825, 7.0645054103242755, 5.393496960786156, 5.82695435810984, 5.335858873337705, 5.188905901174449], \"Total\": [125.0, 75.0, 68.0, 41.0, 33.0, 32.0, 42.0, 37.0, 34.0, 34.0, 32.0, 24.0, 32.0, 28.0, 26.0, 28.0, 17.0, 20.0, 20.0, 17.0, 22.0, 15.0, 21.0, 22.0, 19.0, 18.0, 13.0, 19.0, 19.0, 19.0, 125.1216989359619, 42.78016039125673, 32.08807907061232, 16.89786746375817, 21.69431356172368, 19.51547912278587, 19.67581372495856, 22.599684265605106, 15.59730295430343, 14.221999627848847, 22.216037942280405, 12.200656225652017, 19.55730504353408, 11.037419317106568, 15.774383782319193, 9.762238649204878, 9.481321867375398, 13.391679704883108, 10.58097280001082, 10.622660068909921, 11.008586378823988, 16.3693235318791, 13.385763313965782, 20.578245117680765, 15.692844398451378, 10.74270879647713, 7.635294534845093, 6.96775207527832, 6.784967347182441, 15.204216094850247, 13.687971670052915, 12.217377262502906, 11.835126695604293, 10.261530598015256, 75.90688136297526, 68.34896958313223, 37.22187088839804, 34.11936808606036, 28.321312852376987, 32.924945827805466, 26.288626814401027, 34.458200765190135, 20.9197376710666, 17.34529959844515, 18.217993197520002, 19.790280905116404, 13.60389450529337, 11.215132433251712, 12.053598409534377, 9.376939701202437, 7.582546189496619, 28.464710716385984, 10.328314136540452, 10.126010431500942, 13.93865589147177, 14.22177378047224, 9.491994723185428, 6.02785601671156, 10.761392693451434, 15.427571888306334, 5.493427446369255, 7.672017205352676, 5.896326404780115, 14.586509090762387, 13.48921238018778, 18.44796769721376, 16.50576541743786, 17.836040114236173, 13.007867257413032, 41.539862931520865, 33.688757957575774, 32.840217143755545, 24.517026348881885, 17.916979910148438, 15.486905295038301, 13.915593971281627, 9.00830552453335, 17.94491644808566, 8.466604173266676, 7.987774938045123, 8.640475037318314, 5.308041822512618, 20.657533319783845, 13.268725044174829, 4.690431543505924, 11.083126144065599, 12.527630147855682, 6.241446151215265, 9.334271876545824, 4.70108884774418, 6.0651947547147715, 7.877513047088794, 4.92283807288662, 19.43816459243523, 4.22954502787791, 6.135629220769592, 5.59104837286572, 3.441311028785052, 11.71764710138514, 33.32041180675318, 10.393377627864531, 12.627346844017008, 7.66647423796854, 9.475604181296916, 8.730697208401352, 9.309174114946611], \"Category\": [\"Default\", \"Default\", \"Default\", \"Default\", \"Default\", \"Default\", \"Default\", \"Default\", \"Default\", \"Default\", \"Default\", \"Default\", \"Default\", \"Default\", \"Default\", \"Default\", \"Default\", \"Default\", \"Default\", \"Default\", \"Default\", \"Default\", \"Default\", \"Default\", \"Default\", \"Default\", \"Default\", \"Default\", \"Default\", \"Default\", \"Topic1\", \"Topic1\", \"Topic1\", \"Topic1\", \"Topic1\", \"Topic1\", \"Topic1\", \"Topic1\", \"Topic1\", \"Topic1\", \"Topic1\", \"Topic1\", \"Topic1\", \"Topic1\", \"Topic1\", \"Topic1\", \"Topic1\", \"Topic1\", \"Topic1\", \"Topic1\", \"Topic1\", \"Topic1\", \"Topic1\", \"Topic1\", \"Topic1\", \"Topic1\", \"Topic1\", \"Topic1\", \"Topic1\", \"Topic1\", \"Topic1\", \"Topic1\", \"Topic1\", \"Topic1\", \"Topic2\", \"Topic2\", \"Topic2\", \"Topic2\", \"Topic2\", \"Topic2\", \"Topic2\", \"Topic2\", \"Topic2\", \"Topic2\", \"Topic2\", \"Topic2\", \"Topic2\", \"Topic2\", \"Topic2\", \"Topic2\", \"Topic2\", \"Topic2\", \"Topic2\", \"Topic2\", \"Topic2\", \"Topic2\", \"Topic2\", \"Topic2\", \"Topic2\", \"Topic2\", \"Topic2\", \"Topic2\", \"Topic2\", \"Topic2\", \"Topic2\", \"Topic2\", \"Topic2\", \"Topic2\", \"Topic2\", \"Topic3\", \"Topic3\", \"Topic3\", \"Topic3\", \"Topic3\", \"Topic3\", \"Topic3\", \"Topic3\", \"Topic3\", \"Topic3\", \"Topic3\", \"Topic3\", \"Topic3\", \"Topic3\", \"Topic3\", \"Topic3\", \"Topic3\", \"Topic3\", \"Topic3\", \"Topic3\", \"Topic3\", \"Topic3\", \"Topic3\", \"Topic3\", \"Topic3\", \"Topic3\", \"Topic3\", \"Topic3\", \"Topic3\", \"Topic3\", \"Topic3\", \"Topic3\", \"Topic3\", \"Topic3\", \"Topic3\", \"Topic3\", \"Topic3\"], \"logprob\": [30.0, 29.0, 28.0, 27.0, 26.0, 25.0, 24.0, 23.0, 22.0, 21.0, 20.0, 19.0, 18.0, 17.0, 16.0, 15.0, 14.0, 13.0, 12.0, 11.0, 10.0, 9.0, 8.0, 7.0, 6.0, 5.0, 4.0, 3.0, 2.0, 1.0, -2.6032, -3.6857, -3.9767, -4.628, -4.3791, -4.4864, -4.4819, -4.3437, -4.7161, -4.8085, -4.3625, -4.963, -4.4981, -5.073, -4.7172, -5.1974, -5.2271, -4.8832, -5.1189, -5.1157, -5.0822, -4.6859, -4.8873, -4.46, -4.7312, -5.1117, -5.4581, -5.5509, -5.5775, -4.7721, -4.8807, -4.9959, -5.0345, -5.1878, -3.0346, -3.1401, -3.7522, -3.8452, -4.0319, -3.8814, -4.1077, -3.8398, -4.3428, -4.5333, -4.487, -4.4071, -4.7822, -4.9846, -4.916, -5.1705, -5.3858, -4.066, -5.08, -5.1066, -4.7879, -4.7698, -5.1773, -5.6321, -5.0551, -4.6995, -5.7344, -5.4029, -5.6671, -4.7654, -4.9055, -4.6573, -4.8112, -4.779, -5.2863, -3.3932, -3.606, -3.6356, -3.9287, -4.2514, -4.4023, -4.5126, -4.9738, -4.2963, -5.0585, -5.1171, -5.0387, -5.5338, -4.1807, -4.6334, -5.6742, -4.8148, -4.6943, -5.4015, -4.9993, -5.6854, -5.434, -5.1863, -5.6582, -4.3111, -5.8375, -5.4666, -5.5756, -6.0642, -4.8419, -4.1704, -5.1804, -5.1518, -5.4217, -5.3444, -5.4324, -5.4603], \"loglift\": [30.0, 29.0, 28.0, 27.0, 26.0, 25.0, 24.0, 23.0, 22.0, 21.0, 20.0, 19.0, 18.0, 17.0, 16.0, 15.0, 14.0, 13.0, 12.0, 11.0, 10.0, 9.0, 8.0, 7.0, 6.0, 5.0, 4.0, 3.0, 2.0, 1.0, 0.9736, 0.9643, 0.9608, 0.9508, 0.9499, 0.9484, 0.9448, 0.9444, 0.9428, 0.9427, 0.9427, 0.9416, 0.9346, 0.9317, 0.9304, 0.9301, 0.9296, 0.9282, 0.9281, 0.9273, 0.9252, 0.9247, 0.9245, 0.9218, 0.9217, 0.9201, 0.9151, 0.9139, 0.9138, 0.9123, 0.9088, 0.9073, 0.9004, 0.8898, 1.0419, 1.0413, 1.037, 1.031, 1.0306, 1.0304, 1.0292, 1.0265, 1.0226, 1.0194, 1.0166, 1.0138, 1.0135, 1.0042, 1.0007, 0.9973, 0.9944, 0.9914, 0.9912, 0.9843, 0.9835, 0.9814, 0.9783, 0.9775, 0.975, 0.9704, 0.9681, 0.9655, 0.9646, 0.9605, 0.8986, 0.8338, 0.7911, 0.7458, 0.5541, 1.2861, 1.2829, 1.2788, 1.2779, 1.2689, 1.2637, 1.2605, 1.234, 1.2224, 1.2115, 1.211, 1.2108, 1.203, 1.1972, 1.1872, 1.1863, 1.1858, 1.1838, 1.1733, 1.173, 1.1728, 1.1695, 1.1558, 1.1539, 1.1277, 1.1264, 1.1253, 1.1093, 1.1059, 1.103, 0.7295, 0.8845, 0.7184, 0.9475, 0.8129, 0.8068, 0.7147]}, \"token.table\": {\"Topic\": [1, 1, 2, 3, 1, 2, 3, 1, 2, 2, 3, 2, 1, 2, 3, 1, 3, 2, 3, 2, 1, 3, 1, 2, 1, 2, 1, 3, 1, 2, 3, 1, 2, 1, 2, 1, 2, 1, 3, 1, 1, 3, 3, 2, 2, 2, 1, 3, 1, 3, 2, 3, 1, 2, 3, 1, 1, 2, 3, 3, 1, 1, 3, 3, 3, 2, 3, 2, 1, 2, 2, 3, 1, 3, 1, 2, 3, 2, 3, 1, 2, 3, 3, 2, 1, 2, 1, 3, 1, 2, 3, 1, 2, 1, 2, 3, 2, 1, 2, 1, 2, 3, 2, 2, 1, 2, 3, 1, 2, 3, 1, 2, 1, 1, 2, 2, 1, 1, 2, 3, 1, 3, 1, 2, 3, 1, 3, 1, 2, 3, 3, 1, 2, 1, 1, 2, 3, 2, 1, 2, 3, 3, 1, 2, 2, 1, 2, 1, 3, 1, 2, 1, 2, 3, 1, 2, 3], \"Freq\": [0.9990273554707391, 0.10553416762319119, 0.31660250286957353, 0.6332050057391471, 0.07982355706527361, 0.07982355706527361, 0.8780591277180096, 0.9966097766124937, 0.9800926126132695, 0.9485429263279739, 0.035131219493628664, 0.9556087041796457, 0.09621511271937344, 0.19243022543874688, 0.6735057890356141, 0.9468650428414189, 0.9457281985733866, 0.05572608838235514, 0.9473435025000374, 0.9231727476578296, 0.8843078666386788, 0.9419669564007309, 0.9617047283076188, 0.9598014156842557, 0.9219196870108312, 0.9875557671648315, 0.9558496611028814, 0.0637233107401921, 0.08534136515186486, 0.08534136515186486, 0.8534136515186486, 0.9167950192430944, 0.9292477549012071, 0.9294366070525912, 0.9481674044778315, 0.9450926856167492, 0.9948942963550053, 1.0046281676462192, 0.9685601941922963, 0.9308639179793566, 0.9413837904187198, 0.9448888640926454, 0.8508667097239402, 0.994039233302827, 0.9600672214353414, 0.9880527121297649, 0.9207972257604177, 0.06577123041145841, 0.9003569066955777, 0.8125394215240778, 0.1629824691190466, 0.8149123455952331, 0.1537531065179208, 0.6150124260716832, 0.23062965977688116, 0.908381844487854, 0.3222627445740073, 0.21484182971600485, 0.5371045742900121, 0.8243758365901204, 0.950908777610244, 0.9817635000869194, 0.9613156718225866, 0.9870037382547256, 0.9488206207325685, 0.9719074457208571, 0.9795552582127508, 0.9880341816380919, 0.9452630597120963, 0.9124067129458707, 0.12694361710636062, 0.8886053197445244, 0.97358614054297, 0.9342037448655668, 0.3959659983814463, 0.07919319967628927, 0.5543523977340249, 0.9074661976206124, 0.06481901411575802, 0.9972550843439867, 0.9140913222688266, 0.07031471709760205, 0.9789115392085279, 0.9953787853202976, 0.9233051648157917, 0.048595008674515355, 0.9835536530215371, 0.8527999956716452, 0.10841302591298796, 0.8130976943474096, 0.10841302591298796, 0.9734649272725558, 0.9101785813708392, 0.0605848910795454, 0.7876035840340903, 0.1817546732386362, 0.9808176644785873, 0.9679955966457179, 0.9886547331314827, 0.27010470495373456, 0.1800698033024897, 0.5702210437912174, 0.9867027077730358, 0.9560349328692272, 0.07413331274024164, 0.8895997528828997, 0.07413331274024164, 0.1304380565250526, 0.1304380565250526, 0.652190282625263, 0.9497389615761634, 0.07305684319816642, 0.9707520106876296, 0.9711810746299911, 0.8479856196472656, 0.9890208485806905, 0.9656525654081947, 0.04840849023548682, 0.04840849023548682, 0.9197613144742497, 0.10713208413317109, 0.8570566730653687, 0.0753651912049391, 0.0753651912049391, 0.9043822944592692, 0.17885733288468134, 0.8942866644234067, 0.06855649928146951, 0.8912344906591035, 0.8763391625694871, 0.8717607838717049, 0.9774380699874465, 0.06108987937421541, 0.9843904068585307, 0.22907677958129682, 0.11453838979064841, 0.572691948953242, 0.9682122239699398, 0.9715039959598968, 0.051131789261047195, 0.9258750202330202, 0.8880693464728393, 0.9492347297024485, 0.9965014567163355, 0.9955533270884501, 0.07174292900162922, 0.9326580770211799, 0.8770621413671703, 0.9744149942712754, 0.22426502600245468, 0.7288613345079777, 0.09022725059711106, 0.09022725059711106, 0.9022725059711106, 0.10289037272471405, 0.05144518636235702, 0.8231229817977124], \"Term\": [\"!\", \"absolutely\", \"absolutely\", \"absolutely\", \"also\", \"also\", \"also\", \"another\", \"awesome\", \"bag\", \"bag\", \"big\", \"bottom\", \"bottom\", \"bottom\", \"bought\", \"button\", \"buy\", \"buy\", \"color\", \"comfortable\", \"compliment\", \"cute\", \"daughter\", \"definitely\", \"described\", \"enough\", \"enough\", \"ever\", \"ever\", \"ever\", \"exactly\", \"expected\", \"eye\", \"fast\", \"first\", \"fit\", \"frame\", \"get\", \"gift\", \"glass\", \"go\", \"going\", \"good\", \"got\", \"great\", \"happy\", \"happy\", \"hat\", \"help\", \"high\", \"high\", \"hold\", \"hold\", \"hold\", \"im\", \"investment\", \"investment\", \"investment\", \"is\", \"last\", \"lens\", \"light\", \"like\", \"little\", \"look\", \"love\", \"made\", \"make\", \"material\", \"may\", \"may\", \"much\", \"n't\", \"never\", \"never\", \"never\", \"new\", \"new\", \"nice\", \"old\", \"old\", \"one\", \"ordered\", \"original\", \"original\", \"pair\", \"part\", \"party\", \"party\", \"party\", \"perfect\", \"perfectly\", \"picture\", \"picture\", \"picture\", \"pretty\", \"price\", \"product\", \"purse\", \"purse\", \"purse\", \"quality\", \"really\", \"replacement\", \"replacement\", \"replacement\", \"return\", \"return\", \"return\", \"review\", \"review\", \"say\", \"seller\", \"shoe\", \"size\", \"sock\", \"something\", \"something\", \"something\", \"star\", \"star\", \"still\", \"still\", \"still\", \"tell\", \"tell\", \"thanks\", \"thanks\", \"thing\", \"thought\", \"tight\", \"tight\", \"time\", \"ton\", \"ton\", \"ton\", \"use\", \"valley\", \"valley\", \"want\", \"water\", \"wear\", \"well\", \"work\", \"worked\", \"worked\", \"worth\", \"would\", \"year\", \"year\", \"your\", \"your\", \"your\", \"zipper\", \"zipper\", \"zipper\"]}, \"R\": 30, \"lambda.step\": 0.01, \"plot.opts\": {\"xlab\": \"PC1\", \"ylab\": \"PC2\"}, \"topic.order\": [2, 1, 3]};\n",
              "\n",
              "function LDAvis_load_lib(url, callback){\n",
              "  var s = document.createElement('script');\n",
              "  s.src = url;\n",
              "  s.async = true;\n",
              "  s.onreadystatechange = s.onload = callback;\n",
              "  s.onerror = function(){console.warn(\"failed to load library \" + url);};\n",
              "  document.getElementsByTagName(\"head\")[0].appendChild(s);\n",
              "}\n",
              "\n",
              "if(typeof(LDAvis) !== \"undefined\"){\n",
              "   // already loaded: just create the visualization\n",
              "   !function(LDAvis){\n",
              "       new LDAvis(\"#\" + \"ldavis_el5271388494487344801062921017\", ldavis_el5271388494487344801062921017_data);\n",
              "   }(LDAvis);\n",
              "}else if(typeof define === \"function\" && define.amd){\n",
              "   // require.js is available: use it to load d3/LDAvis\n",
              "   require.config({paths: {d3: \"https://d3js.org/d3.v5\"}});\n",
              "   require([\"d3\"], function(d3){\n",
              "      window.d3 = d3;\n",
              "      LDAvis_load_lib(\"https://cdn.jsdelivr.net/gh/bmabey/pyLDAvis/pyLDAvis/js/ldavis.v3.0.0.js\", function(){\n",
              "        new LDAvis(\"#\" + \"ldavis_el5271388494487344801062921017\", ldavis_el5271388494487344801062921017_data);\n",
              "      });\n",
              "    });\n",
              "}else{\n",
              "    // require.js not available: dynamically load d3 & LDAvis\n",
              "    LDAvis_load_lib(\"https://d3js.org/d3.v5.js\", function(){\n",
              "         LDAvis_load_lib(\"https://cdn.jsdelivr.net/gh/bmabey/pyLDAvis/pyLDAvis/js/ldavis.v3.0.0.js\", function(){\n",
              "                 new LDAvis(\"#\" + \"ldavis_el5271388494487344801062921017\", ldavis_el5271388494487344801062921017_data);\n",
              "            })\n",
              "         });\n",
              "}\n",
              "</script>"
            ]
          },
          "metadata": {},
          "execution_count": 132
        }
      ]
    },
    {
      "cell_type": "markdown",
      "source": [
        "## 1.3 LDA Topic modeling for each brand"
      ],
      "metadata": {
        "id": "r7f5DsamHi14"
      }
    },
    {
      "cell_type": "code",
      "source": [
        "df2 = data[['brand', 'cleaned_reviewText', 'overall']]\n",
        "df2.sample(5)"
      ],
      "metadata": {
        "colab": {
          "base_uri": "https://localhost:8080/",
          "height": 206
        },
        "id": "ScrP45fYj6UV",
        "outputId": "164c4142-041a-4160-ee46-6f76216dab19"
      },
      "execution_count": 134,
      "outputs": [
        {
          "output_type": "execute_result",
          "data": {
            "text/plain": [
              "                   brand                             cleaned_reviewText  \\\n",
              "12158  MJ Metals Jewelry                     like ring use size instead   \n",
              "50898             ALYGNE                                           cute   \n",
              "18502        LeatherBoss          buying every six month year must good   \n",
              "55838            Generic                          beware completely see   \n",
              "13764       TOP HEADWEAR  looked little big infant cap line toddler cap   \n",
              "\n",
              "       overall  \n",
              "12158      4.0  \n",
              "50898      5.0  \n",
              "18502      5.0  \n",
              "55838      1.0  \n",
              "13764      4.0  "
            ],
            "text/html": [
              "\n",
              "  <div id=\"df-b72927a5-35b4-415e-a7fe-cf80083afb97\" class=\"colab-df-container\">\n",
              "    <div>\n",
              "<style scoped>\n",
              "    .dataframe tbody tr th:only-of-type {\n",
              "        vertical-align: middle;\n",
              "    }\n",
              "\n",
              "    .dataframe tbody tr th {\n",
              "        vertical-align: top;\n",
              "    }\n",
              "\n",
              "    .dataframe thead th {\n",
              "        text-align: right;\n",
              "    }\n",
              "</style>\n",
              "<table border=\"1\" class=\"dataframe\">\n",
              "  <thead>\n",
              "    <tr style=\"text-align: right;\">\n",
              "      <th></th>\n",
              "      <th>brand</th>\n",
              "      <th>cleaned_reviewText</th>\n",
              "      <th>overall</th>\n",
              "    </tr>\n",
              "  </thead>\n",
              "  <tbody>\n",
              "    <tr>\n",
              "      <th>12158</th>\n",
              "      <td>MJ Metals Jewelry</td>\n",
              "      <td>like ring use size instead</td>\n",
              "      <td>4.0</td>\n",
              "    </tr>\n",
              "    <tr>\n",
              "      <th>50898</th>\n",
              "      <td>ALYGNE</td>\n",
              "      <td>cute</td>\n",
              "      <td>5.0</td>\n",
              "    </tr>\n",
              "    <tr>\n",
              "      <th>18502</th>\n",
              "      <td>LeatherBoss</td>\n",
              "      <td>buying every six month year must good</td>\n",
              "      <td>5.0</td>\n",
              "    </tr>\n",
              "    <tr>\n",
              "      <th>55838</th>\n",
              "      <td>Generic</td>\n",
              "      <td>beware completely see</td>\n",
              "      <td>1.0</td>\n",
              "    </tr>\n",
              "    <tr>\n",
              "      <th>13764</th>\n",
              "      <td>TOP HEADWEAR</td>\n",
              "      <td>looked little big infant cap line toddler cap</td>\n",
              "      <td>4.0</td>\n",
              "    </tr>\n",
              "  </tbody>\n",
              "</table>\n",
              "</div>\n",
              "    <div class=\"colab-df-buttons\">\n",
              "\n",
              "  <div class=\"colab-df-container\">\n",
              "    <button class=\"colab-df-convert\" onclick=\"convertToInteractive('df-b72927a5-35b4-415e-a7fe-cf80083afb97')\"\n",
              "            title=\"Convert this dataframe to an interactive table.\"\n",
              "            style=\"display:none;\">\n",
              "\n",
              "  <svg xmlns=\"http://www.w3.org/2000/svg\" height=\"24px\" viewBox=\"0 -960 960 960\">\n",
              "    <path d=\"M120-120v-720h720v720H120Zm60-500h600v-160H180v160Zm220 220h160v-160H400v160Zm0 220h160v-160H400v160ZM180-400h160v-160H180v160Zm440 0h160v-160H620v160ZM180-180h160v-160H180v160Zm440 0h160v-160H620v160Z\"/>\n",
              "  </svg>\n",
              "    </button>\n",
              "\n",
              "  <style>\n",
              "    .colab-df-container {\n",
              "      display:flex;\n",
              "      gap: 12px;\n",
              "    }\n",
              "\n",
              "    .colab-df-convert {\n",
              "      background-color: #E8F0FE;\n",
              "      border: none;\n",
              "      border-radius: 50%;\n",
              "      cursor: pointer;\n",
              "      display: none;\n",
              "      fill: #1967D2;\n",
              "      height: 32px;\n",
              "      padding: 0 0 0 0;\n",
              "      width: 32px;\n",
              "    }\n",
              "\n",
              "    .colab-df-convert:hover {\n",
              "      background-color: #E2EBFA;\n",
              "      box-shadow: 0px 1px 2px rgba(60, 64, 67, 0.3), 0px 1px 3px 1px rgba(60, 64, 67, 0.15);\n",
              "      fill: #174EA6;\n",
              "    }\n",
              "\n",
              "    .colab-df-buttons div {\n",
              "      margin-bottom: 4px;\n",
              "    }\n",
              "\n",
              "    [theme=dark] .colab-df-convert {\n",
              "      background-color: #3B4455;\n",
              "      fill: #D2E3FC;\n",
              "    }\n",
              "\n",
              "    [theme=dark] .colab-df-convert:hover {\n",
              "      background-color: #434B5C;\n",
              "      box-shadow: 0px 1px 3px 1px rgba(0, 0, 0, 0.15);\n",
              "      filter: drop-shadow(0px 1px 2px rgba(0, 0, 0, 0.3));\n",
              "      fill: #FFFFFF;\n",
              "    }\n",
              "  </style>\n",
              "\n",
              "    <script>\n",
              "      const buttonEl =\n",
              "        document.querySelector('#df-b72927a5-35b4-415e-a7fe-cf80083afb97 button.colab-df-convert');\n",
              "      buttonEl.style.display =\n",
              "        google.colab.kernel.accessAllowed ? 'block' : 'none';\n",
              "\n",
              "      async function convertToInteractive(key) {\n",
              "        const element = document.querySelector('#df-b72927a5-35b4-415e-a7fe-cf80083afb97');\n",
              "        const dataTable =\n",
              "          await google.colab.kernel.invokeFunction('convertToInteractive',\n",
              "                                                    [key], {});\n",
              "        if (!dataTable) return;\n",
              "\n",
              "        const docLinkHtml = 'Like what you see? Visit the ' +\n",
              "          '<a target=\"_blank\" href=https://colab.research.google.com/notebooks/data_table.ipynb>data table notebook</a>'\n",
              "          + ' to learn more about interactive tables.';\n",
              "        element.innerHTML = '';\n",
              "        dataTable['output_type'] = 'display_data';\n",
              "        await google.colab.output.renderOutput(dataTable, element);\n",
              "        const docLink = document.createElement('div');\n",
              "        docLink.innerHTML = docLinkHtml;\n",
              "        element.appendChild(docLink);\n",
              "      }\n",
              "    </script>\n",
              "  </div>\n",
              "\n",
              "\n",
              "<div id=\"df-af6f96f0-bbfb-41b3-8d19-bf8a66a5666e\">\n",
              "  <button class=\"colab-df-quickchart\" onclick=\"quickchart('df-af6f96f0-bbfb-41b3-8d19-bf8a66a5666e')\"\n",
              "            title=\"Suggest charts\"\n",
              "            style=\"display:none;\">\n",
              "\n",
              "<svg xmlns=\"http://www.w3.org/2000/svg\" height=\"24px\"viewBox=\"0 0 24 24\"\n",
              "     width=\"24px\">\n",
              "    <g>\n",
              "        <path d=\"M19 3H5c-1.1 0-2 .9-2 2v14c0 1.1.9 2 2 2h14c1.1 0 2-.9 2-2V5c0-1.1-.9-2-2-2zM9 17H7v-7h2v7zm4 0h-2V7h2v10zm4 0h-2v-4h2v4z\"/>\n",
              "    </g>\n",
              "</svg>\n",
              "  </button>\n",
              "\n",
              "<style>\n",
              "  .colab-df-quickchart {\n",
              "      --bg-color: #E8F0FE;\n",
              "      --fill-color: #1967D2;\n",
              "      --hover-bg-color: #E2EBFA;\n",
              "      --hover-fill-color: #174EA6;\n",
              "      --disabled-fill-color: #AAA;\n",
              "      --disabled-bg-color: #DDD;\n",
              "  }\n",
              "\n",
              "  [theme=dark] .colab-df-quickchart {\n",
              "      --bg-color: #3B4455;\n",
              "      --fill-color: #D2E3FC;\n",
              "      --hover-bg-color: #434B5C;\n",
              "      --hover-fill-color: #FFFFFF;\n",
              "      --disabled-bg-color: #3B4455;\n",
              "      --disabled-fill-color: #666;\n",
              "  }\n",
              "\n",
              "  .colab-df-quickchart {\n",
              "    background-color: var(--bg-color);\n",
              "    border: none;\n",
              "    border-radius: 50%;\n",
              "    cursor: pointer;\n",
              "    display: none;\n",
              "    fill: var(--fill-color);\n",
              "    height: 32px;\n",
              "    padding: 0;\n",
              "    width: 32px;\n",
              "  }\n",
              "\n",
              "  .colab-df-quickchart:hover {\n",
              "    background-color: var(--hover-bg-color);\n",
              "    box-shadow: 0 1px 2px rgba(60, 64, 67, 0.3), 0 1px 3px 1px rgba(60, 64, 67, 0.15);\n",
              "    fill: var(--button-hover-fill-color);\n",
              "  }\n",
              "\n",
              "  .colab-df-quickchart-complete:disabled,\n",
              "  .colab-df-quickchart-complete:disabled:hover {\n",
              "    background-color: var(--disabled-bg-color);\n",
              "    fill: var(--disabled-fill-color);\n",
              "    box-shadow: none;\n",
              "  }\n",
              "\n",
              "  .colab-df-spinner {\n",
              "    border: 2px solid var(--fill-color);\n",
              "    border-color: transparent;\n",
              "    border-bottom-color: var(--fill-color);\n",
              "    animation:\n",
              "      spin 1s steps(1) infinite;\n",
              "  }\n",
              "\n",
              "  @keyframes spin {\n",
              "    0% {\n",
              "      border-color: transparent;\n",
              "      border-bottom-color: var(--fill-color);\n",
              "      border-left-color: var(--fill-color);\n",
              "    }\n",
              "    20% {\n",
              "      border-color: transparent;\n",
              "      border-left-color: var(--fill-color);\n",
              "      border-top-color: var(--fill-color);\n",
              "    }\n",
              "    30% {\n",
              "      border-color: transparent;\n",
              "      border-left-color: var(--fill-color);\n",
              "      border-top-color: var(--fill-color);\n",
              "      border-right-color: var(--fill-color);\n",
              "    }\n",
              "    40% {\n",
              "      border-color: transparent;\n",
              "      border-right-color: var(--fill-color);\n",
              "      border-top-color: var(--fill-color);\n",
              "    }\n",
              "    60% {\n",
              "      border-color: transparent;\n",
              "      border-right-color: var(--fill-color);\n",
              "    }\n",
              "    80% {\n",
              "      border-color: transparent;\n",
              "      border-right-color: var(--fill-color);\n",
              "      border-bottom-color: var(--fill-color);\n",
              "    }\n",
              "    90% {\n",
              "      border-color: transparent;\n",
              "      border-bottom-color: var(--fill-color);\n",
              "    }\n",
              "  }\n",
              "</style>\n",
              "\n",
              "  <script>\n",
              "    async function quickchart(key) {\n",
              "      const quickchartButtonEl =\n",
              "        document.querySelector('#' + key + ' button');\n",
              "      quickchartButtonEl.disabled = true;  // To prevent multiple clicks.\n",
              "      quickchartButtonEl.classList.add('colab-df-spinner');\n",
              "      try {\n",
              "        const charts = await google.colab.kernel.invokeFunction(\n",
              "            'suggestCharts', [key], {});\n",
              "      } catch (error) {\n",
              "        console.error('Error during call to suggestCharts:', error);\n",
              "      }\n",
              "      quickchartButtonEl.classList.remove('colab-df-spinner');\n",
              "      quickchartButtonEl.classList.add('colab-df-quickchart-complete');\n",
              "    }\n",
              "    (() => {\n",
              "      let quickchartButtonEl =\n",
              "        document.querySelector('#df-af6f96f0-bbfb-41b3-8d19-bf8a66a5666e button');\n",
              "      quickchartButtonEl.style.display =\n",
              "        google.colab.kernel.accessAllowed ? 'block' : 'none';\n",
              "    })();\n",
              "  </script>\n",
              "</div>\n",
              "\n",
              "    </div>\n",
              "  </div>\n"
            ]
          },
          "metadata": {},
          "execution_count": 134
        }
      ]
    },
    {
      "cell_type": "code",
      "source": [
        "df2 = df2.dropna(subset=['cleaned_reviewText', 'brand', 'overall'])\n",
        "df2.info()"
      ],
      "metadata": {
        "colab": {
          "base_uri": "https://localhost:8080/"
        },
        "id": "NVyvJTPLk-NR",
        "outputId": "297b2886-7126-418d-b87b-fb669bbcc730"
      },
      "execution_count": 136,
      "outputs": [
        {
          "output_type": "stream",
          "name": "stdout",
          "text": [
            "<class 'pandas.core.frame.DataFrame'>\n",
            "Int64Index: 41125 entries, 11 to 57396\n",
            "Data columns (total 3 columns):\n",
            " #   Column              Non-Null Count  Dtype  \n",
            "---  ------              --------------  -----  \n",
            " 0   brand               41125 non-null  object \n",
            " 1   cleaned_reviewText  41125 non-null  object \n",
            " 2   overall             41125 non-null  float64\n",
            "dtypes: float64(1), object(2)\n",
            "memory usage: 1.3+ MB\n"
          ]
        }
      ]
    },
    {
      "cell_type": "code",
      "source": [
        "len(df2.brand.unique())"
      ],
      "metadata": {
        "colab": {
          "base_uri": "https://localhost:8080/"
        },
        "id": "QnQDdoEcSAQQ",
        "outputId": "1df8051c-ad34-4d36-fa8c-c7162451bb84"
      },
      "execution_count": 137,
      "outputs": [
        {
          "output_type": "execute_result",
          "data": {
            "text/plain": [
              "4723"
            ]
          },
          "metadata": {},
          "execution_count": 137
        }
      ]
    },
    {
      "cell_type": "code",
      "source": [
        "df2.brand.sample(1)"
      ],
      "metadata": {
        "colab": {
          "base_uri": "https://localhost:8080/"
        },
        "id": "IpdZn4L0kOgb",
        "outputId": "b805f81f-2f1b-40fa-f963-507b3a6e91a1"
      },
      "execution_count": 138,
      "outputs": [
        {
          "output_type": "execute_result",
          "data": {
            "text/plain": [
              "8893    Plum Feathers\n",
              "Name: brand, dtype: object"
            ]
          },
          "metadata": {},
          "execution_count": 138
        }
      ]
    },
    {
      "cell_type": "code",
      "source": [
        "df2['tokenized_text'] = df2['cleaned_reviewText'].apply(lambda x: word_tokenize(x))\n",
        "df2.sample(5)"
      ],
      "metadata": {
        "colab": {
          "base_uri": "https://localhost:8080/",
          "height": 206
        },
        "id": "pNVGK_l1lnVO",
        "outputId": "e194229b-7bda-4efe-f226-66359004b473"
      },
      "execution_count": 139,
      "outputs": [
        {
          "output_type": "execute_result",
          "data": {
            "text/plain": [
              "                brand                                 cleaned_reviewText  \\\n",
              "38678  The North Face  fit like glove highly recommend nothing compar...   \n",
              "25129   Working Class  mind coat large child grow fine love coat plea...   \n",
              "34979           Flora  received petticoat today got ta say im pretty ...   \n",
              "20224      Skylarking  give five star came fast shared bunch friend f...   \n",
              "34734          Fanmis  wow watch look like something world something ...   \n",
              "\n",
              "       overall                                     tokenized_text  \n",
              "38678      5.0  [fit, like, glove, highly, recommend, nothing,...  \n",
              "25129      5.0  [mind, coat, large, child, grow, fine, love, c...  \n",
              "34979      1.0  [received, petticoat, today, got, ta, say, im,...  \n",
              "20224      5.0  [give, five, star, came, fast, shared, bunch, ...  \n",
              "34734      5.0  [wow, watch, look, like, something, world, som...  "
            ],
            "text/html": [
              "\n",
              "  <div id=\"df-18650dfd-c7ab-44ad-9de2-057d0b9a150a\" class=\"colab-df-container\">\n",
              "    <div>\n",
              "<style scoped>\n",
              "    .dataframe tbody tr th:only-of-type {\n",
              "        vertical-align: middle;\n",
              "    }\n",
              "\n",
              "    .dataframe tbody tr th {\n",
              "        vertical-align: top;\n",
              "    }\n",
              "\n",
              "    .dataframe thead th {\n",
              "        text-align: right;\n",
              "    }\n",
              "</style>\n",
              "<table border=\"1\" class=\"dataframe\">\n",
              "  <thead>\n",
              "    <tr style=\"text-align: right;\">\n",
              "      <th></th>\n",
              "      <th>brand</th>\n",
              "      <th>cleaned_reviewText</th>\n",
              "      <th>overall</th>\n",
              "      <th>tokenized_text</th>\n",
              "    </tr>\n",
              "  </thead>\n",
              "  <tbody>\n",
              "    <tr>\n",
              "      <th>38678</th>\n",
              "      <td>The North Face</td>\n",
              "      <td>fit like glove highly recommend nothing compar...</td>\n",
              "      <td>5.0</td>\n",
              "      <td>[fit, like, glove, highly, recommend, nothing,...</td>\n",
              "    </tr>\n",
              "    <tr>\n",
              "      <th>25129</th>\n",
              "      <td>Working Class</td>\n",
              "      <td>mind coat large child grow fine love coat plea...</td>\n",
              "      <td>5.0</td>\n",
              "      <td>[mind, coat, large, child, grow, fine, love, c...</td>\n",
              "    </tr>\n",
              "    <tr>\n",
              "      <th>34979</th>\n",
              "      <td>Flora</td>\n",
              "      <td>received petticoat today got ta say im pretty ...</td>\n",
              "      <td>1.0</td>\n",
              "      <td>[received, petticoat, today, got, ta, say, im,...</td>\n",
              "    </tr>\n",
              "    <tr>\n",
              "      <th>20224</th>\n",
              "      <td>Skylarking</td>\n",
              "      <td>give five star came fast shared bunch friend f...</td>\n",
              "      <td>5.0</td>\n",
              "      <td>[give, five, star, came, fast, shared, bunch, ...</td>\n",
              "    </tr>\n",
              "    <tr>\n",
              "      <th>34734</th>\n",
              "      <td>Fanmis</td>\n",
              "      <td>wow watch look like something world something ...</td>\n",
              "      <td>5.0</td>\n",
              "      <td>[wow, watch, look, like, something, world, som...</td>\n",
              "    </tr>\n",
              "  </tbody>\n",
              "</table>\n",
              "</div>\n",
              "    <div class=\"colab-df-buttons\">\n",
              "\n",
              "  <div class=\"colab-df-container\">\n",
              "    <button class=\"colab-df-convert\" onclick=\"convertToInteractive('df-18650dfd-c7ab-44ad-9de2-057d0b9a150a')\"\n",
              "            title=\"Convert this dataframe to an interactive table.\"\n",
              "            style=\"display:none;\">\n",
              "\n",
              "  <svg xmlns=\"http://www.w3.org/2000/svg\" height=\"24px\" viewBox=\"0 -960 960 960\">\n",
              "    <path d=\"M120-120v-720h720v720H120Zm60-500h600v-160H180v160Zm220 220h160v-160H400v160Zm0 220h160v-160H400v160ZM180-400h160v-160H180v160Zm440 0h160v-160H620v160ZM180-180h160v-160H180v160Zm440 0h160v-160H620v160Z\"/>\n",
              "  </svg>\n",
              "    </button>\n",
              "\n",
              "  <style>\n",
              "    .colab-df-container {\n",
              "      display:flex;\n",
              "      gap: 12px;\n",
              "    }\n",
              "\n",
              "    .colab-df-convert {\n",
              "      background-color: #E8F0FE;\n",
              "      border: none;\n",
              "      border-radius: 50%;\n",
              "      cursor: pointer;\n",
              "      display: none;\n",
              "      fill: #1967D2;\n",
              "      height: 32px;\n",
              "      padding: 0 0 0 0;\n",
              "      width: 32px;\n",
              "    }\n",
              "\n",
              "    .colab-df-convert:hover {\n",
              "      background-color: #E2EBFA;\n",
              "      box-shadow: 0px 1px 2px rgba(60, 64, 67, 0.3), 0px 1px 3px 1px rgba(60, 64, 67, 0.15);\n",
              "      fill: #174EA6;\n",
              "    }\n",
              "\n",
              "    .colab-df-buttons div {\n",
              "      margin-bottom: 4px;\n",
              "    }\n",
              "\n",
              "    [theme=dark] .colab-df-convert {\n",
              "      background-color: #3B4455;\n",
              "      fill: #D2E3FC;\n",
              "    }\n",
              "\n",
              "    [theme=dark] .colab-df-convert:hover {\n",
              "      background-color: #434B5C;\n",
              "      box-shadow: 0px 1px 3px 1px rgba(0, 0, 0, 0.15);\n",
              "      filter: drop-shadow(0px 1px 2px rgba(0, 0, 0, 0.3));\n",
              "      fill: #FFFFFF;\n",
              "    }\n",
              "  </style>\n",
              "\n",
              "    <script>\n",
              "      const buttonEl =\n",
              "        document.querySelector('#df-18650dfd-c7ab-44ad-9de2-057d0b9a150a button.colab-df-convert');\n",
              "      buttonEl.style.display =\n",
              "        google.colab.kernel.accessAllowed ? 'block' : 'none';\n",
              "\n",
              "      async function convertToInteractive(key) {\n",
              "        const element = document.querySelector('#df-18650dfd-c7ab-44ad-9de2-057d0b9a150a');\n",
              "        const dataTable =\n",
              "          await google.colab.kernel.invokeFunction('convertToInteractive',\n",
              "                                                    [key], {});\n",
              "        if (!dataTable) return;\n",
              "\n",
              "        const docLinkHtml = 'Like what you see? Visit the ' +\n",
              "          '<a target=\"_blank\" href=https://colab.research.google.com/notebooks/data_table.ipynb>data table notebook</a>'\n",
              "          + ' to learn more about interactive tables.';\n",
              "        element.innerHTML = '';\n",
              "        dataTable['output_type'] = 'display_data';\n",
              "        await google.colab.output.renderOutput(dataTable, element);\n",
              "        const docLink = document.createElement('div');\n",
              "        docLink.innerHTML = docLinkHtml;\n",
              "        element.appendChild(docLink);\n",
              "      }\n",
              "    </script>\n",
              "  </div>\n",
              "\n",
              "\n",
              "<div id=\"df-ba7d4c27-6cb7-423b-82a4-d25e74046924\">\n",
              "  <button class=\"colab-df-quickchart\" onclick=\"quickchart('df-ba7d4c27-6cb7-423b-82a4-d25e74046924')\"\n",
              "            title=\"Suggest charts\"\n",
              "            style=\"display:none;\">\n",
              "\n",
              "<svg xmlns=\"http://www.w3.org/2000/svg\" height=\"24px\"viewBox=\"0 0 24 24\"\n",
              "     width=\"24px\">\n",
              "    <g>\n",
              "        <path d=\"M19 3H5c-1.1 0-2 .9-2 2v14c0 1.1.9 2 2 2h14c1.1 0 2-.9 2-2V5c0-1.1-.9-2-2-2zM9 17H7v-7h2v7zm4 0h-2V7h2v10zm4 0h-2v-4h2v4z\"/>\n",
              "    </g>\n",
              "</svg>\n",
              "  </button>\n",
              "\n",
              "<style>\n",
              "  .colab-df-quickchart {\n",
              "      --bg-color: #E8F0FE;\n",
              "      --fill-color: #1967D2;\n",
              "      --hover-bg-color: #E2EBFA;\n",
              "      --hover-fill-color: #174EA6;\n",
              "      --disabled-fill-color: #AAA;\n",
              "      --disabled-bg-color: #DDD;\n",
              "  }\n",
              "\n",
              "  [theme=dark] .colab-df-quickchart {\n",
              "      --bg-color: #3B4455;\n",
              "      --fill-color: #D2E3FC;\n",
              "      --hover-bg-color: #434B5C;\n",
              "      --hover-fill-color: #FFFFFF;\n",
              "      --disabled-bg-color: #3B4455;\n",
              "      --disabled-fill-color: #666;\n",
              "  }\n",
              "\n",
              "  .colab-df-quickchart {\n",
              "    background-color: var(--bg-color);\n",
              "    border: none;\n",
              "    border-radius: 50%;\n",
              "    cursor: pointer;\n",
              "    display: none;\n",
              "    fill: var(--fill-color);\n",
              "    height: 32px;\n",
              "    padding: 0;\n",
              "    width: 32px;\n",
              "  }\n",
              "\n",
              "  .colab-df-quickchart:hover {\n",
              "    background-color: var(--hover-bg-color);\n",
              "    box-shadow: 0 1px 2px rgba(60, 64, 67, 0.3), 0 1px 3px 1px rgba(60, 64, 67, 0.15);\n",
              "    fill: var(--button-hover-fill-color);\n",
              "  }\n",
              "\n",
              "  .colab-df-quickchart-complete:disabled,\n",
              "  .colab-df-quickchart-complete:disabled:hover {\n",
              "    background-color: var(--disabled-bg-color);\n",
              "    fill: var(--disabled-fill-color);\n",
              "    box-shadow: none;\n",
              "  }\n",
              "\n",
              "  .colab-df-spinner {\n",
              "    border: 2px solid var(--fill-color);\n",
              "    border-color: transparent;\n",
              "    border-bottom-color: var(--fill-color);\n",
              "    animation:\n",
              "      spin 1s steps(1) infinite;\n",
              "  }\n",
              "\n",
              "  @keyframes spin {\n",
              "    0% {\n",
              "      border-color: transparent;\n",
              "      border-bottom-color: var(--fill-color);\n",
              "      border-left-color: var(--fill-color);\n",
              "    }\n",
              "    20% {\n",
              "      border-color: transparent;\n",
              "      border-left-color: var(--fill-color);\n",
              "      border-top-color: var(--fill-color);\n",
              "    }\n",
              "    30% {\n",
              "      border-color: transparent;\n",
              "      border-left-color: var(--fill-color);\n",
              "      border-top-color: var(--fill-color);\n",
              "      border-right-color: var(--fill-color);\n",
              "    }\n",
              "    40% {\n",
              "      border-color: transparent;\n",
              "      border-right-color: var(--fill-color);\n",
              "      border-top-color: var(--fill-color);\n",
              "    }\n",
              "    60% {\n",
              "      border-color: transparent;\n",
              "      border-right-color: var(--fill-color);\n",
              "    }\n",
              "    80% {\n",
              "      border-color: transparent;\n",
              "      border-right-color: var(--fill-color);\n",
              "      border-bottom-color: var(--fill-color);\n",
              "    }\n",
              "    90% {\n",
              "      border-color: transparent;\n",
              "      border-bottom-color: var(--fill-color);\n",
              "    }\n",
              "  }\n",
              "</style>\n",
              "\n",
              "  <script>\n",
              "    async function quickchart(key) {\n",
              "      const quickchartButtonEl =\n",
              "        document.querySelector('#' + key + ' button');\n",
              "      quickchartButtonEl.disabled = true;  // To prevent multiple clicks.\n",
              "      quickchartButtonEl.classList.add('colab-df-spinner');\n",
              "      try {\n",
              "        const charts = await google.colab.kernel.invokeFunction(\n",
              "            'suggestCharts', [key], {});\n",
              "      } catch (error) {\n",
              "        console.error('Error during call to suggestCharts:', error);\n",
              "      }\n",
              "      quickchartButtonEl.classList.remove('colab-df-spinner');\n",
              "      quickchartButtonEl.classList.add('colab-df-quickchart-complete');\n",
              "    }\n",
              "    (() => {\n",
              "      let quickchartButtonEl =\n",
              "        document.querySelector('#df-ba7d4c27-6cb7-423b-82a4-d25e74046924 button');\n",
              "      quickchartButtonEl.style.display =\n",
              "        google.colab.kernel.accessAllowed ? 'block' : 'none';\n",
              "    })();\n",
              "  </script>\n",
              "</div>\n",
              "\n",
              "    </div>\n",
              "  </div>\n"
            ]
          },
          "metadata": {},
          "execution_count": 139
        }
      ]
    },
    {
      "cell_type": "code",
      "source": [
        "def get_data2(brand, rating_filter=False):\n",
        "  '''get only this category's data'''\n",
        "  # filter category\n",
        "  filtered_df = df2[df2['brand'] == brand]\n",
        "  # filter only rating 4 and 5\n",
        "  if rating_filter:\n",
        "    filtered_df = filtered_df[filtered_df['overall'].isin([1])]\n",
        "  return filtered_df"
      ],
      "metadata": {
        "id": "Fp5YyXgKksl1"
      },
      "execution_count": 140,
      "outputs": []
    },
    {
      "cell_type": "code",
      "source": [
        "def get_corpus_id2word(text_data):\n",
        "  # Create Dictionary\n",
        "  cur_id2word = corpora.Dictionary(text_data['tokenized_text'])\n",
        "  # Create Corpus\n",
        "  texts = text_data['tokenized_text']\n",
        "  # Term Document Frequency\n",
        "  cur_corpus = [cur_id2word.doc2bow(text) for text in texts]\n",
        "  return cur_corpus, cur_id2word"
      ],
      "metadata": {
        "id": "8tsHtWTOmISz"
      },
      "execution_count": 141,
      "outputs": []
    },
    {
      "cell_type": "code",
      "source": [
        "df2.brand.sample(1)"
      ],
      "metadata": {
        "colab": {
          "base_uri": "https://localhost:8080/"
        },
        "id": "NX7vxFjjl0XY",
        "outputId": "51b9ad86-8de2-4fe2-8a4a-763d9e4bbf31"
      },
      "execution_count": 142,
      "outputs": [
        {
          "output_type": "execute_result",
          "data": {
            "text/plain": [
              "46646    Jigg And Roll\n",
              "Name: brand, dtype: object"
            ]
          },
          "metadata": {},
          "execution_count": 142
        }
      ]
    },
    {
      "cell_type": "code",
      "source": [
        "brand_counts = df2.groupby('brand').size().sort_values(ascending=False).head(10)\n",
        "print(brand_counts)"
      ],
      "metadata": {
        "colab": {
          "base_uri": "https://localhost:8080/"
        },
        "id": "j_0w4MCqm3tt",
        "outputId": "ca718f7a-b2c2-49b9-de6a-ecee892f5025"
      },
      "execution_count": 143,
      "outputs": [
        {
          "output_type": "stream",
          "name": "stdout",
          "text": [
            "brand\n",
            "i play.                       878\n",
            "Pierced Owl                   631\n",
            "Angerella                     630\n",
            "MJ Metals Jewelry             439\n",
            "LaSuiveur                     356\n",
            "JASGOOD                       300\n",
            "Fawziya                       286\n",
            "Groove Plus Life              279\n",
            "WearMe Pro                    276\n",
            "Mystic Metals Body Jewelry    271\n",
            "dtype: int64\n"
          ]
        }
      ]
    },
    {
      "cell_type": "markdown",
      "source": [
        "## choose a brand here, and see topics"
      ],
      "metadata": {
        "id": "cKv4u_5ZnYnx"
      }
    },
    {
      "cell_type": "code",
      "source": [
        "brand = 'i play.'\n",
        "\n",
        "cur_corpus2, cur_id2word2 = get_corpus_id2word(get_data2(brand))\n",
        "cur_lda_model = build_lda_model(cur_corpus2, cur_id2word2, num_topics = 3)"
      ],
      "metadata": {
        "id": "ZeUV6bn2kZ6P"
      },
      "execution_count": 144,
      "outputs": []
    },
    {
      "cell_type": "code",
      "source": [
        "# Visualize the topics\n",
        "pyLDAvis.enable_notebook()\n",
        "vis = pyLDAvis.gensim.prepare(cur_lda_model, cur_corpus2, cur_id2word2, n_jobs=1)\n",
        "pyLDAvis.display(vis)"
      ],
      "metadata": {
        "colab": {
          "base_uri": "https://localhost:8080/",
          "height": 917
        },
        "id": "VTdFBe_wmhpr",
        "outputId": "53e85bd6-fc8a-460f-b034-72d8b3e18747"
      },
      "execution_count": 145,
      "outputs": [
        {
          "output_type": "stream",
          "name": "stderr",
          "text": [
            "/usr/local/lib/python3.10/dist-packages/pyLDAvis/_prepare.py:248: FutureWarning: In a future version of pandas all arguments of DataFrame.drop except for the argument 'labels' will be keyword-only.\n",
            "  by='saliency', ascending=False).head(R).drop('saliency', 1)\n"
          ]
        },
        {
          "output_type": "execute_result",
          "data": {
            "text/plain": [
              "<IPython.core.display.HTML object>"
            ],
            "text/html": [
              "\n",
              "<link rel=\"stylesheet\" type=\"text/css\" href=\"https://cdn.jsdelivr.net/gh/bmabey/pyLDAvis/pyLDAvis/js/ldavis.v1.0.0.css\">\n",
              "\n",
              "\n",
              "<div id=\"ldavis_el5271388490321375049377067957\"></div>\n",
              "<script type=\"text/javascript\">\n",
              "\n",
              "var ldavis_el5271388490321375049377067957_data = {\"mdsDat\": {\"x\": [0.24198673123726877, -0.1720218458328309, -0.06996488540443811], \"y\": [-0.041874733875589105, -0.12799608056225348, 0.16987081443784255], \"topics\": [1, 2, 3], \"cluster\": [1, 1, 1], \"Freq\": [58.861996991776685, 29.23230673448335, 11.905696273739965]}, \"tinfo\": {\"Term\": [\"well\", \"cute\", \"one\", \"great\", \"fit\", \"!\", \"bit\", \"size\", \"month\", \"small\", \"bought\", \"work\", \"old\", \"wear\", \"love\", \"daughter\", \"hat\", \"quality\", \"side\", \"made\", \"good\", \"however\", \"would\", \"run\", \"expected\", \"keep\", \"toddler\", \"swim\", \"kid\", \"time\", \"!\", \"fit\", \"size\", \"month\", \"old\", \"love\", \"hat\", \"like\", \"son\", \"year\", \"baby\", \"head\", \"little\", \"perfect\", \"sun\", \"ordered\", \"get\", \"got\", \"look\", \"perfectly\", \"make\", \"way\", \"around\", \"need\", \"pool\", \"smaller\", \"big\", \"much\", \"summer\", \"order\", \"swim\", \"comfortable\", \"tight\", \"take\", \"snug\", \"la\", \"diaper\", \"great\", \"one\", \"bought\", \"small\", \"wear\", \"quality\", \"daughter\", \"would\", \"good\", \"side\", \"kid\", \"toddler\", \"product\", \"time\", \"brand\", \"buy\", \"also\", \"wet\", \"say\", \"run\", \"two\", \"put\", \"since\", \"even\", \"different\", \"better\", \"without\", \"color\", \"used\", \"recommend\", \"getting\", \"seem\", \"fine\", \"swimming\", \"snap\", \"diaper\", \"pair\", \"well\", \"cute\", \"work\", \"made\", \"keep\", \"play\", \"expected\", \"however\", \"bit\", \"material\", \"feel\", \"going\", \"held\", \"either\", \"tag\", \"cool\", \"blowout\", \"literally\", \"ago\", \"haha\", \"okay\", \"worth\", \"disclosure\", \"disgusting\", \"puddle\", \"urine\", \"gross\", \"flimsy\", \"full\", \"tightening\", \"liquid\", \"home\", \"money\", \"theyll\", \"received\", \"contain\", \"twin\", \"class\", \"short\", \"bother\", \"figured\", \"trouble\", \"immediately\", \"snap\", \"waist\", \"diaper\", \"pack\", \"returned\"], \"Freq\": [111.0, 107.0, 182.0, 180.0, 348.0, 325.0, 77.0, 240.0, 202.0, 81.0, 69.0, 38.0, 165.0, 66.0, 156.0, 61.0, 148.0, 59.0, 58.0, 29.0, 53.0, 29.0, 50.0, 52.0, 27.0, 27.0, 49.0, 154.0, 47.0, 43.0, 325.0608906945278, 347.68295154669187, 240.41019401336828, 201.55724560578034, 164.47824148696563, 156.3804911698682, 148.28930789854795, 87.43409434680183, 93.60325745691448, 85.91855748062018, 77.61024721055796, 82.79778593364803, 71.6797515274464, 68.40180479904883, 75.00783836275384, 78.26728855985013, 74.25395575556665, 65.32113497540216, 54.271594727128566, 52.19068962109793, 57.396420485793506, 56.398585728376275, 44.93092737468359, 51.53844079042024, 42.11662120216616, 49.40485036151286, 40.306781596608154, 42.360689927173304, 40.525660455195, 46.384601892479424, 151.99613970830592, 52.16116382060683, 59.49964966164051, 44.89779747066687, 48.63822548355, 58.46206290522912, 153.82609170110348, 179.98347931574727, 181.84633726267188, 68.90963667107488, 80.86891786385091, 66.17237522669744, 59.19924341290585, 60.8562049767384, 50.22626385669076, 52.72504752643773, 58.16082654130598, 46.55963510439653, 48.395231464482094, 35.7391233989548, 42.90431174117017, 41.38323677270841, 35.675353285427455, 29.65519661902865, 25.193345513169866, 43.0545528035139, 51.35623990626928, 27.499823389158, 26.11957207786481, 32.12413277510569, 19.559180238530598, 21.71689173806052, 28.95298561503995, 20.673867478170546, 20.59024297866427, 26.02693221404638, 21.20876354844517, 39.28424896979332, 25.63636720542923, 23.074011226259515, 22.852584808711065, 42.62524713733702, 41.617050873327955, 24.810105689076778, 110.23203689915944, 106.55541889888039, 37.23825147469086, 28.951076974485147, 26.241423718524693, 21.376865635207647, 26.562097393578533, 27.790253990088043, 72.6687837027547, 5.782998665278538, 2.66082191232557, 1.2159683278516933, 6.757882005862253, 1.2024984451953837, 2.0455979065011904, 0.6373395432045766, 3.523922706393581, 3.3756992252459166, 5.562711700808495, 3.2643974272544964, 3.2508202112679188, 3.2497211703636286, 3.249576094344379, 3.249576094344379, 3.249576094344379, 3.249576094344379, 3.2868403271984454, 1.127873944402275, 3.1561160268376494, 1.4672454785713287, 3.079016473483635, 2.6247847671557634, 7.002872501790641, 7.027710957221742, 8.303402055297903, 4.630044171884824, 6.4384842138129175, 4.866735533547266, 6.7889230342156575, 4.3681020507094885, 4.3681020507094885, 4.364389676546487, 4.779773758252641, 4.870907369685451, 3.75973182246718, 4.517779239417982, 3.5392287176524317, 3.5033543327118957], \"Total\": [111.0, 107.0, 182.0, 180.0, 348.0, 325.0, 77.0, 240.0, 202.0, 81.0, 69.0, 38.0, 165.0, 66.0, 156.0, 61.0, 148.0, 59.0, 58.0, 29.0, 53.0, 29.0, 50.0, 52.0, 27.0, 27.0, 49.0, 154.0, 47.0, 43.0, 325.58962802850414, 348.25028173584155, 240.9819571455136, 202.08861154117528, 165.01301369555347, 156.91851777672423, 148.87574232117737, 87.98889435029518, 94.20934308553245, 86.48505646660155, 78.1289646537123, 83.36584468957744, 72.22449640372746, 68.9315024331082, 75.59392031568125, 78.88041479164967, 74.8574023818004, 65.9113237458858, 54.82455531839879, 52.749791184857926, 58.02125257714273, 57.07290071668659, 45.49616595694134, 52.20051634836659, 42.66880693833808, 50.06332805418156, 40.84513866165356, 42.93460964486322, 41.089168643302116, 47.03191427207457, 154.8964481650545, 53.05079456358306, 60.88051069939408, 45.62364700727378, 49.63975829867377, 61.2414826088575, 199.9609218138494, 180.63996714468294, 182.54989552436598, 69.55277881209761, 81.705529777937, 66.89798362491247, 59.859523164829874, 61.548216719988396, 50.82992956712752, 53.37419354775509, 58.879786535851984, 47.323135478173555, 49.20850991231201, 36.384569841988814, 43.680958917153355, 42.18237199475551, 36.37333223210082, 30.33304648753759, 25.825608434827146, 44.17736101097523, 52.76698731276431, 28.288748433957707, 26.869158355496147, 33.07824869413776, 20.14786628638498, 22.41186977399869, 29.88543030784615, 21.405375299069952, 21.319349664672185, 26.968964548361022, 21.977443304910768, 41.13129647549196, 26.677688834819136, 24.063405249076983, 24.336341549136076, 62.61974844660618, 199.9609218138494, 34.085343409145516, 111.01370338271765, 107.48279990400474, 38.03990398720218, 29.71962801290027, 27.095238403312845, 22.334963330727522, 27.76192530220312, 29.470986840808713, 77.2975279774865, 6.4397016693645055, 3.6621519004516667, 1.831734533202443, 10.731334508108606, 2.099956686735736, 4.0598929604434435, 1.293867671716599, 7.215788335298041, 7.104718973371032, 11.754131856738027, 7.0949809655574505, 7.095744396571938, 7.095844006209157, 7.095827307097252, 7.095827307097252, 7.095827307097252, 7.095827307097252, 7.179199999061973, 2.54717527100824, 7.142747787888546, 3.6685053050271277, 7.854913494166249, 6.69322495040598, 21.10364985445322, 22.512707459388558, 29.728058288470635, 15.185463290886926, 28.225994536982302, 18.980743522591823, 45.47768372700923, 16.994518560306847, 16.994518560306847, 16.998238725979714, 23.631339492874712, 62.61974844660618, 26.871174991666187, 199.9609218138494, 18.685201381306523, 42.11934998985225], \"Category\": [\"Default\", \"Default\", \"Default\", \"Default\", \"Default\", \"Default\", \"Default\", \"Default\", \"Default\", \"Default\", \"Default\", \"Default\", \"Default\", \"Default\", \"Default\", \"Default\", \"Default\", \"Default\", \"Default\", \"Default\", \"Default\", \"Default\", \"Default\", \"Default\", \"Default\", \"Default\", \"Default\", \"Default\", \"Default\", \"Default\", \"Topic1\", \"Topic1\", \"Topic1\", \"Topic1\", \"Topic1\", \"Topic1\", \"Topic1\", \"Topic1\", \"Topic1\", \"Topic1\", \"Topic1\", \"Topic1\", \"Topic1\", \"Topic1\", \"Topic1\", \"Topic1\", \"Topic1\", \"Topic1\", \"Topic1\", \"Topic1\", \"Topic1\", \"Topic1\", \"Topic1\", \"Topic1\", \"Topic1\", \"Topic1\", \"Topic1\", \"Topic1\", \"Topic1\", \"Topic1\", \"Topic1\", \"Topic1\", \"Topic1\", \"Topic1\", \"Topic1\", \"Topic1\", \"Topic1\", \"Topic2\", \"Topic2\", \"Topic2\", \"Topic2\", \"Topic2\", \"Topic2\", \"Topic2\", \"Topic2\", \"Topic2\", \"Topic2\", \"Topic2\", \"Topic2\", \"Topic2\", \"Topic2\", \"Topic2\", \"Topic2\", \"Topic2\", \"Topic2\", \"Topic2\", \"Topic2\", \"Topic2\", \"Topic2\", \"Topic2\", \"Topic2\", \"Topic2\", \"Topic2\", \"Topic2\", \"Topic2\", \"Topic2\", \"Topic2\", \"Topic2\", \"Topic2\", \"Topic2\", \"Topic2\", \"Topic2\", \"Topic2\", \"Topic2\", \"Topic3\", \"Topic3\", \"Topic3\", \"Topic3\", \"Topic3\", \"Topic3\", \"Topic3\", \"Topic3\", \"Topic3\", \"Topic3\", \"Topic3\", \"Topic3\", \"Topic3\", \"Topic3\", \"Topic3\", \"Topic3\", \"Topic3\", \"Topic3\", \"Topic3\", \"Topic3\", \"Topic3\", \"Topic3\", \"Topic3\", \"Topic3\", \"Topic3\", \"Topic3\", \"Topic3\", \"Topic3\", \"Topic3\", \"Topic3\", \"Topic3\", \"Topic3\", \"Topic3\", \"Topic3\", \"Topic3\", \"Topic3\", \"Topic3\", \"Topic3\", \"Topic3\", \"Topic3\", \"Topic3\", \"Topic3\", \"Topic3\", \"Topic3\", \"Topic3\", \"Topic3\", \"Topic3\", \"Topic3\"], \"logprob\": [30.0, 29.0, 28.0, 27.0, 26.0, 25.0, 24.0, 23.0, 22.0, 21.0, 20.0, 19.0, 18.0, 17.0, 16.0, 15.0, 14.0, 13.0, 12.0, 11.0, 10.0, 9.0, 8.0, 7.0, 6.0, 5.0, 4.0, 3.0, 2.0, 1.0, -3.0631, -2.9958, -3.3647, -3.541, -3.7443, -3.7948, -3.8479, -4.3762, -4.308, -4.3937, -4.4954, -4.4307, -4.5749, -4.6217, -4.5295, -4.4869, -4.5396, -4.6678, -4.8531, -4.8922, -4.7971, -4.8146, -5.0419, -4.9047, -5.1066, -4.947, -5.1505, -5.1008, -5.1451, -5.0101, -3.8232, -4.8927, -4.7611, -5.0427, -4.9627, -4.7787, -3.8112, -2.9543, -2.944, -3.9143, -3.7543, -3.9549, -4.0662, -4.0386, -4.2306, -4.1821, -4.0839, -4.3064, -4.2677, -4.5709, -4.3882, -4.4243, -4.5727, -4.7575, -4.9206, -4.3847, -4.2084, -4.833, -4.8845, -4.6775, -5.1737, -5.0691, -4.7815, -5.1183, -5.1223, -4.888, -5.0927, -4.4763, -4.9031, -5.0084, -5.0181, -4.3947, -4.4186, -4.9359, -2.5463, -2.5802, -3.6316, -3.8833, -3.9815, -4.1866, -3.9694, -3.9242, -2.963, -5.494, -6.2703, -7.0533, -5.3382, -7.0645, -6.5332, -7.6993, -5.9893, -6.0323, -5.5328, -6.0658, -6.07, -6.0703, -6.0704, -6.0704, -6.0704, -6.0704, -6.059, -7.1286, -6.0995, -6.8655, -6.1243, -6.2839, -5.3026, -5.299, -5.1322, -5.7163, -5.3866, -5.6665, -5.3336, -5.7746, -5.7746, -5.7754, -5.6845, -5.6656, -5.9245, -5.7409, -5.985, -5.9952], \"loglift\": [30.0, 29.0, 28.0, 27.0, 26.0, 25.0, 24.0, 23.0, 22.0, 21.0, 20.0, 19.0, 18.0, 17.0, 16.0, 15.0, 14.0, 13.0, 12.0, 11.0, 10.0, 9.0, 8.0, 7.0, 6.0, 5.0, 4.0, 3.0, 2.0, 1.0, 0.5283, 0.5283, 0.5276, 0.5273, 0.5267, 0.5265, 0.526, 0.5236, 0.5235, 0.5234, 0.5233, 0.5231, 0.5224, 0.5223, 0.5222, 0.5222, 0.5219, 0.521, 0.5198, 0.5193, 0.5191, 0.5181, 0.5175, 0.5172, 0.5169, 0.5167, 0.5167, 0.5165, 0.5162, 0.5161, 0.5111, 0.5131, 0.507, 0.5139, 0.5096, 0.4835, 0.2677, 1.2263, 1.226, 1.2206, 1.2196, 1.219, 1.2188, 1.2186, 1.2179, 1.2177, 1.2176, 1.2136, 1.2132, 1.212, 1.212, 1.2108, 1.2105, 1.2073, 1.2051, 1.2042, 1.2028, 1.2016, 1.2016, 1.2006, 1.2002, 1.1984, 1.1982, 1.1951, 1.1951, 1.1943, 1.1943, 1.184, 1.1901, 1.1879, 1.167, 0.8453, -0.3397, 0.9123, 2.1211, 2.1195, 2.1069, 2.102, 2.0961, 2.0843, 2.084, 2.0694, 2.0664, 2.0206, 1.8087, 1.7184, 1.6657, 1.5706, 1.4427, 1.4201, 1.4115, 1.384, 1.38, 1.3518, 1.3476, 1.3472, 1.3472, 1.3472, 1.3472, 1.3472, 1.3469, 1.3135, 1.3114, 1.2118, 1.1916, 1.1921, 1.025, 0.9639, 0.8527, 0.9404, 0.6502, 0.7672, 0.2262, 0.7696, 0.7696, 0.7685, 0.53, -0.4256, 0.1614, -1.6619, 0.4643, -0.3586]}, \"token.table\": {\"Topic\": [1, 1, 2, 3, 2, 1, 1, 1, 2, 1, 1, 2, 3, 1, 2, 3, 1, 2, 3, 2, 1, 2, 2, 1, 2, 3, 2, 1, 2, 1, 2, 3, 3, 1, 3, 2, 1, 2, 3, 2, 1, 2, 3, 1, 2, 3, 1, 3, 2, 1, 3, 1, 3, 1, 2, 3, 1, 2, 1, 1, 2, 3, 1, 2, 3, 1, 1, 2, 3, 3, 2, 1, 2, 1, 2, 3, 1, 2, 3, 1, 1, 1, 2, 3, 1, 2, 3, 1, 2, 3, 1, 2, 3, 1, 3, 2, 1, 2, 3, 1, 1, 2, 3, 1, 2, 3, 1, 1, 1, 3, 1, 3, 1, 2, 3, 1, 1, 1, 1, 2, 3, 1, 2, 1, 1, 1, 2, 3, 1, 2, 3, 1, 1, 1, 3, 1, 2, 1, 2, 3, 2, 2, 1, 2, 3, 1, 2, 1, 2, 3, 1, 2, 1, 2, 1, 2, 1, 2, 3, 2, 1, 2, 1, 1, 2, 1, 1, 2, 3, 1, 2, 1, 1, 1, 1, 2, 3, 1, 2, 1, 2, 3, 1, 1, 2, 3, 1, 2, 1, 2, 3, 2, 1, 2, 1, 2, 3, 1, 2, 3, 2, 1, 2, 3, 1, 2, 1, 2, 3, 1, 2, 3, 2, 2, 3, 1, 2, 3, 2, 1], \"Freq\": [0.9981890454186934, 0.340305864248665, 0.1701529321243325, 0.5104587963729975, 0.9890203416371507, 0.9890943347311745, 0.9983493361996552, 0.0334611210111122, 0.9703725093222536, 0.9793087087142883, 0.038811072986367344, 0.025874048657578228, 0.9444027760016054, 0.2771699926696079, 0.13858499633480395, 0.5543399853392158, 0.47074001958991385, 0.29421251224369616, 0.23537000979495692, 0.9920523835058986, 0.023706585303555922, 0.9719699974457928, 0.9897361003463042, 0.3687948257489625, 0.3687948257489625, 0.26342487553497324, 0.9850206657475405, 0.9801926705862313, 0.018849859049735216, 0.46096716747528066, 0.26340980998587465, 0.3292622624823433, 0.7728765637008929, 0.009303814199975457, 0.9955081193973739, 0.9910928902703633, 0.770150480419189, 0.21004104011432426, 0.025004885727895745, 0.9816226946634983, 0.281855788401107, 0.281855788401107, 0.4227836826016605, 0.281855788401107, 0.281855788401107, 0.4227836826016605, 0.4762002979949284, 0.4762002979949284, 0.9926609456166136, 0.03602055653973834, 0.9725550265729352, 0.2730634957759852, 0.8191904873279557, 0.47074001958991385, 0.29421251224369616, 0.23537000979495692, 0.04155687815789736, 0.9558081976316394, 0.9992813164871137, 0.3925917510985309, 0.3925917510985309, 0.3925917510985309, 0.2800042867803983, 0.2800042867803983, 0.4200064301705974, 0.9885461910977443, 0.02431238705533751, 0.9481830951581629, 0.02431238705533751, 0.5459306367127819, 0.9929892421246554, 0.9861734874359479, 0.9964572228682351, 0.27858257191070285, 0.27858257191070285, 0.4178738578660543, 0.2818894102336553, 0.2818894102336553, 0.422834115350483, 0.9941176291884538, 0.9956115758085375, 0.18637011067810794, 0.18637011067810794, 0.6522953873733778, 0.29880961940158446, 0.29880961940158446, 0.4482144291023767, 0.03393167678441266, 0.03393167678441266, 0.9500869499635545, 0.6770669942270643, 0.12695006141757456, 0.2115834356959576, 0.03690685371041922, 0.9595781964708997, 0.9931717229868974, 0.9470704746068855, 0.032657602572651226, 0.016328801286325613, 0.9887611458514496, 0.3819265485518159, 0.25461769903454395, 0.3819265485518159, 0.2815030414990565, 0.2815030414990565, 0.4222545622485848, 0.9968916861327416, 0.9849601093230925, 0.9941465303793452, 0.975786102955666, 0.9823986464996612, 0.9317201802287998, 0.426466514658404, 0.2369258414768911, 0.33169617806764756, 0.999561521351948, 0.9782317889321944, 0.9961587286411417, 0.28185908175697966, 0.28185908175697966, 0.42278862263546946, 0.9938610072450258, 0.9969876974030227, 0.9780592755356489, 0.9888386135649115, 0.5887011745565061, 0.21407315438418403, 0.21407315438418403, 0.20536686152681724, 0.7334530768814902, 0.058676246150519216, 0.98648654968732, 0.9857858928345263, 0.04477285165828955, 0.9402298848240805, 0.9843256236504435, 0.9894304139458312, 0.281855788401107, 0.281855788401107, 0.4227836826016605, 0.967652192748406, 0.9856409954609381, 0.3700208030157861, 0.3363825481961692, 0.2691060385569353, 0.04550119802955215, 0.9555251586205952, 0.7597458177229637, 0.1661943976268983, 0.09496822721537046, 0.018951243020048265, 0.9665133940224616, 0.022636028434373078, 0.9733492226780424, 0.03748450647999244, 0.9745971684798036, 0.5277313625747915, 0.32983210160924464, 0.1539216474176475, 0.985057919065038, 0.03023134656391961, 0.9674030900454276, 0.9959251839550765, 0.012239073692048083, 0.9913649690558947, 0.9787603402428467, 0.23954104531080975, 0.6866843298909879, 0.07984701510360326, 0.9871119779668456, 0.020145142407486643, 0.9977778946474302, 0.9978298747274204, 0.9921432793377956, 0.9813007451147744, 0.012911851909404927, 0.006455925954702463, 0.041090810546891725, 0.9450886425785097, 0.24631191259061533, 0.24631191259061533, 0.49262382518123066, 0.9863306191376074, 0.444193574586235, 0.266516144751741, 0.3109355022103645, 0.9691114499896467, 0.016425617796434692, 0.2725905830447219, 0.2725905830447219, 0.2725905830447219, 0.9844106234378948, 0.020321688297043904, 0.9754410382581075, 0.47063699533605124, 0.294148122085032, 0.23531849766802562, 0.6022817009238146, 0.17714167674229842, 0.2125700120907581, 0.9544430734726073, 0.281855788401107, 0.281855788401107, 0.4227836826016605, 0.037079658664936496, 0.9640711252883489, 0.6326481817513514, 0.2232875935593005, 0.14885839570620035, 0.9812012232913737, 0.9865768207611856, 0.9908686643916118, 0.9680314042973807, 0.9810619859074573, 0.9726628125151936, 0.2818551250915208, 0.2818551250915208, 0.42278268763728116, 0.9836724234285729, 0.9943914418696267], \"Term\": [\"!\", \"ago\", \"ago\", \"ago\", \"also\", \"around\", \"baby\", \"better\", \"better\", \"big\", \"bit\", \"bit\", \"bit\", \"blowout\", \"blowout\", \"blowout\", \"bother\", \"bother\", \"bother\", \"bought\", \"brand\", \"brand\", \"buy\", \"class\", \"class\", \"class\", \"color\", \"comfortable\", \"comfortable\", \"contain\", \"contain\", \"contain\", \"cool\", \"cute\", \"cute\", \"daughter\", \"diaper\", \"diaper\", \"diaper\", \"different\", \"disclosure\", \"disclosure\", \"disclosure\", \"disgusting\", \"disgusting\", \"disgusting\", \"either\", \"either\", \"even\", \"expected\", \"expected\", \"feel\", \"feel\", \"figured\", \"figured\", \"figured\", \"fine\", \"fine\", \"fit\", \"flimsy\", \"flimsy\", \"flimsy\", \"full\", \"full\", \"full\", \"get\", \"getting\", \"getting\", \"getting\", \"going\", \"good\", \"got\", \"great\", \"gross\", \"gross\", \"gross\", \"haha\", \"haha\", \"haha\", \"hat\", \"head\", \"held\", \"held\", \"held\", \"home\", \"home\", \"home\", \"however\", \"however\", \"however\", \"immediately\", \"immediately\", \"immediately\", \"keep\", \"keep\", \"kid\", \"la\", \"la\", \"la\", \"like\", \"liquid\", \"liquid\", \"liquid\", \"literally\", \"literally\", \"literally\", \"little\", \"look\", \"love\", \"made\", \"make\", \"material\", \"money\", \"money\", \"money\", \"month\", \"much\", \"need\", \"okay\", \"okay\", \"okay\", \"old\", \"one\", \"order\", \"ordered\", \"pack\", \"pack\", \"pack\", \"pair\", \"pair\", \"pair\", \"perfect\", \"perfectly\", \"play\", \"play\", \"pool\", \"product\", \"puddle\", \"puddle\", \"puddle\", \"put\", \"quality\", \"received\", \"received\", \"received\", \"recommend\", \"recommend\", \"returned\", \"returned\", \"returned\", \"run\", \"run\", \"say\", \"say\", \"seem\", \"seem\", \"short\", \"short\", \"short\", \"side\", \"since\", \"since\", \"size\", \"small\", \"small\", \"smaller\", \"snap\", \"snap\", \"snap\", \"snug\", \"snug\", \"son\", \"summer\", \"sun\", \"swim\", \"swim\", \"swim\", \"swimming\", \"swimming\", \"tag\", \"tag\", \"tag\", \"take\", \"theyll\", \"theyll\", \"theyll\", \"tight\", \"tight\", \"tightening\", \"tightening\", \"tightening\", \"time\", \"toddler\", \"toddler\", \"trouble\", \"trouble\", \"trouble\", \"twin\", \"twin\", \"twin\", \"two\", \"urine\", \"urine\", \"urine\", \"used\", \"used\", \"waist\", \"waist\", \"waist\", \"way\", \"wear\", \"well\", \"wet\", \"without\", \"work\", \"worth\", \"worth\", \"worth\", \"would\", \"year\"]}, \"R\": 30, \"lambda.step\": 0.01, \"plot.opts\": {\"xlab\": \"PC1\", \"ylab\": \"PC2\"}, \"topic.order\": [1, 3, 2]};\n",
              "\n",
              "function LDAvis_load_lib(url, callback){\n",
              "  var s = document.createElement('script');\n",
              "  s.src = url;\n",
              "  s.async = true;\n",
              "  s.onreadystatechange = s.onload = callback;\n",
              "  s.onerror = function(){console.warn(\"failed to load library \" + url);};\n",
              "  document.getElementsByTagName(\"head\")[0].appendChild(s);\n",
              "}\n",
              "\n",
              "if(typeof(LDAvis) !== \"undefined\"){\n",
              "   // already loaded: just create the visualization\n",
              "   !function(LDAvis){\n",
              "       new LDAvis(\"#\" + \"ldavis_el5271388490321375049377067957\", ldavis_el5271388490321375049377067957_data);\n",
              "   }(LDAvis);\n",
              "}else if(typeof define === \"function\" && define.amd){\n",
              "   // require.js is available: use it to load d3/LDAvis\n",
              "   require.config({paths: {d3: \"https://d3js.org/d3.v5\"}});\n",
              "   require([\"d3\"], function(d3){\n",
              "      window.d3 = d3;\n",
              "      LDAvis_load_lib(\"https://cdn.jsdelivr.net/gh/bmabey/pyLDAvis/pyLDAvis/js/ldavis.v3.0.0.js\", function(){\n",
              "        new LDAvis(\"#\" + \"ldavis_el5271388490321375049377067957\", ldavis_el5271388490321375049377067957_data);\n",
              "      });\n",
              "    });\n",
              "}else{\n",
              "    // require.js not available: dynamically load d3 & LDAvis\n",
              "    LDAvis_load_lib(\"https://d3js.org/d3.v5.js\", function(){\n",
              "         LDAvis_load_lib(\"https://cdn.jsdelivr.net/gh/bmabey/pyLDAvis/pyLDAvis/js/ldavis.v3.0.0.js\", function(){\n",
              "                 new LDAvis(\"#\" + \"ldavis_el5271388490321375049377067957\", ldavis_el5271388490321375049377067957_data);\n",
              "            })\n",
              "         });\n",
              "}\n",
              "</script>"
            ]
          },
          "metadata": {},
          "execution_count": 145
        }
      ]
    },
    {
      "cell_type": "markdown",
      "source": [
        "## further to explore this brand's negative reviews topics"
      ],
      "metadata": {
        "id": "c5S-jCVtnieW"
      }
    },
    {
      "cell_type": "code",
      "source": [
        "cur_corpus2, cur_id2word2 = get_corpus_id2word(get_data2(brand, rating_filter=True))\n",
        "cur_lda_model = build_lda_model(cur_corpus2, cur_id2word2, num_topics = 3)"
      ],
      "metadata": {
        "id": "SavuvJlioEEa"
      },
      "execution_count": 146,
      "outputs": []
    },
    {
      "cell_type": "code",
      "source": [
        "# Visualize the topics\n",
        "pyLDAvis.enable_notebook()\n",
        "vis = pyLDAvis.gensim.prepare(cur_lda_model, cur_corpus2, cur_id2word2, n_jobs=1)\n",
        "pyLDAvis.display(vis)"
      ],
      "metadata": {
        "colab": {
          "base_uri": "https://localhost:8080/",
          "height": 917
        },
        "id": "5mFlkFRLoIqX",
        "outputId": "de33aaae-e4d3-4872-b0b2-f27cd246c962"
      },
      "execution_count": 147,
      "outputs": [
        {
          "output_type": "stream",
          "name": "stderr",
          "text": [
            "/usr/local/lib/python3.10/dist-packages/pyLDAvis/_prepare.py:248: FutureWarning: In a future version of pandas all arguments of DataFrame.drop except for the argument 'labels' will be keyword-only.\n",
            "  by='saliency', ascending=False).head(R).drop('saliency', 1)\n"
          ]
        },
        {
          "output_type": "execute_result",
          "data": {
            "text/plain": [
              "<IPython.core.display.HTML object>"
            ],
            "text/html": [
              "\n",
              "<link rel=\"stylesheet\" type=\"text/css\" href=\"https://cdn.jsdelivr.net/gh/bmabey/pyLDAvis/pyLDAvis/js/ldavis.v1.0.0.css\">\n",
              "\n",
              "\n",
              "<div id=\"ldavis_el5271388494531648007555466167\"></div>\n",
              "<script type=\"text/javascript\">\n",
              "\n",
              "var ldavis_el5271388494531648007555466167_data = {\"mdsDat\": {\"x\": [-0.07029154687151452, -0.052646457483115416, 0.12293800435462991], \"y\": [0.07962858179371694, -0.0876307331738314, 0.008002151380114569], \"topics\": [1, 2, 3], \"cluster\": [1, 1, 1], \"Freq\": [40.5411847852611, 33.19982901240272, 26.25898620233617]}, \"tinfo\": {\"Term\": [\"one\", \"received\", \"diaper\", \"small\", \"!\", \"old\", \"month\", \"hat\", \"paid\", \"way\", \"size\", \"play\", \"year\", \"get\", \"ago\", \"return\", \"use\", \"home\", \"smaller\", \"even\", \"fit\", \"buying\", \"ordered\", \"side\", \"like\", \"wish\", \"does\", \"n't\", \"thigh\", \"put\", \"get\", \"use\", \"really\", \"wet\", \"brim\", \"unless\", \"flat\", \"piece\", \"like\", \"got\", \"see\", \"strap\", \"already\", \"around\", \"child\", \"chin\", \"cloth\", \"lightest\", \"loosens\", \"pressure\", \"removed\", \"terribly\", \"thing\", \"tightening\", \"wouldve\", \"hat\", \"imagine\", \"leg\", \"must\", \"pant\", \"could\", \"stay\", \"tag\", \"head\", \"returned\", \"!\", \"old\", \"small\", \"way\", \"return\", \"home\", \"does\", \"n't\", \"thigh\", \"wish\", \"put\", \"product\", \"side\", \"broke\", \"buy\", \"worst\", \"english\", \"its\", \"know\", \"shipped\", \"sizes\", \"month\", \"even\", \"hard\", \"go\", \"reusable\", \"swimmer\", \"us\", \"chubby\", \"cry\", \"tight\", \"fit\", \"pull\", \"well\", \"head\", \"back\", \"expected\", \"keep\", \"size\", \"hat\", \"one\", \"received\", \"diaper\", \"paid\", \"play\", \"year\", \"ago\", \"smaller\", \"buying\", \"ordered\", \"!\", \"although\", \"changed\", \"chinese\", \"feel\", \"flimsy\", \"girl\", \"going\", \"job\", \"knock\", \"manufacturer\", \"material\", \"plastic\", \"result\", \"saying\", \"sewing\", \"start\", \"stated\", \"thinner\", \"twin\", \"size\", \"it\", \"disappointed\", \"summer\", \"month\", \"son\", \"could\"], \"Freq\": [6.0, 6.0, 5.0, 4.0, 6.0, 4.0, 6.0, 10.0, 3.0, 3.0, 4.0, 2.0, 2.0, 4.0, 2.0, 2.0, 3.0, 2.0, 2.0, 3.0, 4.0, 1.0, 1.0, 2.0, 4.0, 2.0, 2.0, 2.0, 2.0, 2.0, 4.127884160987907, 3.118490530919052, 2.1816092897388057, 2.1816092897388057, 1.7583136946044666, 1.7583136946044666, 1.758313529984291, 2.119752929448686, 3.499981984754998, 1.9698297137209235, 1.4612694277810878, 2.3747370706003323, 1.3282222493735298, 1.3282222493735298, 1.3282222493735298, 1.3282222493735298, 1.3282222493735298, 1.3282222493735298, 1.3282222493735298, 1.3282222493735298, 1.3282222493735298, 1.3282222493735298, 1.3282222493735298, 1.3282222493735298, 1.3282222493735298, 7.733341584769406, 1.273300760918455, 1.273300760918455, 1.273300760918455, 1.273300760918455, 2.163203272504891, 1.8747093776115853, 1.5277474995062634, 1.7938658908670433, 1.5157014181434776, 1.5715833830141475, 3.9347769035210125, 4.218156388161655, 3.1964952532300814, 2.4638672694435284, 2.176135170695707, 1.6563546946610999, 1.6563546946610999, 1.6563546946610999, 1.6563546946610999, 1.5572537586992994, 1.514655111202555, 1.827243228900833, 1.2677525468431525, 1.5330783960076204, 1.2207772890391773, 1.2175144798826734, 1.2175144798826734, 1.2175144798826734, 1.2175144798826734, 1.2175144798826734, 4.708262597009528, 2.3290045808481037, 1.555944213265003, 0.9738925196146448, 0.9738925196146448, 0.9738925196146448, 0.9738911715135183, 0.9388541580455086, 0.9388541580455086, 0.9388541580455086, 2.6837668289983867, 1.2369621867337774, 1.5491642082694215, 1.9330345211333015, 1.3562357035224089, 1.2207768846088394, 1.1993678254287687, 1.7575221348397352, 2.4137181771573992, 6.4447867370368055, 5.676384733689341, 4.96787603572601, 2.57941019347595, 2.306114040115903, 2.184064391503559, 1.8206423081723908, 1.5756323152152172, 1.290343468749495, 1.290343468749495, 4.043158084017063, 0.8840243749769464, 0.8840243749769464, 0.8840243749769464, 0.8840243749769464, 0.8840243749769464, 0.8840243749769464, 0.8840243749769464, 0.8840243749769464, 0.8840243749769464, 0.8840243749769464, 0.8840243749769464, 0.8840243749769464, 0.8840243749769464, 0.8840243749769464, 0.8840243749769464, 0.8840243749769464, 0.8840243749769464, 0.8840243749769464, 0.8840243749769464, 2.7689658430018187, 1.1846673638299818, 1.112850245968108, 1.211321607807883, 1.6456641879478318, 1.0274695088529524, 1.0477709543597746], \"Total\": [6.0, 6.0, 5.0, 4.0, 6.0, 4.0, 6.0, 10.0, 3.0, 3.0, 4.0, 2.0, 2.0, 4.0, 2.0, 2.0, 3.0, 2.0, 2.0, 3.0, 4.0, 1.0, 1.0, 2.0, 4.0, 2.0, 2.0, 2.0, 2.0, 2.0, 4.684570561718701, 3.5740686181030172, 2.63759273408025, 2.63759273408025, 2.208117527638287, 2.208117527638287, 2.2081173630181112, 2.6675724938887266, 4.505355872074354, 2.5678362681947555, 1.9110687952299263, 3.1185998263326136, 1.7780408609659495, 1.7780408609659495, 1.7780408609659495, 1.7780408609659495, 1.7780408609659495, 1.7780408609659495, 1.7780408609659495, 1.7780408609659495, 1.7780408609659495, 1.7780408609659495, 1.7780408609659495, 1.7780408609659495, 1.7780408609659495, 10.418102447158496, 1.7735688554305196, 1.7735688554305196, 1.7735688554305196, 1.7735688554305196, 3.578942979188211, 3.0429885086317876, 2.5523158756084925, 3.9179196016019806, 3.136204355592479, 6.192631842124242, 4.4148241256993535, 4.740510400710099, 3.711285109353857, 2.9392687877448287, 2.6560323891216067, 2.1530676167560174, 2.1530676167560174, 2.1530676167560174, 2.1530676167560174, 2.0330252505521944, 1.9872342498509405, 2.4136153357905377, 1.740331685491538, 2.1207678465245356, 1.6933564894201287, 1.6936400443062072, 1.6936400443062072, 1.6936400443062072, 1.6936400443062072, 1.6936400443062072, 6.635581225985008, 3.331502781060301, 2.2422944822403497, 1.4464716582630304, 1.4464716582630304, 1.4464716582630304, 1.4464703101619039, 1.4372853905728038, 1.4372853905728038, 1.4372853905728038, 4.212615350998115, 2.0116026595702583, 2.6729360473528003, 3.9179196016019806, 2.4212819288186735, 2.123341267897261, 2.125190241012079, 4.813620340416017, 10.418102447158496, 6.985126863930758, 6.219203711190206, 5.508216162619963, 3.119750320369903, 2.8690704069719395, 2.774420541383571, 2.372129566804232, 2.211451875256288, 1.835476491483794, 1.835476491483794, 6.192631842124242, 1.4495698262251029, 1.4495698262251029, 1.4495698262251029, 1.4495698262251029, 1.4495698262251029, 1.4495698262251029, 1.4495698262251029, 1.4495698262251029, 1.4495698262251029, 1.4495698262251029, 1.4495698262251029, 1.4495698262251029, 1.4495698262251029, 1.4495698262251029, 1.4495698262251029, 1.4495698262251029, 1.4495698262251029, 1.4495698262251029, 1.4495698262251029, 4.813620340416017, 2.056536867480589, 1.9546533647549207, 2.77120796429412, 6.635581225985008, 2.1313161649007486, 3.578942979188211], \"Category\": [\"Default\", \"Default\", \"Default\", \"Default\", \"Default\", \"Default\", \"Default\", \"Default\", \"Default\", \"Default\", \"Default\", \"Default\", \"Default\", \"Default\", \"Default\", \"Default\", \"Default\", \"Default\", \"Default\", \"Default\", \"Default\", \"Default\", \"Default\", \"Default\", \"Default\", \"Default\", \"Default\", \"Default\", \"Default\", \"Default\", \"Topic1\", \"Topic1\", \"Topic1\", \"Topic1\", \"Topic1\", \"Topic1\", \"Topic1\", \"Topic1\", \"Topic1\", \"Topic1\", \"Topic1\", \"Topic1\", \"Topic1\", \"Topic1\", \"Topic1\", \"Topic1\", \"Topic1\", \"Topic1\", \"Topic1\", \"Topic1\", \"Topic1\", \"Topic1\", \"Topic1\", \"Topic1\", \"Topic1\", \"Topic1\", \"Topic1\", \"Topic1\", \"Topic1\", \"Topic1\", \"Topic1\", \"Topic1\", \"Topic1\", \"Topic1\", \"Topic1\", \"Topic1\", \"Topic2\", \"Topic2\", \"Topic2\", \"Topic2\", \"Topic2\", \"Topic2\", \"Topic2\", \"Topic2\", \"Topic2\", \"Topic2\", \"Topic2\", \"Topic2\", \"Topic2\", \"Topic2\", \"Topic2\", \"Topic2\", \"Topic2\", \"Topic2\", \"Topic2\", \"Topic2\", \"Topic2\", \"Topic2\", \"Topic2\", \"Topic2\", \"Topic2\", \"Topic2\", \"Topic2\", \"Topic2\", \"Topic2\", \"Topic2\", \"Topic2\", \"Topic2\", \"Topic2\", \"Topic2\", \"Topic2\", \"Topic2\", \"Topic2\", \"Topic2\", \"Topic2\", \"Topic3\", \"Topic3\", \"Topic3\", \"Topic3\", \"Topic3\", \"Topic3\", \"Topic3\", \"Topic3\", \"Topic3\", \"Topic3\", \"Topic3\", \"Topic3\", \"Topic3\", \"Topic3\", \"Topic3\", \"Topic3\", \"Topic3\", \"Topic3\", \"Topic3\", \"Topic3\", \"Topic3\", \"Topic3\", \"Topic3\", \"Topic3\", \"Topic3\", \"Topic3\", \"Topic3\", \"Topic3\", \"Topic3\", \"Topic3\", \"Topic3\", \"Topic3\", \"Topic3\", \"Topic3\", \"Topic3\", \"Topic3\", \"Topic3\"], \"logprob\": [30.0, 29.0, 28.0, 27.0, 26.0, 25.0, 24.0, 23.0, 22.0, 21.0, 20.0, 19.0, 18.0, 17.0, 16.0, 15.0, 14.0, 13.0, 12.0, 11.0, 10.0, 9.0, 8.0, 7.0, 6.0, 5.0, 4.0, 3.0, 2.0, 1.0, -3.757, -4.0374, -4.3947, -4.3947, -4.6104, -4.6104, -4.6104, -4.4235, -3.922, -4.4968, -4.7955, -4.3099, -4.8909, -4.8909, -4.8909, -4.8909, -4.8909, -4.8909, -4.8909, -4.8909, -4.8909, -4.8909, -4.8909, -4.8909, -4.8909, -3.1292, -4.9332, -4.9332, -4.9332, -4.9332, -4.4032, -4.5463, -4.751, -4.5904, -4.7589, -4.7227, -3.6052, -3.5356, -3.813, -4.0733, -4.1975, -4.4704, -4.4704, -4.4704, -4.4704, -4.5321, -4.5598, -4.3722, -4.7378, -4.5477, -4.7755, -4.7782, -4.7782, -4.7782, -4.7782, -4.7782, -3.4257, -4.1296, -4.5329, -5.0015, -5.0015, -5.0015, -5.0015, -5.0381, -5.0381, -5.0381, -3.9878, -4.7624, -4.5373, -4.3159, -4.6703, -4.7755, -4.7932, -4.4111, -4.0938, -2.8772, -3.0042, -3.1375, -3.7929, -3.9049, -3.9593, -4.1413, -4.2858, -4.4856, -4.4856, -3.3435, -4.8638, -4.8638, -4.8638, -4.8638, -4.8638, -4.8638, -4.8638, -4.8638, -4.8638, -4.8638, -4.8638, -4.8638, -4.8638, -4.8638, -4.8638, -4.8638, -4.8638, -4.8638, -4.8638, -3.722, -4.571, -4.6336, -4.5488, -4.2423, -4.7134, -4.6938], \"loglift\": [30.0, 29.0, 28.0, 27.0, 26.0, 25.0, 24.0, 23.0, 22.0, 21.0, 20.0, 19.0, 18.0, 17.0, 16.0, 15.0, 14.0, 13.0, 12.0, 11.0, 10.0, 9.0, 8.0, 7.0, 6.0, 5.0, 4.0, 3.0, 2.0, 1.0, 0.7763, 0.7665, 0.713, 0.713, 0.6751, 0.6751, 0.6751, 0.673, 0.6503, 0.6377, 0.6345, 0.6304, 0.6112, 0.6112, 0.6112, 0.6112, 0.6112, 0.6112, 0.6112, 0.6112, 0.6112, 0.6112, 0.6112, 0.6112, 0.6112, 0.6048, 0.5715, 0.5715, 0.5715, 0.5715, 0.3994, 0.4185, 0.3896, 0.1217, 0.1757, -0.4684, 0.9875, 0.9859, 0.9533, 0.9262, 0.9033, 0.8404, 0.8404, 0.8404, 0.8404, 0.836, 0.8311, 0.8243, 0.7858, 0.7781, 0.7754, 0.7726, 0.7726, 0.7726, 0.7726, 0.7726, 0.7595, 0.7446, 0.7372, 0.707, 0.707, 0.707, 0.707, 0.6768, 0.6768, 0.6768, 0.6518, 0.6164, 0.5572, 0.3962, 0.523, 0.5491, 0.5306, 0.0951, -0.3598, 1.2567, 1.2458, 1.2339, 1.147, 1.1187, 1.0979, 1.0726, 0.9982, 0.9848, 0.9848, 0.9108, 0.8426, 0.8426, 0.8426, 0.8426, 0.8426, 0.8426, 0.8426, 0.8426, 0.8426, 0.8426, 0.8426, 0.8426, 0.8426, 0.8426, 0.8426, 0.8426, 0.8426, 0.8426, 0.8426, 0.7842, 0.7856, 0.7739, 0.5096, -0.0571, 0.6075, 0.1088]}, \"token.table\": {\"Topic\": [1, 2, 3, 3, 1, 3, 1, 1, 2, 1, 2, 2, 3, 3, 1, 1, 3, 2, 1, 1, 3, 2, 3, 2, 3, 2, 2, 2, 3, 1, 2, 3, 1, 2, 1, 3, 1, 3, 2, 3, 1, 2, 1, 2, 1, 2, 2, 1, 2, 3, 2, 3, 1, 2, 3, 2, 1, 1, 1, 2, 1, 3, 3, 2, 3, 1, 2, 2, 3, 3, 3, 1, 1, 3, 3, 1, 2, 1, 2, 2, 1, 3, 1, 3, 2, 1, 2, 3, 2, 3, 1, 3, 2, 2, 2, 3, 2, 2, 3, 1, 3, 3, 3, 1, 2, 1, 2, 1, 3, 2, 1, 3, 1, 2, 1, 3, 2, 1, 3, 1, 2, 1, 2, 1, 2, 1, 2, 2, 1, 3], \"Freq\": [0.3229644601824005, 0.16148223009120025, 0.645928920364801, 0.8431242660553443, 0.5624167711515549, 0.6898598342131265, 0.5624167711515549, 0.41300436272941293, 0.41300436272941293, 0.9057488901594468, 0.574603110623456, 0.943054659791053, 0.5448176561453003, 0.6898598342131265, 0.5624167711515549, 0.5624167711515549, 0.6898598342131265, 0.695756045778402, 0.5624167711515549, 0.5588242147556224, 0.2794121073778112, 0.695756045778402, 0.9077348913666758, 0.5115996616235752, 0.5115996616235752, 0.9289071947556198, 0.590444234807666, 0.6003296804583396, 0.3001648402291698, 0.4709558539265321, 0.4709558539265321, 0.6898598342131265, 0.23738222379194088, 0.7121466713758227, 0.9057489576850883, 0.6898598342131265, 0.8538669547828218, 0.6898598342131265, 0.6913374308355492, 0.6898598342131265, 0.7788658586888966, 0.8919435051196909, 0.7678941573647103, 0.19197353934117758, 0.5104749977978693, 0.5104749977978693, 0.7530028655491783, 0.5638348897129557, 0.4862543510951372, 0.4862543510951372, 0.590444234807666, 0.6898598342131265, 0.4705461095679463, 0.4705461095679463, 0.6898598342131265, 0.590444234807666, 0.5638348897129557, 0.5624167711515549, 0.6658741473886594, 0.2219580491295531, 0.5624167711515549, 0.6898598342131265, 0.6898598342131265, 0.7535134948570814, 0.30140539794283255, 0.5638348897129557, 0.9289071947556198, 0.9060383576132512, 0.8589679352829398, 0.5448176561453003, 0.9616154153144845, 0.5638348897129557, 0.74974532260394, 0.6898598342131265, 0.6970898989233347, 0.5624167711515549, 1.006423877884561, 0.4971160657610343, 0.4971160657610343, 0.983755612212281, 0.7582671783092457, 0.964753733537335, 0.5624167711515549, 0.6898598342131265, 0.6804413425335326, 0.6377135458133015, 0.31885677290665076, 0.31885677290665076, 0.6913374308355492, 0.6898598342131265, 0.5232674001564067, 0.6898598342131265, 0.590444234807666, 0.8286324545352356, 0.41548769087741344, 0.6232315363161202, 0.590444234807666, 0.8437909975687058, 0.9043832345518337, 0.4691936449731606, 0.4691936449731606, 0.6898598342131265, 0.6898598342131265, 0.6572486206657598, 0.3286243103328799, 0.6413134455766145, 0.32065672278830726, 0.3608534663888783, 0.3608534663888783, 0.6913374308355492, 0.7836020686597751, 0.39180103432988755, 0.5624167711515549, 0.9289071947556198, 0.5624167711515549, 0.6898598342131265, 0.695756045778402, 0.5624167711515549, 0.6898598342131265, 0.9057488901594468, 0.6913380751576365, 0.839379519689325, 0.8083453336524465, 0.37412043621109886, 0.7482408724221977, 0.7582671783092457, 0.9289071947556198, 0.5905431055113735, 0.5624167711515549, 0.7208712486689648], \"Term\": [\"!\", \"!\", \"!\", \"ago\", \"already\", \"although\", \"around\", \"back\", \"back\", \"brim\", \"broke\", \"buy\", \"buying\", \"changed\", \"child\", \"chin\", \"chinese\", \"chubby\", \"cloth\", \"could\", \"could\", \"cry\", \"diaper\", \"disappointed\", \"disappointed\", \"does\", \"english\", \"even\", \"even\", \"expected\", \"expected\", \"feel\", \"fit\", \"fit\", \"flat\", \"flimsy\", \"get\", \"girl\", \"go\", \"going\", \"got\", \"hard\", \"hat\", \"hat\", \"head\", \"head\", \"home\", \"imagine\", \"it\", \"it\", \"its\", \"job\", \"keep\", \"keep\", \"knock\", \"know\", \"leg\", \"lightest\", \"like\", \"like\", \"loosens\", \"manufacturer\", \"material\", \"month\", \"month\", \"must\", \"n't\", \"old\", \"one\", \"ordered\", \"paid\", \"pant\", \"piece\", \"plastic\", \"play\", \"pressure\", \"product\", \"pull\", \"pull\", \"put\", \"really\", \"received\", \"removed\", \"result\", \"return\", \"returned\", \"returned\", \"returned\", \"reusable\", \"saying\", \"see\", \"sewing\", \"shipped\", \"side\", \"size\", \"size\", \"sizes\", \"small\", \"smaller\", \"son\", \"son\", \"start\", \"stated\", \"stay\", \"stay\", \"strap\", \"strap\", \"summer\", \"summer\", \"swimmer\", \"tag\", \"tag\", \"terribly\", \"thigh\", \"thing\", \"thinner\", \"tight\", \"tightening\", \"twin\", \"unless\", \"us\", \"use\", \"way\", \"well\", \"well\", \"wet\", \"wish\", \"worst\", \"wouldve\", \"year\"]}, \"R\": 30, \"lambda.step\": 0.01, \"plot.opts\": {\"xlab\": \"PC1\", \"ylab\": \"PC2\"}, \"topic.order\": [2, 1, 3]};\n",
              "\n",
              "function LDAvis_load_lib(url, callback){\n",
              "  var s = document.createElement('script');\n",
              "  s.src = url;\n",
              "  s.async = true;\n",
              "  s.onreadystatechange = s.onload = callback;\n",
              "  s.onerror = function(){console.warn(\"failed to load library \" + url);};\n",
              "  document.getElementsByTagName(\"head\")[0].appendChild(s);\n",
              "}\n",
              "\n",
              "if(typeof(LDAvis) !== \"undefined\"){\n",
              "   // already loaded: just create the visualization\n",
              "   !function(LDAvis){\n",
              "       new LDAvis(\"#\" + \"ldavis_el5271388494531648007555466167\", ldavis_el5271388494531648007555466167_data);\n",
              "   }(LDAvis);\n",
              "}else if(typeof define === \"function\" && define.amd){\n",
              "   // require.js is available: use it to load d3/LDAvis\n",
              "   require.config({paths: {d3: \"https://d3js.org/d3.v5\"}});\n",
              "   require([\"d3\"], function(d3){\n",
              "      window.d3 = d3;\n",
              "      LDAvis_load_lib(\"https://cdn.jsdelivr.net/gh/bmabey/pyLDAvis/pyLDAvis/js/ldavis.v3.0.0.js\", function(){\n",
              "        new LDAvis(\"#\" + \"ldavis_el5271388494531648007555466167\", ldavis_el5271388494531648007555466167_data);\n",
              "      });\n",
              "    });\n",
              "}else{\n",
              "    // require.js not available: dynamically load d3 & LDAvis\n",
              "    LDAvis_load_lib(\"https://d3js.org/d3.v5.js\", function(){\n",
              "         LDAvis_load_lib(\"https://cdn.jsdelivr.net/gh/bmabey/pyLDAvis/pyLDAvis/js/ldavis.v3.0.0.js\", function(){\n",
              "                 new LDAvis(\"#\" + \"ldavis_el5271388494531648007555466167\", ldavis_el5271388494531648007555466167_data);\n",
              "            })\n",
              "         });\n",
              "}\n",
              "</script>"
            ]
          },
          "metadata": {},
          "execution_count": 147
        }
      ]
    },
    {
      "cell_type": "code",
      "source": [],
      "metadata": {
        "id": "ygi75KlVSCmU"
      },
      "execution_count": null,
      "outputs": []
    },
    {
      "cell_type": "markdown",
      "source": [
        "# 2. BerTopic\n",
        "\n",
        "no need to do vectorizer, BERTopic uses transformer-based models to create dense vector representations of text documents.\n",
        "\n",
        "(Limitation: It would be better to use basic_cleaned_data on raw data or basic_cleaned_data, but here used deep cleaned data for convenience)"
      ],
      "metadata": {
        "id": "Wr-dIwB3rFOj"
      }
    },
    {
      "cell_type": "markdown",
      "source": [
        "## 2.1 BerTopic modeling for the whole review dataset"
      ],
      "metadata": {
        "id": "DnBJAKh2skNF"
      }
    },
    {
      "cell_type": "code",
      "source": [
        "!pip install bertopic"
      ],
      "metadata": {
        "id": "1byzTDWTrLHu"
      },
      "execution_count": null,
      "outputs": []
    },
    {
      "cell_type": "code",
      "source": [
        "# Assuming 'df' is your DataFrame and 'text_column' is the name of the column containing text\n",
        "documents = df['cleaned_reviewText'].tolist()"
      ],
      "metadata": {
        "id": "BWjrMA8IrR6C"
      },
      "execution_count": 149,
      "outputs": []
    },
    {
      "cell_type": "code",
      "source": [
        "from bertopic import BERTopic\n",
        "\n",
        "# Create a BERTopic model\n",
        "topic_model = BERTopic(min_topic_size=100)   #  when min_topic_size=10, has 715 topics, too much, increased to 100;\n",
        "                                              # only a 30000+ size huge topic and some other tiny topics.\n",
        "# Fit the model\n",
        "topics, probabilities = topic_model.fit_transform(documents)"
      ],
      "metadata": {
        "id": "wpBPo8jErbrY"
      },
      "execution_count": 221,
      "outputs": []
    },
    {
      "cell_type": "markdown",
      "source": [
        "#### Result has 25 topics, need to further reduce topics"
      ],
      "metadata": {
        "id": "QMmlndOpxxkC"
      }
    },
    {
      "cell_type": "code",
      "source": [
        "# help(topic_model.reduce_topics)"
      ],
      "metadata": {
        "id": "VRtFTvBoxEnr"
      },
      "execution_count": 170,
      "outputs": []
    },
    {
      "cell_type": "code",
      "source": [
        "# Get the topics\n",
        "topic_info = topic_model.get_topic_info()\n",
        "# Print the topics\n",
        "print(topic_info)"
      ],
      "metadata": {
        "colab": {
          "base_uri": "https://localhost:8080/"
        },
        "id": "ZOILc3GXrffn",
        "outputId": "2f3cecab-b253-420f-9257-6687fe6d12bb"
      },
      "execution_count": 222,
      "outputs": [
        {
          "output_type": "stream",
          "name": "stdout",
          "text": [
            "    Topic  Count                               Name  \\\n",
            "0      -1  18492             -1_fit_like_cute_great   \n",
            "1       0   3143          0_gift_daughter_old_loved   \n",
            "2       1   2258           1_shoe_foot_boot_insoles   \n",
            "3       2   1713         2_shirt_collar_sweater_fit   \n",
            "4       3   1621       3_size_small_ordered_smaller   \n",
            "..    ...    ...                                ...   \n",
            "80     79    114        79_mask_face_masquerade_eye   \n",
            "81     80    109            80_star_give_zero_could   \n",
            "82     81    106       81_pin_lapel_insanity_brooch   \n",
            "83     82    102     82_cheap_cheaply_made_southern   \n",
            "84     83    100  83_checkbook_check_cover_register   \n",
            "\n",
            "                                       Representation  \\\n",
            "0   [fit, like, cute, great, quality, good, look, ...   \n",
            "1   [gift, daughter, old, loved, son, year, month,...   \n",
            "2   [shoe, foot, boot, insoles, pain, heel, toe, a...   \n",
            "3   [shirt, collar, sweater, fit, nice, tee, size,...   \n",
            "4   [size, small, ordered, smaller, al, large, siz...   \n",
            "..                                                ...   \n",
            "80  [mask, face, masquerade, eye, party, ribbon, n...   \n",
            "81  [star, give, zero, could, five, would, giving,...   \n",
            "82  [pin, lapel, insanity, brooch, quality, little...   \n",
            "83  [cheap, cheaply, made, southern, pay, poorly, ...   \n",
            "84  [checkbook, check, cover, register, leather, p...   \n",
            "\n",
            "                                  Representative_Docs  \n",
            "0   [side pocket back pocket really wear find leg ...  \n",
            "1   [bought gift loved !, gift daughter loved, gif...  \n",
            "2   [love shoe !, great shoe, great insoles shoe b...  \n",
            "3          [love shirt !, love shirt, love shirt ! !]  \n",
            "4                [size fit, small size, small size i]  \n",
            "..                                                ...  \n",
            "80   [im love mask, mask great quality, great mask !]  \n",
            "81                                 [star, star, star]  \n",
            "82               [great pin !, great pin, love pin !]  \n",
            "83                              [cheap, cheap, cheap]  \n",
            "84  [cover arrived time advertised check love chec...  \n",
            "\n",
            "[85 rows x 5 columns]\n"
          ]
        }
      ]
    },
    {
      "cell_type": "code",
      "source": [
        "# reduce topics\n",
        "topic_model.reduce_topics(docs=documents, nr_topics=10)\n",
        "\n",
        "# Access the updated topics and probabilities\n",
        "new_topics = topic_model.topics_\n",
        "new_probs = topic_model.probabilities_"
      ],
      "metadata": {
        "id": "rQ1Xe2QyvbZ6"
      },
      "execution_count": 225,
      "outputs": []
    },
    {
      "cell_type": "code",
      "source": [
        "# Visualize topics\n",
        "topic_model.visualize_topics()"
      ],
      "metadata": {
        "colab": {
          "base_uri": "https://localhost:8080/",
          "height": 667
        },
        "id": "mpsTufrkrh41",
        "outputId": "69c9ec79-522e-4f2b-c221-e47569d150bf"
      },
      "execution_count": 226,
      "outputs": [
        {
          "output_type": "display_data",
          "data": {
            "text/html": [
              "<html>\n",
              "<head><meta charset=\"utf-8\" /></head>\n",
              "<body>\n",
              "    <div>            <script src=\"https://cdnjs.cloudflare.com/ajax/libs/mathjax/2.7.5/MathJax.js?config=TeX-AMS-MML_SVG\"></script><script type=\"text/javascript\">if (window.MathJax && window.MathJax.Hub && window.MathJax.Hub.Config) {window.MathJax.Hub.Config({SVG: {font: \"STIX-Web\"}});}</script>                <script type=\"text/javascript\">window.PlotlyConfig = {MathJaxConfig: 'local'};</script>\n",
              "        <script charset=\"utf-8\" src=\"https://cdn.plot.ly/plotly-2.24.1.min.js\"></script>                <div id=\"383b797a-ce4f-4597-bb8c-7f5ae41afec9\" class=\"plotly-graph-div\" style=\"height:650px; width:650px;\"></div>            <script type=\"text/javascript\">                                    window.PLOTLYENV=window.PLOTLYENV || {};                                    if (document.getElementById(\"383b797a-ce4f-4597-bb8c-7f5ae41afec9\")) {                    Plotly.newPlot(                        \"383b797a-ce4f-4597-bb8c-7f5ae41afec9\",                        [{\"customdata\":[[0,\"fit | love | great | size | like\",33502],[1,\"love | nice | good | ok | great\",2757],[2,\"stone | cheap | fell | cheaply | made\",228],[3,\"muy | el | de | que | la\",216]],\"hovertemplate\":\"\\u003cb\\u003eTopic %{customdata[0]}\\u003c\\u002fb\\u003e\\u003cbr\\u003e%{customdata[1]}\\u003cbr\\u003eSize: %{customdata[2]}\",\"legendgroup\":\"\",\"marker\":{\"color\":\"#B0BEC5\",\"size\":[33502,2757,228,216],\"sizemode\":\"area\",\"sizeref\":20.93875,\"symbol\":\"circle\",\"line\":{\"color\":\"DarkSlateGrey\",\"width\":2}},\"mode\":\"markers\",\"name\":\"\",\"orientation\":\"v\",\"showlegend\":false,\"x\":[13.252875328063965,13.370617866516113,12.520246505737305,12.883904457092285],\"xaxis\":\"x\",\"y\":[-11.174355506896973,-10.278907775878906,-11.519716262817383,-9.687016487121582],\"yaxis\":\"y\",\"type\":\"scatter\"}],                        {\"template\":{\"data\":{\"barpolar\":[{\"marker\":{\"line\":{\"color\":\"white\",\"width\":0.5},\"pattern\":{\"fillmode\":\"overlay\",\"size\":10,\"solidity\":0.2}},\"type\":\"barpolar\"}],\"bar\":[{\"error_x\":{\"color\":\"rgb(36,36,36)\"},\"error_y\":{\"color\":\"rgb(36,36,36)\"},\"marker\":{\"line\":{\"color\":\"white\",\"width\":0.5},\"pattern\":{\"fillmode\":\"overlay\",\"size\":10,\"solidity\":0.2}},\"type\":\"bar\"}],\"carpet\":[{\"aaxis\":{\"endlinecolor\":\"rgb(36,36,36)\",\"gridcolor\":\"white\",\"linecolor\":\"white\",\"minorgridcolor\":\"white\",\"startlinecolor\":\"rgb(36,36,36)\"},\"baxis\":{\"endlinecolor\":\"rgb(36,36,36)\",\"gridcolor\":\"white\",\"linecolor\":\"white\",\"minorgridcolor\":\"white\",\"startlinecolor\":\"rgb(36,36,36)\"},\"type\":\"carpet\"}],\"choropleth\":[{\"colorbar\":{\"outlinewidth\":1,\"tickcolor\":\"rgb(36,36,36)\",\"ticks\":\"outside\"},\"type\":\"choropleth\"}],\"contourcarpet\":[{\"colorbar\":{\"outlinewidth\":1,\"tickcolor\":\"rgb(36,36,36)\",\"ticks\":\"outside\"},\"type\":\"contourcarpet\"}],\"contour\":[{\"colorbar\":{\"outlinewidth\":1,\"tickcolor\":\"rgb(36,36,36)\",\"ticks\":\"outside\"},\"colorscale\":[[0.0,\"#440154\"],[0.1111111111111111,\"#482878\"],[0.2222222222222222,\"#3e4989\"],[0.3333333333333333,\"#31688e\"],[0.4444444444444444,\"#26828e\"],[0.5555555555555556,\"#1f9e89\"],[0.6666666666666666,\"#35b779\"],[0.7777777777777778,\"#6ece58\"],[0.8888888888888888,\"#b5de2b\"],[1.0,\"#fde725\"]],\"type\":\"contour\"}],\"heatmapgl\":[{\"colorbar\":{\"outlinewidth\":1,\"tickcolor\":\"rgb(36,36,36)\",\"ticks\":\"outside\"},\"colorscale\":[[0.0,\"#440154\"],[0.1111111111111111,\"#482878\"],[0.2222222222222222,\"#3e4989\"],[0.3333333333333333,\"#31688e\"],[0.4444444444444444,\"#26828e\"],[0.5555555555555556,\"#1f9e89\"],[0.6666666666666666,\"#35b779\"],[0.7777777777777778,\"#6ece58\"],[0.8888888888888888,\"#b5de2b\"],[1.0,\"#fde725\"]],\"type\":\"heatmapgl\"}],\"heatmap\":[{\"colorbar\":{\"outlinewidth\":1,\"tickcolor\":\"rgb(36,36,36)\",\"ticks\":\"outside\"},\"colorscale\":[[0.0,\"#440154\"],[0.1111111111111111,\"#482878\"],[0.2222222222222222,\"#3e4989\"],[0.3333333333333333,\"#31688e\"],[0.4444444444444444,\"#26828e\"],[0.5555555555555556,\"#1f9e89\"],[0.6666666666666666,\"#35b779\"],[0.7777777777777778,\"#6ece58\"],[0.8888888888888888,\"#b5de2b\"],[1.0,\"#fde725\"]],\"type\":\"heatmap\"}],\"histogram2dcontour\":[{\"colorbar\":{\"outlinewidth\":1,\"tickcolor\":\"rgb(36,36,36)\",\"ticks\":\"outside\"},\"colorscale\":[[0.0,\"#440154\"],[0.1111111111111111,\"#482878\"],[0.2222222222222222,\"#3e4989\"],[0.3333333333333333,\"#31688e\"],[0.4444444444444444,\"#26828e\"],[0.5555555555555556,\"#1f9e89\"],[0.6666666666666666,\"#35b779\"],[0.7777777777777778,\"#6ece58\"],[0.8888888888888888,\"#b5de2b\"],[1.0,\"#fde725\"]],\"type\":\"histogram2dcontour\"}],\"histogram2d\":[{\"colorbar\":{\"outlinewidth\":1,\"tickcolor\":\"rgb(36,36,36)\",\"ticks\":\"outside\"},\"colorscale\":[[0.0,\"#440154\"],[0.1111111111111111,\"#482878\"],[0.2222222222222222,\"#3e4989\"],[0.3333333333333333,\"#31688e\"],[0.4444444444444444,\"#26828e\"],[0.5555555555555556,\"#1f9e89\"],[0.6666666666666666,\"#35b779\"],[0.7777777777777778,\"#6ece58\"],[0.8888888888888888,\"#b5de2b\"],[1.0,\"#fde725\"]],\"type\":\"histogram2d\"}],\"histogram\":[{\"marker\":{\"line\":{\"color\":\"white\",\"width\":0.6}},\"type\":\"histogram\"}],\"mesh3d\":[{\"colorbar\":{\"outlinewidth\":1,\"tickcolor\":\"rgb(36,36,36)\",\"ticks\":\"outside\"},\"type\":\"mesh3d\"}],\"parcoords\":[{\"line\":{\"colorbar\":{\"outlinewidth\":1,\"tickcolor\":\"rgb(36,36,36)\",\"ticks\":\"outside\"}},\"type\":\"parcoords\"}],\"pie\":[{\"automargin\":true,\"type\":\"pie\"}],\"scatter3d\":[{\"line\":{\"colorbar\":{\"outlinewidth\":1,\"tickcolor\":\"rgb(36,36,36)\",\"ticks\":\"outside\"}},\"marker\":{\"colorbar\":{\"outlinewidth\":1,\"tickcolor\":\"rgb(36,36,36)\",\"ticks\":\"outside\"}},\"type\":\"scatter3d\"}],\"scattercarpet\":[{\"marker\":{\"colorbar\":{\"outlinewidth\":1,\"tickcolor\":\"rgb(36,36,36)\",\"ticks\":\"outside\"}},\"type\":\"scattercarpet\"}],\"scattergeo\":[{\"marker\":{\"colorbar\":{\"outlinewidth\":1,\"tickcolor\":\"rgb(36,36,36)\",\"ticks\":\"outside\"}},\"type\":\"scattergeo\"}],\"scattergl\":[{\"marker\":{\"colorbar\":{\"outlinewidth\":1,\"tickcolor\":\"rgb(36,36,36)\",\"ticks\":\"outside\"}},\"type\":\"scattergl\"}],\"scattermapbox\":[{\"marker\":{\"colorbar\":{\"outlinewidth\":1,\"tickcolor\":\"rgb(36,36,36)\",\"ticks\":\"outside\"}},\"type\":\"scattermapbox\"}],\"scatterpolargl\":[{\"marker\":{\"colorbar\":{\"outlinewidth\":1,\"tickcolor\":\"rgb(36,36,36)\",\"ticks\":\"outside\"}},\"type\":\"scatterpolargl\"}],\"scatterpolar\":[{\"marker\":{\"colorbar\":{\"outlinewidth\":1,\"tickcolor\":\"rgb(36,36,36)\",\"ticks\":\"outside\"}},\"type\":\"scatterpolar\"}],\"scatter\":[{\"fillpattern\":{\"fillmode\":\"overlay\",\"size\":10,\"solidity\":0.2},\"type\":\"scatter\"}],\"scatterternary\":[{\"marker\":{\"colorbar\":{\"outlinewidth\":1,\"tickcolor\":\"rgb(36,36,36)\",\"ticks\":\"outside\"}},\"type\":\"scatterternary\"}],\"surface\":[{\"colorbar\":{\"outlinewidth\":1,\"tickcolor\":\"rgb(36,36,36)\",\"ticks\":\"outside\"},\"colorscale\":[[0.0,\"#440154\"],[0.1111111111111111,\"#482878\"],[0.2222222222222222,\"#3e4989\"],[0.3333333333333333,\"#31688e\"],[0.4444444444444444,\"#26828e\"],[0.5555555555555556,\"#1f9e89\"],[0.6666666666666666,\"#35b779\"],[0.7777777777777778,\"#6ece58\"],[0.8888888888888888,\"#b5de2b\"],[1.0,\"#fde725\"]],\"type\":\"surface\"}],\"table\":[{\"cells\":{\"fill\":{\"color\":\"rgb(237,237,237)\"},\"line\":{\"color\":\"white\"}},\"header\":{\"fill\":{\"color\":\"rgb(217,217,217)\"},\"line\":{\"color\":\"white\"}},\"type\":\"table\"}]},\"layout\":{\"annotationdefaults\":{\"arrowhead\":0,\"arrowwidth\":1},\"autotypenumbers\":\"strict\",\"coloraxis\":{\"colorbar\":{\"outlinewidth\":1,\"tickcolor\":\"rgb(36,36,36)\",\"ticks\":\"outside\"}},\"colorscale\":{\"diverging\":[[0.0,\"rgb(103,0,31)\"],[0.1,\"rgb(178,24,43)\"],[0.2,\"rgb(214,96,77)\"],[0.3,\"rgb(244,165,130)\"],[0.4,\"rgb(253,219,199)\"],[0.5,\"rgb(247,247,247)\"],[0.6,\"rgb(209,229,240)\"],[0.7,\"rgb(146,197,222)\"],[0.8,\"rgb(67,147,195)\"],[0.9,\"rgb(33,102,172)\"],[1.0,\"rgb(5,48,97)\"]],\"sequential\":[[0.0,\"#440154\"],[0.1111111111111111,\"#482878\"],[0.2222222222222222,\"#3e4989\"],[0.3333333333333333,\"#31688e\"],[0.4444444444444444,\"#26828e\"],[0.5555555555555556,\"#1f9e89\"],[0.6666666666666666,\"#35b779\"],[0.7777777777777778,\"#6ece58\"],[0.8888888888888888,\"#b5de2b\"],[1.0,\"#fde725\"]],\"sequentialminus\":[[0.0,\"#440154\"],[0.1111111111111111,\"#482878\"],[0.2222222222222222,\"#3e4989\"],[0.3333333333333333,\"#31688e\"],[0.4444444444444444,\"#26828e\"],[0.5555555555555556,\"#1f9e89\"],[0.6666666666666666,\"#35b779\"],[0.7777777777777778,\"#6ece58\"],[0.8888888888888888,\"#b5de2b\"],[1.0,\"#fde725\"]]},\"colorway\":[\"#1F77B4\",\"#FF7F0E\",\"#2CA02C\",\"#D62728\",\"#9467BD\",\"#8C564B\",\"#E377C2\",\"#7F7F7F\",\"#BCBD22\",\"#17BECF\"],\"font\":{\"color\":\"rgb(36,36,36)\"},\"geo\":{\"bgcolor\":\"white\",\"lakecolor\":\"white\",\"landcolor\":\"white\",\"showlakes\":true,\"showland\":true,\"subunitcolor\":\"white\"},\"hoverlabel\":{\"align\":\"left\"},\"hovermode\":\"closest\",\"mapbox\":{\"style\":\"light\"},\"paper_bgcolor\":\"white\",\"plot_bgcolor\":\"white\",\"polar\":{\"angularaxis\":{\"gridcolor\":\"rgb(232,232,232)\",\"linecolor\":\"rgb(36,36,36)\",\"showgrid\":false,\"showline\":true,\"ticks\":\"outside\"},\"bgcolor\":\"white\",\"radialaxis\":{\"gridcolor\":\"rgb(232,232,232)\",\"linecolor\":\"rgb(36,36,36)\",\"showgrid\":false,\"showline\":true,\"ticks\":\"outside\"}},\"scene\":{\"xaxis\":{\"backgroundcolor\":\"white\",\"gridcolor\":\"rgb(232,232,232)\",\"gridwidth\":2,\"linecolor\":\"rgb(36,36,36)\",\"showbackground\":true,\"showgrid\":false,\"showline\":true,\"ticks\":\"outside\",\"zeroline\":false,\"zerolinecolor\":\"rgb(36,36,36)\"},\"yaxis\":{\"backgroundcolor\":\"white\",\"gridcolor\":\"rgb(232,232,232)\",\"gridwidth\":2,\"linecolor\":\"rgb(36,36,36)\",\"showbackground\":true,\"showgrid\":false,\"showline\":true,\"ticks\":\"outside\",\"zeroline\":false,\"zerolinecolor\":\"rgb(36,36,36)\"},\"zaxis\":{\"backgroundcolor\":\"white\",\"gridcolor\":\"rgb(232,232,232)\",\"gridwidth\":2,\"linecolor\":\"rgb(36,36,36)\",\"showbackground\":true,\"showgrid\":false,\"showline\":true,\"ticks\":\"outside\",\"zeroline\":false,\"zerolinecolor\":\"rgb(36,36,36)\"}},\"shapedefaults\":{\"fillcolor\":\"black\",\"line\":{\"width\":0},\"opacity\":0.3},\"ternary\":{\"aaxis\":{\"gridcolor\":\"rgb(232,232,232)\",\"linecolor\":\"rgb(36,36,36)\",\"showgrid\":false,\"showline\":true,\"ticks\":\"outside\"},\"baxis\":{\"gridcolor\":\"rgb(232,232,232)\",\"linecolor\":\"rgb(36,36,36)\",\"showgrid\":false,\"showline\":true,\"ticks\":\"outside\"},\"bgcolor\":\"white\",\"caxis\":{\"gridcolor\":\"rgb(232,232,232)\",\"linecolor\":\"rgb(36,36,36)\",\"showgrid\":false,\"showline\":true,\"ticks\":\"outside\"}},\"title\":{\"x\":0.05},\"xaxis\":{\"automargin\":true,\"gridcolor\":\"rgb(232,232,232)\",\"linecolor\":\"rgb(36,36,36)\",\"showgrid\":false,\"showline\":true,\"ticks\":\"outside\",\"title\":{\"standoff\":15},\"zeroline\":false,\"zerolinecolor\":\"rgb(36,36,36)\"},\"yaxis\":{\"automargin\":true,\"gridcolor\":\"rgb(232,232,232)\",\"linecolor\":\"rgb(36,36,36)\",\"showgrid\":false,\"showline\":true,\"ticks\":\"outside\",\"title\":{\"standoff\":15},\"zeroline\":false,\"zerolinecolor\":\"rgb(36,36,36)\"}}},\"xaxis\":{\"anchor\":\"y\",\"domain\":[0.0,1.0],\"title\":{\"text\":\"\"},\"visible\":false,\"range\":[10.642209529876709,15.37621054649353]},\"yaxis\":{\"anchor\":\"x\",\"domain\":[0.0,1.0],\"title\":{\"text\":\"\"},\"visible\":false,\"range\":[-13.24767370223999,-8.233964014053345]},\"legend\":{\"tracegroupgap\":0,\"itemsizing\":\"constant\"},\"margin\":{\"t\":60},\"title\":{\"font\":{\"size\":22,\"color\":\"Black\"},\"text\":\"\\u003cb\\u003eIntertopic Distance Map\\u003c\\u002fb\\u003e\",\"y\":0.95,\"x\":0.5,\"xanchor\":\"center\",\"yanchor\":\"top\"},\"hoverlabel\":{\"font\":{\"size\":16,\"family\":\"Rockwell\"},\"bgcolor\":\"white\"},\"width\":650,\"height\":650,\"sliders\":[{\"active\":0,\"pad\":{\"t\":50},\"steps\":[{\"args\":[{\"marker.color\":[[\"red\",\"#B0BEC5\",\"#B0BEC5\",\"#B0BEC5\"]]}],\"label\":\"Topic 0\",\"method\":\"update\"},{\"args\":[{\"marker.color\":[[\"#B0BEC5\",\"red\",\"#B0BEC5\",\"#B0BEC5\"]]}],\"label\":\"Topic 1\",\"method\":\"update\"},{\"args\":[{\"marker.color\":[[\"#B0BEC5\",\"#B0BEC5\",\"red\",\"#B0BEC5\"]]}],\"label\":\"Topic 2\",\"method\":\"update\"},{\"args\":[{\"marker.color\":[[\"#B0BEC5\",\"#B0BEC5\",\"#B0BEC5\",\"red\"]]}],\"label\":\"Topic 3\",\"method\":\"update\"}]}],\"shapes\":[{\"line\":{\"color\":\"#CFD8DC\",\"width\":2},\"type\":\"line\",\"x0\":13.00921003818512,\"x1\":13.00921003818512,\"y0\":-13.24767370223999,\"y1\":-8.233964014053345},{\"line\":{\"color\":\"#9E9E9E\",\"width\":2},\"type\":\"line\",\"x0\":10.642209529876709,\"x1\":15.37621054649353,\"y0\":-10.740818858146667,\"y1\":-10.740818858146667}],\"annotations\":[{\"showarrow\":false,\"text\":\"D1\",\"x\":10.642209529876709,\"y\":-10.740818858146667,\"yshift\":10},{\"showarrow\":false,\"text\":\"D2\",\"x\":13.00921003818512,\"xshift\":10,\"y\":-8.233964014053345}]},                        {\"responsive\": true}                    ).then(function(){\n",
              "                            \n",
              "var gd = document.getElementById('383b797a-ce4f-4597-bb8c-7f5ae41afec9');\n",
              "var x = new MutationObserver(function (mutations, observer) {{\n",
              "        var display = window.getComputedStyle(gd).display;\n",
              "        if (!display || display === 'none') {{\n",
              "            console.log([gd, 'removed!']);\n",
              "            Plotly.purge(gd);\n",
              "            observer.disconnect();\n",
              "        }}\n",
              "}});\n",
              "\n",
              "// Listen for the removal of the full notebook cells\n",
              "var notebookContainer = gd.closest('#notebook-container');\n",
              "if (notebookContainer) {{\n",
              "    x.observe(notebookContainer, {childList: true});\n",
              "}}\n",
              "\n",
              "// Listen for the clearing of the current output cell\n",
              "var outputEl = gd.closest('.output');\n",
              "if (outputEl) {{\n",
              "    x.observe(outputEl, {childList: true});\n",
              "}}\n",
              "\n",
              "                        })                };                            </script>        </div>\n",
              "</body>\n",
              "</html>"
            ]
          },
          "metadata": {}
        }
      ]
    },
    {
      "cell_type": "markdown",
      "source": [
        "## 2.2 BerTopic modeling for each category"
      ],
      "metadata": {
        "id": "adhOUHEtrl5r"
      }
    },
    {
      "cell_type": "code",
      "source": [
        "print(df.category.unique())"
      ],
      "metadata": {
        "colab": {
          "base_uri": "https://localhost:8080/"
        },
        "id": "Dhlv6YUjyK9i",
        "outputId": "34ef0c04-1b34-4528-a55e-bcdf09bad41c"
      },
      "execution_count": 175,
      "outputs": [
        {
          "output_type": "stream",
          "name": "stdout",
          "text": [
            "['Clothing,ShoesJewelry' 'Clothing,Shoesamp;Jewelry' 'SportsOutdoors'\n",
            " 'HealthHousehold' ' Tools & Home Improvement ' 'Books' 'AmazonLaunchpad'\n",
            " 'CellPhonesAccessories' 'BeautyPersonalCare' ' Home & Kitchen '\n",
            " ' Arts, Crafts & Sewing ' ' Toys & Games ' ' Office Products '\n",
            " 'IndustrialScientific' ' Kitchen & Dining ' 'Electronics' 'Baby'\n",
            " ' Automotive ' 'Arts,CraftsSewing' 'HomeKitchen']\n"
          ]
        }
      ]
    },
    {
      "cell_type": "code",
      "source": [
        "category = 'SportsOutdoors'\n",
        "\n",
        "# Filter the DataFrame\n",
        "filtered_df = df[df['category'] == category]\n",
        "documents2 = filtered_df['cleaned_reviewText'].tolist()"
      ],
      "metadata": {
        "id": "sSdWTq2EtMl9"
      },
      "execution_count": 177,
      "outputs": []
    },
    {
      "cell_type": "code",
      "source": [
        "# Create a BERTopic model\n",
        "topic_model2 = BERTopic(min_topic_size=10)   #  when min_topic_size=10, has 715 topics, too much, increased to 300\n",
        "# Fit the model\n",
        "topics2, probabilities2 = topic_model2.fit_transform(documents2)"
      ],
      "metadata": {
        "id": "zig4DZy7yF4J"
      },
      "execution_count": 185,
      "outputs": []
    },
    {
      "cell_type": "code",
      "source": [
        "# Get the topics\n",
        "topic_info2 = topic_model2.get_topic_info()\n",
        "# Print the topics\n",
        "print(topic_info2)"
      ],
      "metadata": {
        "colab": {
          "base_uri": "https://localhost:8080/"
        },
        "id": "_dqPcwoQye5q",
        "outputId": "2ca34d16-f923-428c-8983-c3fb82678d0c"
      },
      "execution_count": 186,
      "outputs": [
        {
          "output_type": "stream",
          "name": "stdout",
          "text": [
            "    Topic  Count                               Name  \\\n",
            "0      -1     95          -1_color_love_like_really   \n",
            "1       0    103       0_fit_short_size_comfortable   \n",
            "2       1     46            1_lens_glass_frame_pair   \n",
            "3       2     39        2_ring_beautiful_gift_stone   \n",
            "4       3     36             3_shoe_sock_pedal_foot   \n",
            "5       4     30        4_nice_beautiful_cute_super   \n",
            "6       5     22             5_hat_quality_fit_head   \n",
            "7       6     22           6_love_wife_loved_loveit   \n",
            "8       7     21           7_bag_purse_zipper_carry   \n",
            "9       8     18      8_product_pleased_great_sweet   \n",
            "10      9     15          9_watch_strap_band_signal   \n",
            "11     10     14  10_expected_described_work_bigger   \n",
            "12     11     13      11_quality_good_price_product   \n",
            "\n",
            "                                       Representation  \\\n",
            "0   [color, love, like, really, cute, look, even, ...   \n",
            "1   [fit, short, size, comfortable, great, ordered...   \n",
            "2   [lens, glass, frame, pair, valley, original, e...   \n",
            "3   [ring, beautiful, gift, stone, daughter, silve...   \n",
            "4   [shoe, sock, pedal, foot, compression, cleat, ...   \n",
            "5   [nice, beautiful, cute, super, good, adorable,...   \n",
            "6   [hat, quality, fit, head, helmet, bit, great, ...   \n",
            "7   [love, wife, loved, loveit, family, unraveling...   \n",
            "8   [bag, purse, zipper, carry, like, water, highl...   \n",
            "9   [product, pleased, great, sweet, buy, item, de...   \n",
            "10  [watch, strap, band, signal, sometimes, month,...   \n",
            "11  [expected, described, work, bigger, thought, c...   \n",
            "12  [quality, good, price, product, nice, authenti...   \n",
            "\n",
            "                                  Representative_Docs  \n",
            "0   [giving one star although really cute made whi...  \n",
            "1       [great fit, great ! fit, good short fit well]  \n",
            "2   [product arrived lens ear sock really ordered ...  \n",
            "3   [beautiful ring ! ! ! ! ! ! many compliment ri...  \n",
            "4   [bought two pair plantar fasciitis lack size c...  \n",
            "5                         [nice, nice ! !, nice nice]  \n",
            "6   [bought america enterprise lac second listed s...  \n",
            "7                      [love, love ! ! ! ! ! !, love]  \n",
            "8   [best tote ever purchased little rough bag one...  \n",
            "9     [great product !, great product, great product]  \n",
            "10  [decent replacement worn stock up bootstrap co...  \n",
            "11                [expected, expected, work expected]  \n",
            "12  [great quality, good quality warm cute good pr...  \n"
          ]
        }
      ]
    },
    {
      "cell_type": "code",
      "source": [
        "# reduce topics\n",
        "topic_model2.reduce_topics(docs=documents2, nr_topics=5)\n",
        "\n",
        "# Access the updated topics and probabilities\n",
        "new_topics2 = topic_model2.topics_\n",
        "new_probs2 = topic_model2.probabilities_"
      ],
      "metadata": {
        "id": "z5FoESREzGFJ"
      },
      "execution_count": 203,
      "outputs": []
    },
    {
      "cell_type": "code",
      "source": [
        "# Visualize topics\n",
        "topic_model2.visualize_topics()"
      ],
      "metadata": {
        "colab": {
          "base_uri": "https://localhost:8080/",
          "height": 667
        },
        "id": "xxE4LkiCyfmO",
        "outputId": "3b6902ce-8626-4316-cf3c-dba1606d0cff"
      },
      "execution_count": 204,
      "outputs": [
        {
          "output_type": "display_data",
          "data": {
            "text/html": [
              "<html>\n",
              "<head><meta charset=\"utf-8\" /></head>\n",
              "<body>\n",
              "    <div>            <script src=\"https://cdnjs.cloudflare.com/ajax/libs/mathjax/2.7.5/MathJax.js?config=TeX-AMS-MML_SVG\"></script><script type=\"text/javascript\">if (window.MathJax && window.MathJax.Hub && window.MathJax.Hub.Config) {window.MathJax.Hub.Config({SVG: {font: \"STIX-Web\"}});}</script>                <script type=\"text/javascript\">window.PlotlyConfig = {MathJaxConfig: 'local'};</script>\n",
              "        <script charset=\"utf-8\" src=\"https://cdn.plot.ly/plotly-2.24.1.min.js\"></script>                <div id=\"23313158-6ac0-48e6-a9d7-ed9444b00a7b\" class=\"plotly-graph-div\" style=\"height:650px; width:650px;\"></div>            <script type=\"text/javascript\">                                    window.PLOTLYENV=window.PLOTLYENV || {};                                    if (document.getElementById(\"23313158-6ac0-48e6-a9d7-ed9444b00a7b\")) {                    Plotly.newPlot(                        \"23313158-6ac0-48e6-a9d7-ed9444b00a7b\",                        [{\"customdata\":[[0,\"fit | shoe | size | great | sock\",161],[1,\"lens | glass | great | frame | product\",116],[2,\"love | expected | nice | cute | described\",66],[3,\"bag | purse | watch | strap | like\",36]],\"hovertemplate\":\"\\u003cb\\u003eTopic %{customdata[0]}\\u003c\\u002fb\\u003e\\u003cbr\\u003e%{customdata[1]}\\u003cbr\\u003eSize: %{customdata[2]}\",\"legendgroup\":\"\",\"marker\":{\"color\":\"#B0BEC5\",\"size\":[161,116,66,36],\"sizemode\":\"area\",\"sizeref\":0.100625,\"symbol\":\"circle\",\"line\":{\"color\":\"DarkSlateGrey\",\"width\":2}},\"mode\":\"markers\",\"name\":\"\",\"orientation\":\"v\",\"showlegend\":false,\"x\":[16.643285751342773,17.483325958251953,17.837675094604492,16.038463592529297],\"xaxis\":\"x\",\"y\":[21.451919555664062,21.351303100585938,22.1092472076416,21.08279037475586],\"yaxis\":\"y\",\"type\":\"scatter\"}],                        {\"template\":{\"data\":{\"barpolar\":[{\"marker\":{\"line\":{\"color\":\"white\",\"width\":0.5},\"pattern\":{\"fillmode\":\"overlay\",\"size\":10,\"solidity\":0.2}},\"type\":\"barpolar\"}],\"bar\":[{\"error_x\":{\"color\":\"rgb(36,36,36)\"},\"error_y\":{\"color\":\"rgb(36,36,36)\"},\"marker\":{\"line\":{\"color\":\"white\",\"width\":0.5},\"pattern\":{\"fillmode\":\"overlay\",\"size\":10,\"solidity\":0.2}},\"type\":\"bar\"}],\"carpet\":[{\"aaxis\":{\"endlinecolor\":\"rgb(36,36,36)\",\"gridcolor\":\"white\",\"linecolor\":\"white\",\"minorgridcolor\":\"white\",\"startlinecolor\":\"rgb(36,36,36)\"},\"baxis\":{\"endlinecolor\":\"rgb(36,36,36)\",\"gridcolor\":\"white\",\"linecolor\":\"white\",\"minorgridcolor\":\"white\",\"startlinecolor\":\"rgb(36,36,36)\"},\"type\":\"carpet\"}],\"choropleth\":[{\"colorbar\":{\"outlinewidth\":1,\"tickcolor\":\"rgb(36,36,36)\",\"ticks\":\"outside\"},\"type\":\"choropleth\"}],\"contourcarpet\":[{\"colorbar\":{\"outlinewidth\":1,\"tickcolor\":\"rgb(36,36,36)\",\"ticks\":\"outside\"},\"type\":\"contourcarpet\"}],\"contour\":[{\"colorbar\":{\"outlinewidth\":1,\"tickcolor\":\"rgb(36,36,36)\",\"ticks\":\"outside\"},\"colorscale\":[[0.0,\"#440154\"],[0.1111111111111111,\"#482878\"],[0.2222222222222222,\"#3e4989\"],[0.3333333333333333,\"#31688e\"],[0.4444444444444444,\"#26828e\"],[0.5555555555555556,\"#1f9e89\"],[0.6666666666666666,\"#35b779\"],[0.7777777777777778,\"#6ece58\"],[0.8888888888888888,\"#b5de2b\"],[1.0,\"#fde725\"]],\"type\":\"contour\"}],\"heatmapgl\":[{\"colorbar\":{\"outlinewidth\":1,\"tickcolor\":\"rgb(36,36,36)\",\"ticks\":\"outside\"},\"colorscale\":[[0.0,\"#440154\"],[0.1111111111111111,\"#482878\"],[0.2222222222222222,\"#3e4989\"],[0.3333333333333333,\"#31688e\"],[0.4444444444444444,\"#26828e\"],[0.5555555555555556,\"#1f9e89\"],[0.6666666666666666,\"#35b779\"],[0.7777777777777778,\"#6ece58\"],[0.8888888888888888,\"#b5de2b\"],[1.0,\"#fde725\"]],\"type\":\"heatmapgl\"}],\"heatmap\":[{\"colorbar\":{\"outlinewidth\":1,\"tickcolor\":\"rgb(36,36,36)\",\"ticks\":\"outside\"},\"colorscale\":[[0.0,\"#440154\"],[0.1111111111111111,\"#482878\"],[0.2222222222222222,\"#3e4989\"],[0.3333333333333333,\"#31688e\"],[0.4444444444444444,\"#26828e\"],[0.5555555555555556,\"#1f9e89\"],[0.6666666666666666,\"#35b779\"],[0.7777777777777778,\"#6ece58\"],[0.8888888888888888,\"#b5de2b\"],[1.0,\"#fde725\"]],\"type\":\"heatmap\"}],\"histogram2dcontour\":[{\"colorbar\":{\"outlinewidth\":1,\"tickcolor\":\"rgb(36,36,36)\",\"ticks\":\"outside\"},\"colorscale\":[[0.0,\"#440154\"],[0.1111111111111111,\"#482878\"],[0.2222222222222222,\"#3e4989\"],[0.3333333333333333,\"#31688e\"],[0.4444444444444444,\"#26828e\"],[0.5555555555555556,\"#1f9e89\"],[0.6666666666666666,\"#35b779\"],[0.7777777777777778,\"#6ece58\"],[0.8888888888888888,\"#b5de2b\"],[1.0,\"#fde725\"]],\"type\":\"histogram2dcontour\"}],\"histogram2d\":[{\"colorbar\":{\"outlinewidth\":1,\"tickcolor\":\"rgb(36,36,36)\",\"ticks\":\"outside\"},\"colorscale\":[[0.0,\"#440154\"],[0.1111111111111111,\"#482878\"],[0.2222222222222222,\"#3e4989\"],[0.3333333333333333,\"#31688e\"],[0.4444444444444444,\"#26828e\"],[0.5555555555555556,\"#1f9e89\"],[0.6666666666666666,\"#35b779\"],[0.7777777777777778,\"#6ece58\"],[0.8888888888888888,\"#b5de2b\"],[1.0,\"#fde725\"]],\"type\":\"histogram2d\"}],\"histogram\":[{\"marker\":{\"line\":{\"color\":\"white\",\"width\":0.6}},\"type\":\"histogram\"}],\"mesh3d\":[{\"colorbar\":{\"outlinewidth\":1,\"tickcolor\":\"rgb(36,36,36)\",\"ticks\":\"outside\"},\"type\":\"mesh3d\"}],\"parcoords\":[{\"line\":{\"colorbar\":{\"outlinewidth\":1,\"tickcolor\":\"rgb(36,36,36)\",\"ticks\":\"outside\"}},\"type\":\"parcoords\"}],\"pie\":[{\"automargin\":true,\"type\":\"pie\"}],\"scatter3d\":[{\"line\":{\"colorbar\":{\"outlinewidth\":1,\"tickcolor\":\"rgb(36,36,36)\",\"ticks\":\"outside\"}},\"marker\":{\"colorbar\":{\"outlinewidth\":1,\"tickcolor\":\"rgb(36,36,36)\",\"ticks\":\"outside\"}},\"type\":\"scatter3d\"}],\"scattercarpet\":[{\"marker\":{\"colorbar\":{\"outlinewidth\":1,\"tickcolor\":\"rgb(36,36,36)\",\"ticks\":\"outside\"}},\"type\":\"scattercarpet\"}],\"scattergeo\":[{\"marker\":{\"colorbar\":{\"outlinewidth\":1,\"tickcolor\":\"rgb(36,36,36)\",\"ticks\":\"outside\"}},\"type\":\"scattergeo\"}],\"scattergl\":[{\"marker\":{\"colorbar\":{\"outlinewidth\":1,\"tickcolor\":\"rgb(36,36,36)\",\"ticks\":\"outside\"}},\"type\":\"scattergl\"}],\"scattermapbox\":[{\"marker\":{\"colorbar\":{\"outlinewidth\":1,\"tickcolor\":\"rgb(36,36,36)\",\"ticks\":\"outside\"}},\"type\":\"scattermapbox\"}],\"scatterpolargl\":[{\"marker\":{\"colorbar\":{\"outlinewidth\":1,\"tickcolor\":\"rgb(36,36,36)\",\"ticks\":\"outside\"}},\"type\":\"scatterpolargl\"}],\"scatterpolar\":[{\"marker\":{\"colorbar\":{\"outlinewidth\":1,\"tickcolor\":\"rgb(36,36,36)\",\"ticks\":\"outside\"}},\"type\":\"scatterpolar\"}],\"scatter\":[{\"fillpattern\":{\"fillmode\":\"overlay\",\"size\":10,\"solidity\":0.2},\"type\":\"scatter\"}],\"scatterternary\":[{\"marker\":{\"colorbar\":{\"outlinewidth\":1,\"tickcolor\":\"rgb(36,36,36)\",\"ticks\":\"outside\"}},\"type\":\"scatterternary\"}],\"surface\":[{\"colorbar\":{\"outlinewidth\":1,\"tickcolor\":\"rgb(36,36,36)\",\"ticks\":\"outside\"},\"colorscale\":[[0.0,\"#440154\"],[0.1111111111111111,\"#482878\"],[0.2222222222222222,\"#3e4989\"],[0.3333333333333333,\"#31688e\"],[0.4444444444444444,\"#26828e\"],[0.5555555555555556,\"#1f9e89\"],[0.6666666666666666,\"#35b779\"],[0.7777777777777778,\"#6ece58\"],[0.8888888888888888,\"#b5de2b\"],[1.0,\"#fde725\"]],\"type\":\"surface\"}],\"table\":[{\"cells\":{\"fill\":{\"color\":\"rgb(237,237,237)\"},\"line\":{\"color\":\"white\"}},\"header\":{\"fill\":{\"color\":\"rgb(217,217,217)\"},\"line\":{\"color\":\"white\"}},\"type\":\"table\"}]},\"layout\":{\"annotationdefaults\":{\"arrowhead\":0,\"arrowwidth\":1},\"autotypenumbers\":\"strict\",\"coloraxis\":{\"colorbar\":{\"outlinewidth\":1,\"tickcolor\":\"rgb(36,36,36)\",\"ticks\":\"outside\"}},\"colorscale\":{\"diverging\":[[0.0,\"rgb(103,0,31)\"],[0.1,\"rgb(178,24,43)\"],[0.2,\"rgb(214,96,77)\"],[0.3,\"rgb(244,165,130)\"],[0.4,\"rgb(253,219,199)\"],[0.5,\"rgb(247,247,247)\"],[0.6,\"rgb(209,229,240)\"],[0.7,\"rgb(146,197,222)\"],[0.8,\"rgb(67,147,195)\"],[0.9,\"rgb(33,102,172)\"],[1.0,\"rgb(5,48,97)\"]],\"sequential\":[[0.0,\"#440154\"],[0.1111111111111111,\"#482878\"],[0.2222222222222222,\"#3e4989\"],[0.3333333333333333,\"#31688e\"],[0.4444444444444444,\"#26828e\"],[0.5555555555555556,\"#1f9e89\"],[0.6666666666666666,\"#35b779\"],[0.7777777777777778,\"#6ece58\"],[0.8888888888888888,\"#b5de2b\"],[1.0,\"#fde725\"]],\"sequentialminus\":[[0.0,\"#440154\"],[0.1111111111111111,\"#482878\"],[0.2222222222222222,\"#3e4989\"],[0.3333333333333333,\"#31688e\"],[0.4444444444444444,\"#26828e\"],[0.5555555555555556,\"#1f9e89\"],[0.6666666666666666,\"#35b779\"],[0.7777777777777778,\"#6ece58\"],[0.8888888888888888,\"#b5de2b\"],[1.0,\"#fde725\"]]},\"colorway\":[\"#1F77B4\",\"#FF7F0E\",\"#2CA02C\",\"#D62728\",\"#9467BD\",\"#8C564B\",\"#E377C2\",\"#7F7F7F\",\"#BCBD22\",\"#17BECF\"],\"font\":{\"color\":\"rgb(36,36,36)\"},\"geo\":{\"bgcolor\":\"white\",\"lakecolor\":\"white\",\"landcolor\":\"white\",\"showlakes\":true,\"showland\":true,\"subunitcolor\":\"white\"},\"hoverlabel\":{\"align\":\"left\"},\"hovermode\":\"closest\",\"mapbox\":{\"style\":\"light\"},\"paper_bgcolor\":\"white\",\"plot_bgcolor\":\"white\",\"polar\":{\"angularaxis\":{\"gridcolor\":\"rgb(232,232,232)\",\"linecolor\":\"rgb(36,36,36)\",\"showgrid\":false,\"showline\":true,\"ticks\":\"outside\"},\"bgcolor\":\"white\",\"radialaxis\":{\"gridcolor\":\"rgb(232,232,232)\",\"linecolor\":\"rgb(36,36,36)\",\"showgrid\":false,\"showline\":true,\"ticks\":\"outside\"}},\"scene\":{\"xaxis\":{\"backgroundcolor\":\"white\",\"gridcolor\":\"rgb(232,232,232)\",\"gridwidth\":2,\"linecolor\":\"rgb(36,36,36)\",\"showbackground\":true,\"showgrid\":false,\"showline\":true,\"ticks\":\"outside\",\"zeroline\":false,\"zerolinecolor\":\"rgb(36,36,36)\"},\"yaxis\":{\"backgroundcolor\":\"white\",\"gridcolor\":\"rgb(232,232,232)\",\"gridwidth\":2,\"linecolor\":\"rgb(36,36,36)\",\"showbackground\":true,\"showgrid\":false,\"showline\":true,\"ticks\":\"outside\",\"zeroline\":false,\"zerolinecolor\":\"rgb(36,36,36)\"},\"zaxis\":{\"backgroundcolor\":\"white\",\"gridcolor\":\"rgb(232,232,232)\",\"gridwidth\":2,\"linecolor\":\"rgb(36,36,36)\",\"showbackground\":true,\"showgrid\":false,\"showline\":true,\"ticks\":\"outside\",\"zeroline\":false,\"zerolinecolor\":\"rgb(36,36,36)\"}},\"shapedefaults\":{\"fillcolor\":\"black\",\"line\":{\"width\":0},\"opacity\":0.3},\"ternary\":{\"aaxis\":{\"gridcolor\":\"rgb(232,232,232)\",\"linecolor\":\"rgb(36,36,36)\",\"showgrid\":false,\"showline\":true,\"ticks\":\"outside\"},\"baxis\":{\"gridcolor\":\"rgb(232,232,232)\",\"linecolor\":\"rgb(36,36,36)\",\"showgrid\":false,\"showline\":true,\"ticks\":\"outside\"},\"bgcolor\":\"white\",\"caxis\":{\"gridcolor\":\"rgb(232,232,232)\",\"linecolor\":\"rgb(36,36,36)\",\"showgrid\":false,\"showline\":true,\"ticks\":\"outside\"}},\"title\":{\"x\":0.05},\"xaxis\":{\"automargin\":true,\"gridcolor\":\"rgb(232,232,232)\",\"linecolor\":\"rgb(36,36,36)\",\"showgrid\":false,\"showline\":true,\"ticks\":\"outside\",\"title\":{\"standoff\":15},\"zeroline\":false,\"zerolinecolor\":\"rgb(36,36,36)\"},\"yaxis\":{\"automargin\":true,\"gridcolor\":\"rgb(232,232,232)\",\"linecolor\":\"rgb(36,36,36)\",\"showgrid\":false,\"showline\":true,\"ticks\":\"outside\",\"title\":{\"standoff\":15},\"zeroline\":false,\"zerolinecolor\":\"rgb(36,36,36)\"}}},\"xaxis\":{\"anchor\":\"y\",\"domain\":[0.0,1.0],\"title\":{\"text\":\"\"},\"visible\":false,\"range\":[13.632694053649903,20.513326358795165]},\"yaxis\":{\"anchor\":\"x\",\"domain\":[0.0,1.0],\"title\":{\"text\":\"\"},\"visible\":false,\"range\":[17.92037181854248,25.42563428878784]},\"legend\":{\"tracegroupgap\":0,\"itemsizing\":\"constant\"},\"margin\":{\"t\":60},\"title\":{\"font\":{\"size\":22,\"color\":\"Black\"},\"text\":\"\\u003cb\\u003eIntertopic Distance Map\\u003c\\u002fb\\u003e\",\"y\":0.95,\"x\":0.5,\"xanchor\":\"center\",\"yanchor\":\"top\"},\"hoverlabel\":{\"font\":{\"size\":16,\"family\":\"Rockwell\"},\"bgcolor\":\"white\"},\"width\":650,\"height\":650,\"sliders\":[{\"active\":0,\"pad\":{\"t\":50},\"steps\":[{\"args\":[{\"marker.color\":[[\"red\",\"#B0BEC5\",\"#B0BEC5\",\"#B0BEC5\"]]}],\"label\":\"Topic 0\",\"method\":\"update\"},{\"args\":[{\"marker.color\":[[\"#B0BEC5\",\"red\",\"#B0BEC5\",\"#B0BEC5\"]]}],\"label\":\"Topic 1\",\"method\":\"update\"},{\"args\":[{\"marker.color\":[[\"#B0BEC5\",\"#B0BEC5\",\"red\",\"#B0BEC5\"]]}],\"label\":\"Topic 2\",\"method\":\"update\"},{\"args\":[{\"marker.color\":[[\"#B0BEC5\",\"#B0BEC5\",\"#B0BEC5\",\"red\"]]}],\"label\":\"Topic 3\",\"method\":\"update\"}]}],\"shapes\":[{\"line\":{\"color\":\"#CFD8DC\",\"width\":2},\"type\":\"line\",\"x0\":17.073010206222534,\"x1\":17.073010206222534,\"y0\":17.92037181854248,\"y1\":25.42563428878784},{\"line\":{\"color\":\"#9E9E9E\",\"width\":2},\"type\":\"line\",\"x0\":13.632694053649903,\"x1\":20.513326358795165,\"y0\":21.673003053665163,\"y1\":21.673003053665163}],\"annotations\":[{\"showarrow\":false,\"text\":\"D1\",\"x\":13.632694053649903,\"y\":21.673003053665163,\"yshift\":10},{\"showarrow\":false,\"text\":\"D2\",\"x\":17.073010206222534,\"xshift\":10,\"y\":25.42563428878784}]},                        {\"responsive\": true}                    ).then(function(){\n",
              "                            \n",
              "var gd = document.getElementById('23313158-6ac0-48e6-a9d7-ed9444b00a7b');\n",
              "var x = new MutationObserver(function (mutations, observer) {{\n",
              "        var display = window.getComputedStyle(gd).display;\n",
              "        if (!display || display === 'none') {{\n",
              "            console.log([gd, 'removed!']);\n",
              "            Plotly.purge(gd);\n",
              "            observer.disconnect();\n",
              "        }}\n",
              "}});\n",
              "\n",
              "// Listen for the removal of the full notebook cells\n",
              "var notebookContainer = gd.closest('#notebook-container');\n",
              "if (notebookContainer) {{\n",
              "    x.observe(notebookContainer, {childList: true});\n",
              "}}\n",
              "\n",
              "// Listen for the clearing of the current output cell\n",
              "var outputEl = gd.closest('.output');\n",
              "if (outputEl) {{\n",
              "    x.observe(outputEl, {childList: true});\n",
              "}}\n",
              "\n",
              "                        })                };                            </script>        </div>\n",
              "</body>\n",
              "</html>"
            ]
          },
          "metadata": {}
        }
      ]
    },
    {
      "cell_type": "markdown",
      "source": [
        "## 2.3 Bertopic modeling for each brand"
      ],
      "metadata": {
        "id": "hUMosUMnsw7t"
      }
    },
    {
      "cell_type": "code",
      "source": [
        "print(df2.brand.unique())"
      ],
      "metadata": {
        "colab": {
          "base_uri": "https://localhost:8080/"
        },
        "outputId": "fccd44dc-c4c4-4182-9b66-76745a052eba",
        "id": "ouL5K_e8zZWc"
      },
      "execution_count": 191,
      "outputs": [
        {
          "output_type": "stream",
          "name": "stdout",
          "text": [
            "['Aeromax' 'California Costumes' 'Plush Necessities' ... 'Anna-Kaci'\n",
            " 'Ivysport' 'Edith Windsor']\n"
          ]
        }
      ]
    },
    {
      "cell_type": "code",
      "source": [
        "brand_counts"
      ],
      "metadata": {
        "colab": {
          "base_uri": "https://localhost:8080/"
        },
        "id": "ys3MLhFfzpkA",
        "outputId": "2fb25235-eb39-43f5-f9d7-ae2aeaa49828"
      },
      "execution_count": 192,
      "outputs": [
        {
          "output_type": "execute_result",
          "data": {
            "text/plain": [
              "brand\n",
              "i play.                       878\n",
              "Pierced Owl                   631\n",
              "Angerella                     630\n",
              "MJ Metals Jewelry             439\n",
              "LaSuiveur                     356\n",
              "JASGOOD                       300\n",
              "Fawziya                       286\n",
              "Groove Plus Life              279\n",
              "WearMe Pro                    276\n",
              "Mystic Metals Body Jewelry    271\n",
              "dtype: int64"
            ]
          },
          "metadata": {},
          "execution_count": 192
        }
      ]
    },
    {
      "cell_type": "code",
      "source": [
        "brand = 'i play.'\n",
        "\n",
        "# Filter the DataFrame\n",
        "filtered_df3 = df2[df2['brand'] == brand]\n",
        "documents3 = filtered_df['cleaned_reviewText'].tolist()"
      ],
      "metadata": {
        "id": "4-ilfqHYzZWd"
      },
      "execution_count": 210,
      "outputs": []
    },
    {
      "cell_type": "code",
      "source": [
        "# Create a BERTopic model\n",
        "topic_model3 = BERTopic(min_topic_size=10)   #  when min_topic_size=10, has 715 topics, too much, increased to 300\n",
        "# Fit the model\n",
        "topics3, probabilities3 = topic_model3.fit_transform(documents3)"
      ],
      "metadata": {
        "id": "t2gJE2gdzZWd"
      },
      "execution_count": 211,
      "outputs": []
    },
    {
      "cell_type": "code",
      "source": [
        "# Get the topics\n",
        "topic_info3 = topic_model3.get_topic_info()\n",
        "# Print the topics\n",
        "print(topic_info3)"
      ],
      "metadata": {
        "colab": {
          "base_uri": "https://localhost:8080/"
        },
        "outputId": "a838ff8f-b077-4ffc-dee0-969b13c8aa53",
        "id": "8l_h8rOHzZWd"
      },
      "execution_count": 212,
      "outputs": [
        {
          "output_type": "stream",
          "name": "stdout",
          "text": [
            "    Topic  Count                           Name  \\\n",
            "0      -1    110        -1_like_cute_love_color   \n",
            "1       0     72  0_fit_short_great_comfortable   \n",
            "2       1     46        1_lens_glass_frame_pair   \n",
            "3       2     37   2_product_quality_good_great   \n",
            "4       3     36         3_shoe_sock_pedal_foot   \n",
            "5       4     31    4_nice_beautiful_cute_super   \n",
            "6       5     24   5_gift_daughter_cute_costume   \n",
            "7       6     23       6_love_wife_loved_loveit   \n",
            "8       7     21       7_hat_quality_fit_helmet   \n",
            "9       8     21       8_bag_purse_zipper_carry   \n",
            "10      9     20  9_ring_beautiful_silver_color   \n",
            "11     10     18        10_small_size_large_run   \n",
            "12     11     15     11_watch_strap_band_signal   \n",
            "\n",
            "                                       Representation  \\\n",
            "0   [like, cute, love, color, feel, old, white, ex...   \n",
            "1   [fit, short, great, comfortable, ordered, perf...   \n",
            "2   [lens, glass, frame, pair, valley, original, e...   \n",
            "3   [product, quality, good, great, pleased, exact...   \n",
            "4   [shoe, sock, pedal, foot, compression, cleat, ...   \n",
            "5   [nice, beautiful, cute, super, pretty, good, l...   \n",
            "6   [gift, daughter, cute, costume, little, bracel...   \n",
            "7   [love, wife, loved, loveit, family, luis, pick...   \n",
            "8   [hat, quality, fit, helmet, look, definitely, ...   \n",
            "9   [bag, purse, zipper, carry, like, water, highl...   \n",
            "10  [ring, beautiful, silver, color, orange, sterl...   \n",
            "11  [small, size, large, run, one, bulky, big, ord...   \n",
            "12  [watch, strap, band, signal, sometimes, month,...   \n",
            "\n",
            "                                  Representative_Docs  \n",
            "0   [black space dye dark pic gray black still lik...  \n",
            "1       [great ! fit, great fit, good short fit well]  \n",
            "2   [product arrived lens ear sock really ordered ...  \n",
            "3         [great product, good product, good product]  \n",
            "4   [bought two pair plantar fasciitis lack size c...  \n",
            "5                              [nice ! !, nice, nice]  \n",
            "6   [great little kid gift ! scarf hat one hit !, ...  \n",
            "7                                  [love, love, love]  \n",
            "8   [bought america enterprise lac second listed s...  \n",
            "9   [best tote ever purchased little rough bag one...  \n",
            "10  [love ring beautiful real sterling silver, bea...  \n",
            "11  [run extremely big ordered size smaller review...  \n",
            "12  [decent replacement worn stock up bootstrap co...  \n"
          ]
        }
      ]
    },
    {
      "cell_type": "code",
      "source": [
        "# reduce topics\n",
        "topic_model3.reduce_topics(docs=documents3, nr_topics=5)\n",
        "\n",
        "# Access the updated topics and probabilities\n",
        "new_topics3 = topic_model3.topics_\n",
        "new_probs3 = topic_model3.probabilities_"
      ],
      "metadata": {
        "id": "QpSSYuD3zZWd"
      },
      "execution_count": 213,
      "outputs": []
    },
    {
      "cell_type": "code",
      "source": [
        "# Visualize topics\n",
        "topic_model3.visualize_topics()"
      ],
      "metadata": {
        "colab": {
          "base_uri": "https://localhost:8080/",
          "height": 667
        },
        "outputId": "69626c6d-9eec-4192-d181-931653a0cb61",
        "id": "CwJ0Mco6zZWd"
      },
      "execution_count": 214,
      "outputs": [
        {
          "output_type": "display_data",
          "data": {
            "text/html": [
              "<html>\n",
              "<head><meta charset=\"utf-8\" /></head>\n",
              "<body>\n",
              "    <div>            <script src=\"https://cdnjs.cloudflare.com/ajax/libs/mathjax/2.7.5/MathJax.js?config=TeX-AMS-MML_SVG\"></script><script type=\"text/javascript\">if (window.MathJax && window.MathJax.Hub && window.MathJax.Hub.Config) {window.MathJax.Hub.Config({SVG: {font: \"STIX-Web\"}});}</script>                <script type=\"text/javascript\">window.PlotlyConfig = {MathJaxConfig: 'local'};</script>\n",
              "        <script charset=\"utf-8\" src=\"https://cdn.plot.ly/plotly-2.24.1.min.js\"></script>                <div id=\"a5e50af6-80c8-4be1-abc6-9450f6ecb95e\" class=\"plotly-graph-div\" style=\"height:650px; width:650px;\"></div>            <script type=\"text/javascript\">                                    window.PLOTLYENV=window.PLOTLYENV || {};                                    if (document.getElementById(\"a5e50af6-80c8-4be1-abc6-9450f6ecb95e\")) {                    Plotly.newPlot(                        \"a5e50af6-80c8-4be1-abc6-9450f6ecb95e\",                        [{\"customdata\":[[0,\"fit | shoe | size | great | sock\",147],[1,\"love | product | good | nice | great\",91],[2,\"lens | glass | frame | ring | pair\",90],[3,\"bag | purse | watch | strap | like\",36]],\"hovertemplate\":\"\\u003cb\\u003eTopic %{customdata[0]}\\u003c\\u002fb\\u003e\\u003cbr\\u003e%{customdata[1]}\\u003cbr\\u003eSize: %{customdata[2]}\",\"legendgroup\":\"\",\"marker\":{\"color\":\"#B0BEC5\",\"size\":[147,91,90,36],\"sizemode\":\"area\",\"sizeref\":0.091875,\"symbol\":\"circle\",\"line\":{\"color\":\"DarkSlateGrey\",\"width\":2}},\"mode\":\"markers\",\"name\":\"\",\"orientation\":\"v\",\"showlegend\":false,\"x\":[4.7839579582214355,4.942942142486572,4.528687953948975,5.4951019287109375],\"xaxis\":\"x\",\"y\":[-8.742439270019531,-7.08970308303833,-7.828924179077148,-9.01618766784668],\"yaxis\":\"y\",\"type\":\"scatter\"}],                        {\"template\":{\"data\":{\"barpolar\":[{\"marker\":{\"line\":{\"color\":\"white\",\"width\":0.5},\"pattern\":{\"fillmode\":\"overlay\",\"size\":10,\"solidity\":0.2}},\"type\":\"barpolar\"}],\"bar\":[{\"error_x\":{\"color\":\"rgb(36,36,36)\"},\"error_y\":{\"color\":\"rgb(36,36,36)\"},\"marker\":{\"line\":{\"color\":\"white\",\"width\":0.5},\"pattern\":{\"fillmode\":\"overlay\",\"size\":10,\"solidity\":0.2}},\"type\":\"bar\"}],\"carpet\":[{\"aaxis\":{\"endlinecolor\":\"rgb(36,36,36)\",\"gridcolor\":\"white\",\"linecolor\":\"white\",\"minorgridcolor\":\"white\",\"startlinecolor\":\"rgb(36,36,36)\"},\"baxis\":{\"endlinecolor\":\"rgb(36,36,36)\",\"gridcolor\":\"white\",\"linecolor\":\"white\",\"minorgridcolor\":\"white\",\"startlinecolor\":\"rgb(36,36,36)\"},\"type\":\"carpet\"}],\"choropleth\":[{\"colorbar\":{\"outlinewidth\":1,\"tickcolor\":\"rgb(36,36,36)\",\"ticks\":\"outside\"},\"type\":\"choropleth\"}],\"contourcarpet\":[{\"colorbar\":{\"outlinewidth\":1,\"tickcolor\":\"rgb(36,36,36)\",\"ticks\":\"outside\"},\"type\":\"contourcarpet\"}],\"contour\":[{\"colorbar\":{\"outlinewidth\":1,\"tickcolor\":\"rgb(36,36,36)\",\"ticks\":\"outside\"},\"colorscale\":[[0.0,\"#440154\"],[0.1111111111111111,\"#482878\"],[0.2222222222222222,\"#3e4989\"],[0.3333333333333333,\"#31688e\"],[0.4444444444444444,\"#26828e\"],[0.5555555555555556,\"#1f9e89\"],[0.6666666666666666,\"#35b779\"],[0.7777777777777778,\"#6ece58\"],[0.8888888888888888,\"#b5de2b\"],[1.0,\"#fde725\"]],\"type\":\"contour\"}],\"heatmapgl\":[{\"colorbar\":{\"outlinewidth\":1,\"tickcolor\":\"rgb(36,36,36)\",\"ticks\":\"outside\"},\"colorscale\":[[0.0,\"#440154\"],[0.1111111111111111,\"#482878\"],[0.2222222222222222,\"#3e4989\"],[0.3333333333333333,\"#31688e\"],[0.4444444444444444,\"#26828e\"],[0.5555555555555556,\"#1f9e89\"],[0.6666666666666666,\"#35b779\"],[0.7777777777777778,\"#6ece58\"],[0.8888888888888888,\"#b5de2b\"],[1.0,\"#fde725\"]],\"type\":\"heatmapgl\"}],\"heatmap\":[{\"colorbar\":{\"outlinewidth\":1,\"tickcolor\":\"rgb(36,36,36)\",\"ticks\":\"outside\"},\"colorscale\":[[0.0,\"#440154\"],[0.1111111111111111,\"#482878\"],[0.2222222222222222,\"#3e4989\"],[0.3333333333333333,\"#31688e\"],[0.4444444444444444,\"#26828e\"],[0.5555555555555556,\"#1f9e89\"],[0.6666666666666666,\"#35b779\"],[0.7777777777777778,\"#6ece58\"],[0.8888888888888888,\"#b5de2b\"],[1.0,\"#fde725\"]],\"type\":\"heatmap\"}],\"histogram2dcontour\":[{\"colorbar\":{\"outlinewidth\":1,\"tickcolor\":\"rgb(36,36,36)\",\"ticks\":\"outside\"},\"colorscale\":[[0.0,\"#440154\"],[0.1111111111111111,\"#482878\"],[0.2222222222222222,\"#3e4989\"],[0.3333333333333333,\"#31688e\"],[0.4444444444444444,\"#26828e\"],[0.5555555555555556,\"#1f9e89\"],[0.6666666666666666,\"#35b779\"],[0.7777777777777778,\"#6ece58\"],[0.8888888888888888,\"#b5de2b\"],[1.0,\"#fde725\"]],\"type\":\"histogram2dcontour\"}],\"histogram2d\":[{\"colorbar\":{\"outlinewidth\":1,\"tickcolor\":\"rgb(36,36,36)\",\"ticks\":\"outside\"},\"colorscale\":[[0.0,\"#440154\"],[0.1111111111111111,\"#482878\"],[0.2222222222222222,\"#3e4989\"],[0.3333333333333333,\"#31688e\"],[0.4444444444444444,\"#26828e\"],[0.5555555555555556,\"#1f9e89\"],[0.6666666666666666,\"#35b779\"],[0.7777777777777778,\"#6ece58\"],[0.8888888888888888,\"#b5de2b\"],[1.0,\"#fde725\"]],\"type\":\"histogram2d\"}],\"histogram\":[{\"marker\":{\"line\":{\"color\":\"white\",\"width\":0.6}},\"type\":\"histogram\"}],\"mesh3d\":[{\"colorbar\":{\"outlinewidth\":1,\"tickcolor\":\"rgb(36,36,36)\",\"ticks\":\"outside\"},\"type\":\"mesh3d\"}],\"parcoords\":[{\"line\":{\"colorbar\":{\"outlinewidth\":1,\"tickcolor\":\"rgb(36,36,36)\",\"ticks\":\"outside\"}},\"type\":\"parcoords\"}],\"pie\":[{\"automargin\":true,\"type\":\"pie\"}],\"scatter3d\":[{\"line\":{\"colorbar\":{\"outlinewidth\":1,\"tickcolor\":\"rgb(36,36,36)\",\"ticks\":\"outside\"}},\"marker\":{\"colorbar\":{\"outlinewidth\":1,\"tickcolor\":\"rgb(36,36,36)\",\"ticks\":\"outside\"}},\"type\":\"scatter3d\"}],\"scattercarpet\":[{\"marker\":{\"colorbar\":{\"outlinewidth\":1,\"tickcolor\":\"rgb(36,36,36)\",\"ticks\":\"outside\"}},\"type\":\"scattercarpet\"}],\"scattergeo\":[{\"marker\":{\"colorbar\":{\"outlinewidth\":1,\"tickcolor\":\"rgb(36,36,36)\",\"ticks\":\"outside\"}},\"type\":\"scattergeo\"}],\"scattergl\":[{\"marker\":{\"colorbar\":{\"outlinewidth\":1,\"tickcolor\":\"rgb(36,36,36)\",\"ticks\":\"outside\"}},\"type\":\"scattergl\"}],\"scattermapbox\":[{\"marker\":{\"colorbar\":{\"outlinewidth\":1,\"tickcolor\":\"rgb(36,36,36)\",\"ticks\":\"outside\"}},\"type\":\"scattermapbox\"}],\"scatterpolargl\":[{\"marker\":{\"colorbar\":{\"outlinewidth\":1,\"tickcolor\":\"rgb(36,36,36)\",\"ticks\":\"outside\"}},\"type\":\"scatterpolargl\"}],\"scatterpolar\":[{\"marker\":{\"colorbar\":{\"outlinewidth\":1,\"tickcolor\":\"rgb(36,36,36)\",\"ticks\":\"outside\"}},\"type\":\"scatterpolar\"}],\"scatter\":[{\"fillpattern\":{\"fillmode\":\"overlay\",\"size\":10,\"solidity\":0.2},\"type\":\"scatter\"}],\"scatterternary\":[{\"marker\":{\"colorbar\":{\"outlinewidth\":1,\"tickcolor\":\"rgb(36,36,36)\",\"ticks\":\"outside\"}},\"type\":\"scatterternary\"}],\"surface\":[{\"colorbar\":{\"outlinewidth\":1,\"tickcolor\":\"rgb(36,36,36)\",\"ticks\":\"outside\"},\"colorscale\":[[0.0,\"#440154\"],[0.1111111111111111,\"#482878\"],[0.2222222222222222,\"#3e4989\"],[0.3333333333333333,\"#31688e\"],[0.4444444444444444,\"#26828e\"],[0.5555555555555556,\"#1f9e89\"],[0.6666666666666666,\"#35b779\"],[0.7777777777777778,\"#6ece58\"],[0.8888888888888888,\"#b5de2b\"],[1.0,\"#fde725\"]],\"type\":\"surface\"}],\"table\":[{\"cells\":{\"fill\":{\"color\":\"rgb(237,237,237)\"},\"line\":{\"color\":\"white\"}},\"header\":{\"fill\":{\"color\":\"rgb(217,217,217)\"},\"line\":{\"color\":\"white\"}},\"type\":\"table\"}]},\"layout\":{\"annotationdefaults\":{\"arrowhead\":0,\"arrowwidth\":1},\"autotypenumbers\":\"strict\",\"coloraxis\":{\"colorbar\":{\"outlinewidth\":1,\"tickcolor\":\"rgb(36,36,36)\",\"ticks\":\"outside\"}},\"colorscale\":{\"diverging\":[[0.0,\"rgb(103,0,31)\"],[0.1,\"rgb(178,24,43)\"],[0.2,\"rgb(214,96,77)\"],[0.3,\"rgb(244,165,130)\"],[0.4,\"rgb(253,219,199)\"],[0.5,\"rgb(247,247,247)\"],[0.6,\"rgb(209,229,240)\"],[0.7,\"rgb(146,197,222)\"],[0.8,\"rgb(67,147,195)\"],[0.9,\"rgb(33,102,172)\"],[1.0,\"rgb(5,48,97)\"]],\"sequential\":[[0.0,\"#440154\"],[0.1111111111111111,\"#482878\"],[0.2222222222222222,\"#3e4989\"],[0.3333333333333333,\"#31688e\"],[0.4444444444444444,\"#26828e\"],[0.5555555555555556,\"#1f9e89\"],[0.6666666666666666,\"#35b779\"],[0.7777777777777778,\"#6ece58\"],[0.8888888888888888,\"#b5de2b\"],[1.0,\"#fde725\"]],\"sequentialminus\":[[0.0,\"#440154\"],[0.1111111111111111,\"#482878\"],[0.2222222222222222,\"#3e4989\"],[0.3333333333333333,\"#31688e\"],[0.4444444444444444,\"#26828e\"],[0.5555555555555556,\"#1f9e89\"],[0.6666666666666666,\"#35b779\"],[0.7777777777777778,\"#6ece58\"],[0.8888888888888888,\"#b5de2b\"],[1.0,\"#fde725\"]]},\"colorway\":[\"#1F77B4\",\"#FF7F0E\",\"#2CA02C\",\"#D62728\",\"#9467BD\",\"#8C564B\",\"#E377C2\",\"#7F7F7F\",\"#BCBD22\",\"#17BECF\"],\"font\":{\"color\":\"rgb(36,36,36)\"},\"geo\":{\"bgcolor\":\"white\",\"lakecolor\":\"white\",\"landcolor\":\"white\",\"showlakes\":true,\"showland\":true,\"subunitcolor\":\"white\"},\"hoverlabel\":{\"align\":\"left\"},\"hovermode\":\"closest\",\"mapbox\":{\"style\":\"light\"},\"paper_bgcolor\":\"white\",\"plot_bgcolor\":\"white\",\"polar\":{\"angularaxis\":{\"gridcolor\":\"rgb(232,232,232)\",\"linecolor\":\"rgb(36,36,36)\",\"showgrid\":false,\"showline\":true,\"ticks\":\"outside\"},\"bgcolor\":\"white\",\"radialaxis\":{\"gridcolor\":\"rgb(232,232,232)\",\"linecolor\":\"rgb(36,36,36)\",\"showgrid\":false,\"showline\":true,\"ticks\":\"outside\"}},\"scene\":{\"xaxis\":{\"backgroundcolor\":\"white\",\"gridcolor\":\"rgb(232,232,232)\",\"gridwidth\":2,\"linecolor\":\"rgb(36,36,36)\",\"showbackground\":true,\"showgrid\":false,\"showline\":true,\"ticks\":\"outside\",\"zeroline\":false,\"zerolinecolor\":\"rgb(36,36,36)\"},\"yaxis\":{\"backgroundcolor\":\"white\",\"gridcolor\":\"rgb(232,232,232)\",\"gridwidth\":2,\"linecolor\":\"rgb(36,36,36)\",\"showbackground\":true,\"showgrid\":false,\"showline\":true,\"ticks\":\"outside\",\"zeroline\":false,\"zerolinecolor\":\"rgb(36,36,36)\"},\"zaxis\":{\"backgroundcolor\":\"white\",\"gridcolor\":\"rgb(232,232,232)\",\"gridwidth\":2,\"linecolor\":\"rgb(36,36,36)\",\"showbackground\":true,\"showgrid\":false,\"showline\":true,\"ticks\":\"outside\",\"zeroline\":false,\"zerolinecolor\":\"rgb(36,36,36)\"}},\"shapedefaults\":{\"fillcolor\":\"black\",\"line\":{\"width\":0},\"opacity\":0.3},\"ternary\":{\"aaxis\":{\"gridcolor\":\"rgb(232,232,232)\",\"linecolor\":\"rgb(36,36,36)\",\"showgrid\":false,\"showline\":true,\"ticks\":\"outside\"},\"baxis\":{\"gridcolor\":\"rgb(232,232,232)\",\"linecolor\":\"rgb(36,36,36)\",\"showgrid\":false,\"showline\":true,\"ticks\":\"outside\"},\"bgcolor\":\"white\",\"caxis\":{\"gridcolor\":\"rgb(232,232,232)\",\"linecolor\":\"rgb(36,36,36)\",\"showgrid\":false,\"showline\":true,\"ticks\":\"outside\"}},\"title\":{\"x\":0.05},\"xaxis\":{\"automargin\":true,\"gridcolor\":\"rgb(232,232,232)\",\"linecolor\":\"rgb(36,36,36)\",\"showgrid\":false,\"showline\":true,\"ticks\":\"outside\",\"title\":{\"standoff\":15},\"zeroline\":false,\"zerolinecolor\":\"rgb(36,36,36)\"},\"yaxis\":{\"automargin\":true,\"gridcolor\":\"rgb(232,232,232)\",\"linecolor\":\"rgb(36,36,36)\",\"showgrid\":false,\"showline\":true,\"ticks\":\"outside\",\"title\":{\"standoff\":15},\"zeroline\":false,\"zerolinecolor\":\"rgb(36,36,36)\"}}},\"xaxis\":{\"anchor\":\"y\",\"domain\":[0.0,1.0],\"title\":{\"text\":\"\"},\"visible\":false,\"range\":[3.8493847608566285,6.319367218017578]},\"yaxis\":{\"anchor\":\"x\",\"domain\":[0.0,1.0],\"title\":{\"text\":\"\"},\"visible\":false,\"range\":[-10.368615818023681,-6.026247620582581]},\"legend\":{\"tracegroupgap\":0,\"itemsizing\":\"constant\"},\"margin\":{\"t\":60},\"title\":{\"font\":{\"size\":22,\"color\":\"Black\"},\"text\":\"\\u003cb\\u003eIntertopic Distance Map\\u003c\\u002fb\\u003e\",\"y\":0.95,\"x\":0.5,\"xanchor\":\"center\",\"yanchor\":\"top\"},\"hoverlabel\":{\"font\":{\"size\":16,\"family\":\"Rockwell\"},\"bgcolor\":\"white\"},\"width\":650,\"height\":650,\"sliders\":[{\"active\":0,\"pad\":{\"t\":50},\"steps\":[{\"args\":[{\"marker.color\":[[\"red\",\"#B0BEC5\",\"#B0BEC5\",\"#B0BEC5\"]]}],\"label\":\"Topic 0\",\"method\":\"update\"},{\"args\":[{\"marker.color\":[[\"#B0BEC5\",\"red\",\"#B0BEC5\",\"#B0BEC5\"]]}],\"label\":\"Topic 1\",\"method\":\"update\"},{\"args\":[{\"marker.color\":[[\"#B0BEC5\",\"#B0BEC5\",\"red\",\"#B0BEC5\"]]}],\"label\":\"Topic 2\",\"method\":\"update\"},{\"args\":[{\"marker.color\":[[\"#B0BEC5\",\"#B0BEC5\",\"#B0BEC5\",\"red\"]]}],\"label\":\"Topic 3\",\"method\":\"update\"}]}],\"shapes\":[{\"line\":{\"color\":\"#CFD8DC\",\"width\":2},\"type\":\"line\",\"x0\":5.0843759894371034,\"x1\":5.0843759894371034,\"y0\":-10.368615818023681,\"y1\":-6.026247620582581},{\"line\":{\"color\":\"#9E9E9E\",\"width\":2},\"type\":\"line\",\"x0\":3.8493847608566285,\"x1\":6.319367218017578,\"y0\":-8.19743171930313,\"y1\":-8.19743171930313}],\"annotations\":[{\"showarrow\":false,\"text\":\"D1\",\"x\":3.8493847608566285,\"y\":-8.19743171930313,\"yshift\":10},{\"showarrow\":false,\"text\":\"D2\",\"x\":5.0843759894371034,\"xshift\":10,\"y\":-6.026247620582581}]},                        {\"responsive\": true}                    ).then(function(){\n",
              "                            \n",
              "var gd = document.getElementById('a5e50af6-80c8-4be1-abc6-9450f6ecb95e');\n",
              "var x = new MutationObserver(function (mutations, observer) {{\n",
              "        var display = window.getComputedStyle(gd).display;\n",
              "        if (!display || display === 'none') {{\n",
              "            console.log([gd, 'removed!']);\n",
              "            Plotly.purge(gd);\n",
              "            observer.disconnect();\n",
              "        }}\n",
              "}});\n",
              "\n",
              "// Listen for the removal of the full notebook cells\n",
              "var notebookContainer = gd.closest('#notebook-container');\n",
              "if (notebookContainer) {{\n",
              "    x.observe(notebookContainer, {childList: true});\n",
              "}}\n",
              "\n",
              "// Listen for the clearing of the current output cell\n",
              "var outputEl = gd.closest('.output');\n",
              "if (outputEl) {{\n",
              "    x.observe(outputEl, {childList: true});\n",
              "}}\n",
              "\n",
              "                        })                };                            </script>        </div>\n",
              "</body>\n",
              "</html>"
            ]
          },
          "metadata": {}
        }
      ]
    }
  ]
}