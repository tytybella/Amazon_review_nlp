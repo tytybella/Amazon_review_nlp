{
  "nbformat": 4,
  "nbformat_minor": 0,
  "metadata": {
    "colab": {
      "provenance": [],
      "collapsed_sections": [
        "smTDLThFh-4o"
      ],
      "authorship_tag": "ABX9TyPhQoOjMPY6F5ih1lxyAgId",
      "include_colab_link": true
    },
    "kernelspec": {
      "name": "python3",
      "display_name": "Python 3"
    },
    "language_info": {
      "name": "python"
    },
    "accelerator": "TPU"
  },
  "cells": [
    {
      "cell_type": "markdown",
      "metadata": {
        "id": "view-in-github",
        "colab_type": "text"
      },
      "source": [
        "<a href=\"https://colab.research.google.com/github/tytybella/Amazon_review_nlp/blob/main/bert_models.ipynb\" target=\"_parent\"><img src=\"https://colab.research.google.com/assets/colab-badge.svg\" alt=\"Open In Colab\"/></a>"
      ]
    },
    {
      "cell_type": "markdown",
      "source": [
        "# 0. Import libraries"
      ],
      "metadata": {
        "id": "smTDLThFh-4o"
      }
    },
    {
      "cell_type": "code",
      "source": [
        "import tensorflow as tf\n",
        "print(tf.__version__)"
      ],
      "metadata": {
        "colab": {
          "base_uri": "https://localhost:8080/"
        },
        "id": "UywJhLGqv3sU",
        "outputId": "afc8ddcb-14d8-460e-eaa7-0cae926ae367"
      },
      "execution_count": 4,
      "outputs": [
        {
          "output_type": "stream",
          "name": "stdout",
          "text": [
            "2.12.0\n"
          ]
        }
      ]
    },
    {
      "cell_type": "code",
      "source": [
        "!pip install --upgrade tensorflow"
      ],
      "metadata": {
        "id": "Ljs4W4HIyRaj"
      },
      "execution_count": null,
      "outputs": []
    },
    {
      "cell_type": "code",
      "source": [
        "import tensorflow as tf\n",
        "print(tf.__version__)"
      ],
      "metadata": {
        "colab": {
          "base_uri": "https://localhost:8080/"
        },
        "id": "-vo6gFNYyTtN",
        "outputId": "a5c4ec43-eff8-4aa8-e81e-c5637a69a213"
      },
      "execution_count": 14,
      "outputs": [
        {
          "output_type": "stream",
          "name": "stdout",
          "text": [
            "2.12.0\n"
          ]
        }
      ]
    },
    {
      "cell_type": "code",
      "source": [
        "# A dependency of the preprocessing for BERT inputs\n",
        "!pip install -U \"tensorflow-text==2.12.0\"\n",
        "!pip install \"tf-models-official==2.12.0\""
      ],
      "metadata": {
        "id": "y4byxqSliEI5"
      },
      "execution_count": null,
      "outputs": []
    },
    {
      "cell_type": "code",
      "source": [
        "!pip install tf-models-official\n"
      ],
      "metadata": {
        "id": "LLwa3seexu_K"
      },
      "execution_count": null,
      "outputs": []
    },
    {
      "cell_type": "code",
      "source": [
        "import os\n",
        "import shutil\n",
        "\n",
        "import tensorflow as tf\n",
        "import tensorflow_hub as hub\n",
        "import tensorflow_text as text\n",
        "from official.nlp import optimization  # to create AdamW optimizer\n",
        "# from tensorflow.keras import utils\n",
        "import pathlib\n",
        "import zipfile\n",
        "\n",
        "import matplotlib.pyplot as plt\n",
        "\n",
        "tf.get_logger().setLevel('ERROR')"
      ],
      "metadata": {
        "id": "1TuLKEksiOZT"
      },
      "execution_count": 17,
      "outputs": []
    },
    {
      "cell_type": "markdown",
      "source": [
        "# 1. Download datasets from Box link"
      ],
      "metadata": {
        "id": "d9O-OaumdJ3M"
      }
    },
    {
      "cell_type": "code",
      "source": [
        "!wget https://tufts.box.com/shared/static/9tcv9p4zc1q9d5fb80weqtvm2los1len.zip -O bert_same_data.zip\n",
        "!wget https://tufts.box.com/shared/static/65lzdmpyito0c98gt89nktjrnuvrsjdm.zip -O bert_basic_data.zip"
      ],
      "metadata": {
        "id": "1lvJNe96cXnp"
      },
      "execution_count": null,
      "outputs": []
    },
    {
      "cell_type": "code",
      "source": [
        "!unzip bert_same_data.zip -d bert_same_data\n",
        "!unzip bert_basic_data.zip -d bert_basic_data"
      ],
      "metadata": {
        "id": "5rc1NxjuchZ4"
      },
      "execution_count": null,
      "outputs": []
    },
    {
      "cell_type": "code",
      "source": [
        "!pwd"
      ],
      "metadata": {
        "colab": {
          "base_uri": "https://localhost:8080/"
        },
        "id": "AeEXaGK7zaIR",
        "outputId": "6b3038cc-f49b-43fd-c423-fa167f5f5880"
      },
      "execution_count": 26,
      "outputs": [
        {
          "output_type": "stream",
          "name": "stdout",
          "text": [
            "/content\n"
          ]
        }
      ]
    },
    {
      "cell_type": "code",
      "source": [
        "!ls"
      ],
      "metadata": {
        "colab": {
          "base_uri": "https://localhost:8080/"
        },
        "id": "LZu7ZhxnzcfR",
        "outputId": "04271a93-912d-457e-c5fa-8ef5bb07c928"
      },
      "execution_count": 29,
      "outputs": [
        {
          "output_type": "stream",
          "name": "stdout",
          "text": [
            "bert_basic_data  bert_basic_data.zip  bert_same_data  bert_same_data.zip  sample_data\n"
          ]
        }
      ]
    },
    {
      "cell_type": "code",
      "source": [
        "!ls /content/bert_basic_data/content/bert_basic_data"
      ],
      "metadata": {
        "colab": {
          "base_uri": "https://localhost:8080/"
        },
        "id": "fPHDPAt4zk3t",
        "outputId": "e1824702-ad43-4ed8-d0d1-c77625eb8777"
      },
      "execution_count": 32,
      "outputs": [
        {
          "output_type": "stream",
          "name": "stdout",
          "text": [
            "test  train  validation\n"
          ]
        }
      ]
    },
    {
      "cell_type": "code",
      "source": [
        "!ls bert_basic_data"
      ],
      "metadata": {
        "id": "dCaRq_ew0B_x"
      },
      "execution_count": null,
      "outputs": []
    },
    {
      "cell_type": "markdown",
      "source": [
        "# 3. Define Bert class and plot function\n",
        "\n",
        "The plot_acc_loss function can plot each epochs result (since I dont have GPUs... I only tried epochs=1) ---For visualization ,can choose epoch as 5 and plot the curve again.\n"
      ],
      "metadata": {
        "id": "Q5rIBquxgitm"
      }
    },
    {
      "cell_type": "code",
      "source": [
        "\n",
        "AUTOTUNE = tf.data.AUTOTUNE  # instruct TensorFlow to adjust the parameter values (batches/buffer sizes) based on current runtime environment to optimize CPU/GPU utilization.\n",
        "batch_size = 64\n",
        "seed = 42\n"
      ],
      "metadata": {
        "id": "2AdSQFZ3gljN"
      },
      "execution_count": 105,
      "outputs": []
    },
    {
      "cell_type": "code",
      "source": [
        "class BertModel:\n",
        "    def __init__(self, bert_model_name, train_ds, val_ds, test_ds):\n",
        "      self.train_ds = train_ds\n",
        "      self.val_ds = val_ds\n",
        "      self.test_ds = test_ds\n",
        "      self.tfhub_handle_encoder = map_name_to_handle[bert_model_name]\n",
        "      self.tfhub_handle_preprocess = map_model_to_preprocess[bert_model_name]\n",
        "      self.classifier_model = None\n",
        "      self.loss, self.metrics = self.loss_function()\n",
        "      self.optimizer = self.optimizer()\n",
        "      self.history = None         # for plot using\n",
        "\n",
        "    def build_classifier_model(self):\n",
        "      '''build classifier model'''\n",
        "      text_input = tf.keras.layers.Input(shape=(), dtype=tf.string, name='text')\n",
        "      preprocessing_layer = hub.KerasLayer(self.tfhub_handle_preprocess, name='preprocessing')\n",
        "      encoder_inputs = preprocessing_layer(text_input)\n",
        "      encoder = hub.KerasLayer(self.tfhub_handle_encoder, trainable=True, name='BERT_encoder')\n",
        "      outputs = encoder(encoder_inputs)\n",
        "      net = outputs['pooled_output']\n",
        "      net = tf.keras.layers.Dropout(0.1)(net)\n",
        "      net = tf.keras.layers.Dense(3, activation='softmax', name='classifier')(net)  # Change here\n",
        "      self.classifier_model = tf.keras.Model(text_input, net)\n",
        "\n",
        "\n",
        "    def show_model_structure(self):\n",
        "      '''show model's structure '''\n",
        "      print(tf.keras.utils.plot_model(classifier_model))\n",
        "\n",
        "    def loss_function(self):\n",
        "      '''multi-class classification problem, use losses.CategoricalCrossentropy or SparseCategoricalCrossentropy'''\n",
        "      loss = tf.keras.losses.SparseCategoricalCrossentropy(from_logits=True)  # or CategoricalCrossentropy if one-hot\n",
        "      metrics = tf.metrics.SparseCategoricalAccuracy()  # or CategoricalAccuracy if one-hot\n",
        "      return loss, metrics\n",
        "\n",
        "    def optimizer(self, epochs=1, init_lr=3e-5, warmup_rate=0.1, optimizer_type='adamw'):\n",
        "      '''configures the training optimizer '''\n",
        "      steps_per_epoch = tf.data.experimental.cardinality(train_ds).numpy()\n",
        "      num_train_steps = steps_per_epoch * epochs\n",
        "      num_warmup_steps = int(warmup_rate * num_train_steps)\n",
        "      optimizer = optimization.create_optimizer(init_lr=init_lr,\n",
        "                                                num_train_steps=num_train_steps,\n",
        "                                                num_warmup_steps=num_warmup_steps,\n",
        "                                                optimizer_type=optimizer_type)\n",
        "      return optimizer\n",
        "\n",
        "\n",
        "    def compile_model(self):\n",
        "      '''compile model with defined loss, metric and optimizer.'''\n",
        "      self.classifier_model.compile(optimizer=self.optimizer,\n",
        "                               loss=self.loss,\n",
        "                               metrics=self.metrics)\n",
        "\n",
        "    def train(self, epochs=1):\n",
        "      '''train model'''\n",
        "      print(f'Training model with {self.tfhub_handle_encoder}')\n",
        "      self.history = self.classifier_model.fit(x=self.train_ds,\n",
        "                                               validation_data=self.val_ds,\n",
        "                                               epochs=epochs)\n",
        "\n",
        "    def evaluate(self):\n",
        "      '''evaluate model and print accutacy ans loss'''\n",
        "      loss, accuracy = self.classifier_model.evaluate(self.test_ds)\n",
        "      print(f'Loss: {loss}')\n",
        "      print(f'Accuracy: {accuracy}')"
      ],
      "metadata": {
        "id": "eEU1RqX5g4cD"
      },
      "execution_count": 110,
      "outputs": []
    },
    {
      "cell_type": "markdown",
      "source": [
        "### The plot_acc_loss function can plot each epochs result (since I dont have GPUs... I only tried epochs=1) ---For visualization ,can choose epoch as 5 and plot the curve again."
      ],
      "metadata": {
        "id": "JYNESckPNEZT"
      }
    },
    {
      "cell_type": "code",
      "source": [
        "import matplotlib.pyplot as plt\n",
        "\n",
        "def plot_acc_loss(history):\n",
        "    acc = history['sparse_categorical_accuracy']\n",
        "    val_acc = history['val_sparse_categorical_accuracy']\n",
        "    loss = history['loss']\n",
        "    val_loss = history['val_loss']\n",
        "\n",
        "    epochs = range(1, len(acc) + 1)\n",
        "    fig = plt.figure(figsize=(10, 6))\n",
        "    fig.tight_layout()\n",
        "\n",
        "    plt.subplot(2, 1, 1)\n",
        "    plt.plot(epochs, loss, 'r', label='Training loss')\n",
        "    plt.plot(epochs, val_loss, 'b', label='Validation loss')\n",
        "    plt.title('Training and validation loss')\n",
        "    plt.ylabel('Loss')\n",
        "    plt.legend()\n",
        "\n",
        "    plt.subplot(2, 1, 2)\n",
        "    plt.plot(epochs, acc, 'r', label='Training accuracy')\n",
        "    plt.plot(epochs, val_acc, 'b', label='Validation accuracy')\n",
        "    plt.title('Training and validation accuracy')\n",
        "    plt.xlabel('Epochs')\n",
        "    plt.ylabel('Accuracy')\n",
        "    plt.legend(loc='lower right')\n",
        "\n",
        "    plt.show()\n"
      ],
      "metadata": {
        "id": "cr-yceAgNCgL"
      },
      "execution_count": null,
      "outputs": []
    },
    {
      "cell_type": "markdown",
      "source": [
        "# 4. Choose bert model"
      ],
      "metadata": {
        "id": "AbxGVAF3hCX2"
      }
    },
    {
      "cell_type": "code",
      "source": [
        "#@title Choose a BERT model to fine-tune\n",
        "\n",
        "bert_model_name = 'small_bert/bert_en_uncased_L-4_H-512_A-8'  #@param [\"bert_en_uncased_L-12_H-768_A-12\", \"bert_en_cased_L-12_H-768_A-12\", \"bert_multi_cased_L-12_H-768_A-12\", \"small_bert/bert_en_uncased_L-2_H-128_A-2\", \"small_bert/bert_en_uncased_L-2_H-256_A-4\", \"small_bert/bert_en_uncased_L-2_H-512_A-8\", \"small_bert/bert_en_uncased_L-2_H-768_A-12\", \"small_bert/bert_en_uncased_L-4_H-128_A-2\", \"small_bert/bert_en_uncased_L-4_H-256_A-4\", \"small_bert/bert_en_uncased_L-4_H-512_A-8\", \"small_bert/bert_en_uncased_L-4_H-768_A-12\", \"small_bert/bert_en_uncased_L-6_H-128_A-2\", \"small_bert/bert_en_uncased_L-6_H-256_A-4\", \"small_bert/bert_en_uncased_L-6_H-512_A-8\", \"small_bert/bert_en_uncased_L-6_H-768_A-12\", \"small_bert/bert_en_uncased_L-8_H-128_A-2\", \"small_bert/bert_en_uncased_L-8_H-256_A-4\", \"small_bert/bert_en_uncased_L-8_H-512_A-8\", \"small_bert/bert_en_uncased_L-8_H-768_A-12\", \"small_bert/bert_en_uncased_L-10_H-128_A-2\", \"small_bert/bert_en_uncased_L-10_H-256_A-4\", \"small_bert/bert_en_uncased_L-10_H-512_A-8\", \"small_bert/bert_en_uncased_L-10_H-768_A-12\", \"small_bert/bert_en_uncased_L-12_H-128_A-2\", \"small_bert/bert_en_uncased_L-12_H-256_A-4\", \"small_bert/bert_en_uncased_L-12_H-512_A-8\", \"small_bert/bert_en_uncased_L-12_H-768_A-12\", \"albert_en_base\", \"electra_small\", \"electra_base\", \"experts_pubmed\", \"experts_wiki_books\", \"talking-heads_base\"]\n",
        "\n",
        "map_name_to_handle = {\n",
        "    'bert_en_uncased_L-12_H-768_A-12':\n",
        "        'https://tfhub.dev/tensorflow/bert_en_uncased_L-12_H-768_A-12/3',\n",
        "    'bert_en_cased_L-12_H-768_A-12':\n",
        "        'https://tfhub.dev/tensorflow/bert_en_cased_L-12_H-768_A-12/3',\n",
        "    'bert_multi_cased_L-12_H-768_A-12':\n",
        "        'https://tfhub.dev/tensorflow/bert_multi_cased_L-12_H-768_A-12/3',\n",
        "    'small_bert/bert_en_uncased_L-2_H-128_A-2':\n",
        "        'https://tfhub.dev/tensorflow/small_bert/bert_en_uncased_L-2_H-128_A-2/1',\n",
        "    'small_bert/bert_en_uncased_L-2_H-256_A-4':\n",
        "        'https://tfhub.dev/tensorflow/small_bert/bert_en_uncased_L-2_H-256_A-4/1',\n",
        "    'small_bert/bert_en_uncased_L-2_H-512_A-8':\n",
        "        'https://tfhub.dev/tensorflow/small_bert/bert_en_uncased_L-2_H-512_A-8/1',\n",
        "    'small_bert/bert_en_uncased_L-2_H-768_A-12':\n",
        "        'https://tfhub.dev/tensorflow/small_bert/bert_en_uncased_L-2_H-768_A-12/1',\n",
        "    'small_bert/bert_en_uncased_L-4_H-128_A-2':\n",
        "        'https://tfhub.dev/tensorflow/small_bert/bert_en_uncased_L-4_H-128_A-2/1',\n",
        "    'small_bert/bert_en_uncased_L-4_H-256_A-4':\n",
        "        'https://tfhub.dev/tensorflow/small_bert/bert_en_uncased_L-4_H-256_A-4/1',\n",
        "    'small_bert/bert_en_uncased_L-4_H-512_A-8':\n",
        "        'https://tfhub.dev/tensorflow/small_bert/bert_en_uncased_L-4_H-512_A-8/1',\n",
        "    'small_bert/bert_en_uncased_L-4_H-768_A-12':\n",
        "        'https://tfhub.dev/tensorflow/small_bert/bert_en_uncased_L-4_H-768_A-12/1',\n",
        "    'small_bert/bert_en_uncased_L-6_H-128_A-2':\n",
        "        'https://tfhub.dev/tensorflow/small_bert/bert_en_uncased_L-6_H-128_A-2/1',\n",
        "    'small_bert/bert_en_uncased_L-6_H-256_A-4':\n",
        "        'https://tfhub.dev/tensorflow/small_bert/bert_en_uncased_L-6_H-256_A-4/1',\n",
        "    'small_bert/bert_en_uncased_L-6_H-512_A-8':\n",
        "        'https://tfhub.dev/tensorflow/small_bert/bert_en_uncased_L-6_H-512_A-8/1',\n",
        "    'small_bert/bert_en_uncased_L-6_H-768_A-12':\n",
        "        'https://tfhub.dev/tensorflow/small_bert/bert_en_uncased_L-6_H-768_A-12/1',\n",
        "    'small_bert/bert_en_uncased_L-8_H-128_A-2':\n",
        "        'https://tfhub.dev/tensorflow/small_bert/bert_en_uncased_L-8_H-128_A-2/1',\n",
        "    'small_bert/bert_en_uncased_L-8_H-256_A-4':\n",
        "        'https://tfhub.dev/tensorflow/small_bert/bert_en_uncased_L-8_H-256_A-4/1',\n",
        "    'small_bert/bert_en_uncased_L-8_H-512_A-8':\n",
        "        'https://tfhub.dev/tensorflow/small_bert/bert_en_uncased_L-8_H-512_A-8/1',\n",
        "    'small_bert/bert_en_uncased_L-8_H-768_A-12':\n",
        "        'https://tfhub.dev/tensorflow/small_bert/bert_en_uncased_L-8_H-768_A-12/1',\n",
        "    'small_bert/bert_en_uncased_L-10_H-128_A-2':\n",
        "        'https://tfhub.dev/tensorflow/small_bert/bert_en_uncased_L-10_H-128_A-2/1',\n",
        "    'small_bert/bert_en_uncased_L-10_H-256_A-4':\n",
        "        'https://tfhub.dev/tensorflow/small_bert/bert_en_uncased_L-10_H-256_A-4/1',\n",
        "    'small_bert/bert_en_uncased_L-10_H-512_A-8':\n",
        "        'https://tfhub.dev/tensorflow/small_bert/bert_en_uncased_L-10_H-512_A-8/1',\n",
        "    'small_bert/bert_en_uncased_L-10_H-768_A-12':\n",
        "        'https://tfhub.dev/tensorflow/small_bert/bert_en_uncased_L-10_H-768_A-12/1',\n",
        "    'small_bert/bert_en_uncased_L-12_H-128_A-2':\n",
        "        'https://tfhub.dev/tensorflow/small_bert/bert_en_uncased_L-12_H-128_A-2/1',\n",
        "    'small_bert/bert_en_uncased_L-12_H-256_A-4':\n",
        "        'https://tfhub.dev/tensorflow/small_bert/bert_en_uncased_L-12_H-256_A-4/1',\n",
        "    'small_bert/bert_en_uncased_L-12_H-512_A-8':\n",
        "        'https://tfhub.dev/tensorflow/small_bert/bert_en_uncased_L-12_H-512_A-8/1',\n",
        "    'small_bert/bert_en_uncased_L-12_H-768_A-12':\n",
        "        'https://tfhub.dev/tensorflow/small_bert/bert_en_uncased_L-12_H-768_A-12/1',\n",
        "    'albert_en_base':\n",
        "        'https://tfhub.dev/tensorflow/albert_en_base/2',\n",
        "    'electra_small':\n",
        "        'https://tfhub.dev/google/electra_small/2',\n",
        "    'electra_base':\n",
        "        'https://tfhub.dev/google/electra_base/2',\n",
        "    'experts_pubmed':\n",
        "        'https://tfhub.dev/google/experts/bert/pubmed/2',\n",
        "    'experts_wiki_books':\n",
        "        'https://tfhub.dev/google/experts/bert/wiki_books/2',\n",
        "    'talking-heads_base':\n",
        "        'https://tfhub.dev/tensorflow/talkheads_ggelu_bert_en_base/1',\n",
        "}\n",
        "\n",
        "map_model_to_preprocess = {\n",
        "    'bert_en_uncased_L-12_H-768_A-12':\n",
        "        'https://tfhub.dev/tensorflow/bert_en_uncased_preprocess/3',\n",
        "    'bert_en_cased_L-12_H-768_A-12':\n",
        "        'https://tfhub.dev/tensorflow/bert_en_cased_preprocess/3',\n",
        "    'small_bert/bert_en_uncased_L-2_H-128_A-2':\n",
        "        'https://tfhub.dev/tensorflow/bert_en_uncased_preprocess/3',\n",
        "    'small_bert/bert_en_uncased_L-2_H-256_A-4':\n",
        "        'https://tfhub.dev/tensorflow/bert_en_uncased_preprocess/3',\n",
        "    'small_bert/bert_en_uncased_L-2_H-512_A-8':\n",
        "        'https://tfhub.dev/tensorflow/bert_en_uncased_preprocess/3',\n",
        "    'small_bert/bert_en_uncased_L-2_H-768_A-12':\n",
        "        'https://tfhub.dev/tensorflow/bert_en_uncased_preprocess/3',\n",
        "    'small_bert/bert_en_uncased_L-4_H-128_A-2':\n",
        "        'https://tfhub.dev/tensorflow/bert_en_uncased_preprocess/3',\n",
        "    'small_bert/bert_en_uncased_L-4_H-256_A-4':\n",
        "        'https://tfhub.dev/tensorflow/bert_en_uncased_preprocess/3',\n",
        "    'small_bert/bert_en_uncased_L-4_H-512_A-8':\n",
        "        'https://tfhub.dev/tensorflow/bert_en_uncased_preprocess/3',\n",
        "    'small_bert/bert_en_uncased_L-4_H-768_A-12':\n",
        "        'https://tfhub.dev/tensorflow/bert_en_uncased_preprocess/3',\n",
        "    'small_bert/bert_en_uncased_L-6_H-128_A-2':\n",
        "        'https://tfhub.dev/tensorflow/bert_en_uncased_preprocess/3',\n",
        "    'small_bert/bert_en_uncased_L-6_H-256_A-4':\n",
        "        'https://tfhub.dev/tensorflow/bert_en_uncased_preprocess/3',\n",
        "    'small_bert/bert_en_uncased_L-6_H-512_A-8':\n",
        "        'https://tfhub.dev/tensorflow/bert_en_uncased_preprocess/3',\n",
        "    'small_bert/bert_en_uncased_L-6_H-768_A-12':\n",
        "        'https://tfhub.dev/tensorflow/bert_en_uncased_preprocess/3',\n",
        "    'small_bert/bert_en_uncased_L-8_H-128_A-2':\n",
        "        'https://tfhub.dev/tensorflow/bert_en_uncased_preprocess/3',\n",
        "    'small_bert/bert_en_uncased_L-8_H-256_A-4':\n",
        "        'https://tfhub.dev/tensorflow/bert_en_uncased_preprocess/3',\n",
        "    'small_bert/bert_en_uncased_L-8_H-512_A-8':\n",
        "        'https://tfhub.dev/tensorflow/bert_en_uncased_preprocess/3',\n",
        "    'small_bert/bert_en_uncased_L-8_H-768_A-12':\n",
        "        'https://tfhub.dev/tensorflow/bert_en_uncased_preprocess/3',\n",
        "    'small_bert/bert_en_uncased_L-10_H-128_A-2':\n",
        "        'https://tfhub.dev/tensorflow/bert_en_uncased_preprocess/3',\n",
        "    'small_bert/bert_en_uncased_L-10_H-256_A-4':\n",
        "        'https://tfhub.dev/tensorflow/bert_en_uncased_preprocess/3',\n",
        "    'small_bert/bert_en_uncased_L-10_H-512_A-8':\n",
        "        'https://tfhub.dev/tensorflow/bert_en_uncased_preprocess/3',\n",
        "    'small_bert/bert_en_uncased_L-10_H-768_A-12':\n",
        "        'https://tfhub.dev/tensorflow/bert_en_uncased_preprocess/3',\n",
        "    'small_bert/bert_en_uncased_L-12_H-128_A-2':\n",
        "        'https://tfhub.dev/tensorflow/bert_en_uncased_preprocess/3',\n",
        "    'small_bert/bert_en_uncased_L-12_H-256_A-4':\n",
        "        'https://tfhub.dev/tensorflow/bert_en_uncased_preprocess/3',\n",
        "    'small_bert/bert_en_uncased_L-12_H-512_A-8':\n",
        "        'https://tfhub.dev/tensorflow/bert_en_uncased_preprocess/3',\n",
        "    'small_bert/bert_en_uncased_L-12_H-768_A-12':\n",
        "        'https://tfhub.dev/tensorflow/bert_en_uncased_preprocess/3',\n",
        "    'bert_multi_cased_L-12_H-768_A-12':\n",
        "        'https://tfhub.dev/tensorflow/bert_multi_cased_preprocess/3',\n",
        "    'albert_en_base':\n",
        "        'https://tfhub.dev/tensorflow/albert_en_preprocess/3',\n",
        "    'electra_small':\n",
        "        'https://tfhub.dev/tensorflow/bert_en_uncased_preprocess/3',\n",
        "    'electra_base':\n",
        "        'https://tfhub.dev/tensorflow/bert_en_uncased_preprocess/3',\n",
        "    'experts_pubmed':\n",
        "        'https://tfhub.dev/tensorflow/bert_en_uncased_preprocess/3',\n",
        "    'experts_wiki_books':\n",
        "        'https://tfhub.dev/tensorflow/bert_en_uncased_preprocess/3',\n",
        "    'talking-heads_base':\n",
        "        'https://tfhub.dev/tensorflow/bert_en_uncased_preprocess/3',\n",
        "}\n",
        "\n",
        "tfhub_handle_encoder = map_name_to_handle[bert_model_name]\n",
        "tfhub_handle_preprocess = map_model_to_preprocess[bert_model_name]\n",
        "\n",
        "print(f'BERT model selected           : {tfhub_handle_encoder}')\n",
        "print(f'Preprocess model auto-selected: {tfhub_handle_preprocess}')"
      ],
      "metadata": {
        "cellView": "form",
        "id": "7XZEgbeHg-MK",
        "colab": {
          "base_uri": "https://localhost:8080/"
        },
        "outputId": "1fb085d6-84b8-42c4-ab5e-3c5197da6155"
      },
      "execution_count": 24,
      "outputs": [
        {
          "output_type": "stream",
          "name": "stdout",
          "text": [
            "BERT model selected           : https://tfhub.dev/tensorflow/small_bert/bert_en_uncased_L-4_H-512_A-8/1\n",
            "Preprocess model auto-selected: https://tfhub.dev/tensorflow/bert_en_uncased_preprocess/3\n"
          ]
        }
      ]
    },
    {
      "cell_type": "markdown",
      "source": [
        "# 5. Train bert model on the same train, val, test dataset with previous models\n",
        "\n",
        "( only did basic cleaning, like removing HTML tags, URLs, retained stopwords, numsbers, punctutaions, ect)\n",
        "\n",
        "(not enough computation resouce, used a smaller sample to do this)\n",
        "\n",
        "### ** Note! This mode can still be improved, such as: try smaller batch size ... ...but I don't have more GPU.. **"
      ],
      "metadata": {
        "id": "i6WE6vNSrxNj"
      }
    },
    {
      "cell_type": "code",
      "source": [
        "train_ds = tf.keras.utils.text_dataset_from_directory(\n",
        "    '/content/bert_same_data/content/bert_same_data/train',\n",
        "    batch_size=batch_size)\n",
        "class_names = train_ds.class_names\n",
        "train_ds = train_ds.cache().prefetch(buffer_size=AUTOTUNE)\n",
        "\n",
        "val_ds = tf.keras.utils.text_dataset_from_directory(\n",
        "    '/content/bert_same_data/content/bert_same_data/validation',\n",
        "    batch_size=batch_size)\n",
        "val_ds = val_ds.cache().prefetch(buffer_size=AUTOTUNE)\n",
        "\n",
        "\n",
        "test_ds = tf.keras.utils.text_dataset_from_directory(\n",
        "    '/content/bert_same_data/content/bert_same_data/test',\n",
        "    batch_size=batch_size)\n",
        "test_ds = test_ds.cache().prefetch(buffer_size=AUTOTUNE)"
      ],
      "metadata": {
        "colab": {
          "base_uri": "https://localhost:8080/"
        },
        "id": "zuwGtfjjx2bn",
        "outputId": "cff05278-ee7c-40e4-fef7-1df3c925154c"
      },
      "execution_count": 39,
      "outputs": [
        {
          "output_type": "stream",
          "name": "stdout",
          "text": [
            "Found 42962 files belonging to 3 classes.\n",
            "Found 8592 files belonging to 3 classes.\n",
            "Found 5729 files belonging to 3 classes.\n"
          ]
        }
      ]
    },
    {
      "cell_type": "code",
      "source": [
        "## dataset too large, do not have enough computation resource, use a smaller sample instead\n",
        "train_sample_size = 7500\n",
        "val_sample_size = 1500\n",
        "test_sample_size = 1000\n",
        "\n",
        "\n",
        "# bactch size: defined as 64\n",
        "train_batches = train_sample_size // batch_size\n",
        "val_batches = val_sample_size // batch_size\n",
        "test_batches = test_sample_size // batch_size\n",
        "\n",
        "train_ds = train_ds.take(train_batches)\n",
        "val_ds = val_ds.take(val_batches)\n",
        "test_ds = test_ds.take(test_batches)\n",
        "\n"
      ],
      "metadata": {
        "id": "1tGQjKhK68Bj"
      },
      "execution_count": 108,
      "outputs": []
    },
    {
      "cell_type": "code",
      "source": [
        "# this block runs for 3 hours and half\n",
        "\n",
        "bert_model = BertModel(bert_model_name, train_ds, val_ds, test_ds)\n",
        "bert_model.build_classifier_model()\n",
        "# bert_model.show_model_structure()\n",
        "bert_model.compile_model()\n",
        "bert_model.train()\n",
        "print(\"Evaluate model and show result:\")\n",
        "bert_model.evaluate()"
      ],
      "metadata": {
        "id": "FyMkEtb_hfVP",
        "colab": {
          "base_uri": "https://localhost:8080/"
        },
        "outputId": "e22fe9ed-28c1-4a5f-dc18-6f019e90a44c"
      },
      "execution_count": 112,
      "outputs": [
        {
          "output_type": "stream",
          "name": "stdout",
          "text": [
            "Training model with https://tfhub.dev/tensorflow/small_bert/bert_en_uncased_L-4_H-512_A-8/1\n",
            "WARNING: AutoGraph could not transform <function Model.make_train_function.<locals>.train_function at 0x7c0255fd9a20> and will run it as-is.\n",
            "Cause: Unable to locate the source code of <function Model.make_train_function.<locals>.train_function at 0x7c0255fd9a20>. Note that functions defined in certain environments, like the interactive Python shell, do not expose their source code. If that is the case, you should define them in a .py source file. If you are certain the code is graph-compatible, wrap the call using @tf.autograph.experimental.do_not_convert. Original error: could not get source code\n",
            "To silence this warning, decorate the function with @tf.autograph.experimental.do_not_convert\n"
          ]
        },
        {
          "output_type": "stream",
          "name": "stderr",
          "text": [
            "/usr/local/lib/python3.10/dist-packages/keras/backend.py:5612: UserWarning: \"`sparse_categorical_crossentropy` received `from_logits=True`, but the `output` argument was produced by a Softmax activation and thus does not represent logits. Was this intended?\n"
          ]
        },
        {
          "output_type": "stream",
          "name": "stdout",
          "text": [
            "117/117 [==============================] - ETA: 0s - loss: 0.7424 - sparse_categorical_accuracy: 0.6886WARNING: AutoGraph could not transform <function Model.make_test_function.<locals>.test_function at 0x7c0255fda7a0> and will run it as-is.\n",
            "Cause: Unable to locate the source code of <function Model.make_test_function.<locals>.test_function at 0x7c0255fda7a0>. Note that functions defined in certain environments, like the interactive Python shell, do not expose their source code. If that is the case, you should define them in a .py source file. If you are certain the code is graph-compatible, wrap the call using @tf.autograph.experimental.do_not_convert. Original error: could not get source code\n",
            "To silence this warning, decorate the function with @tf.autograph.experimental.do_not_convert\n",
            "117/117 [==============================] - 1233s 10s/step - loss: 0.7424 - sparse_categorical_accuracy: 0.6886 - val_loss: 0.5884 - val_sparse_categorical_accuracy: 0.7690\n",
            "Evaluate model and show result:\n",
            "15/15 [==============================] - 41s 3s/step - loss: 0.6108 - sparse_categorical_accuracy: 0.7479\n",
            "Loss: 0.6108051538467407\n",
            "Accuracy: 0.7479166388511658\n"
          ]
        }
      ]
    },
    {
      "cell_type": "code",
      "source": [
        "print(bert_model.history.history.keys())"
      ],
      "metadata": {
        "colab": {
          "base_uri": "https://localhost:8080/"
        },
        "id": "BHe4HARBLjgj",
        "outputId": "b92e77a4-07c6-4011-8892-a913c2062b57"
      },
      "execution_count": 117,
      "outputs": [
        {
          "output_type": "stream",
          "name": "stdout",
          "text": [
            "dict_keys(['loss', 'sparse_categorical_accuracy', 'val_loss', 'val_sparse_categorical_accuracy'])\n"
          ]
        }
      ]
    },
    {
      "cell_type": "code",
      "source": [
        "print(bert_model.history.history.values())"
      ],
      "metadata": {
        "colab": {
          "base_uri": "https://localhost:8080/"
        },
        "id": "K9xfUg6HMbyp",
        "outputId": "98e42996-9072-4b9f-de8a-4a0768beff98"
      },
      "execution_count": 122,
      "outputs": [
        {
          "output_type": "stream",
          "name": "stdout",
          "text": [
            "dict_values([[0.7424317598342896], [0.6885683536529541], [0.5883577466011047], [0.76902174949646]])\n"
          ]
        }
      ]
    },
    {
      "cell_type": "code",
      "source": [
        "# if increase epochs, the curves will show\n",
        "plot_acc_loss(bert_model.history.history)"
      ],
      "metadata": {
        "id": "bHmHLeSTNnTG"
      },
      "execution_count": null,
      "outputs": []
    },
    {
      "cell_type": "markdown",
      "source": [],
      "metadata": {
        "id": "T5Vvv5JDIP2W"
      }
    },
    {
      "cell_type": "markdown",
      "source": [
        "# 6. Train bert model on recleaned (basic cleaning) text"
      ],
      "metadata": {
        "id": "q-QxYvKOhXZt"
      }
    },
    {
      "cell_type": "code",
      "source": [
        "train_ds2 = tf.keras.utils.text_dataset_from_directory(\n",
        "    '/content/bert_basic_data/content/bert_basic_data/train',\n",
        "    batch_size=batch_size)\n",
        "class_names = train_ds2.class_names\n",
        "train_ds2 = train_ds2.cache().prefetch(buffer_size=AUTOTUNE)\n",
        "\n",
        "val_ds2 = tf.keras.utils.text_dataset_from_directory(\n",
        "    '/content/bert_basic_data/content/bert_basic_data/validation',\n",
        "    batch_size=batch_size)\n",
        "val_ds2 = val_ds2.cache().prefetch(buffer_size=AUTOTUNE)\n",
        "\n",
        "\n",
        "test_ds2 = tf.keras.utils.text_dataset_from_directory(\n",
        "    '/content/bert_basic_data/content/bert_basic_data/test',\n",
        "    batch_size=batch_size)\n",
        "test_ds2 = test_ds2.cache().prefetch(buffer_size=AUTOTUNE)"
      ],
      "metadata": {
        "colab": {
          "base_uri": "https://localhost:8080/"
        },
        "id": "dRLRfeTHwzGG",
        "outputId": "8c807af4-8e9b-476c-9af7-6002b82f52c5"
      },
      "execution_count": 123,
      "outputs": [
        {
          "output_type": "stream",
          "name": "stdout",
          "text": [
            "Found 43047 files belonging to 3 classes.\n",
            "Found 8610 files belonging to 3 classes.\n",
            "Found 5740 files belonging to 3 classes.\n"
          ]
        }
      ]
    },
    {
      "cell_type": "code",
      "source": [
        "## dataset too large, do not have enough computation resource, use a smaller sample instead\n",
        "train_sample_size = 7500\n",
        "val_sample_size = 1500\n",
        "test_sample_size = 1000\n",
        "\n",
        "\n",
        "# bactch size: defined as 64\n",
        "train_batches = train_sample_size // batch_size\n",
        "val_batches = val_sample_size // batch_size\n",
        "test_batches = test_sample_size // batch_size\n",
        "\n",
        "train_ds2 = train_ds2.take(train_batches)\n",
        "val_ds2 = val_ds2.take(val_batches)\n",
        "test_ds2 = test_ds2.take(test_batches)"
      ],
      "metadata": {
        "id": "-eKR0e93-9nP"
      },
      "execution_count": 124,
      "outputs": []
    },
    {
      "cell_type": "code",
      "source": [
        "# this block runs for 45+ mins\n",
        "bert_model2 = BertModel(bert_model_name, train_ds2, val_ds2, test_ds2)\n",
        "bert_model2.build_classifier_model()\n",
        "# bert_model.show_model_structure()\n",
        "bert_model2.compile_model()\n",
        "bert_model2.train()\n",
        "print(\"Evaluate model and show result:\")\n",
        "bert_model2.evaluate()"
      ],
      "metadata": {
        "colab": {
          "base_uri": "https://localhost:8080/"
        },
        "id": "pGdAxEYjsB5n",
        "outputId": "9062210a-37d0-454e-ffd8-38e94a096ea3"
      },
      "execution_count": 125,
      "outputs": [
        {
          "output_type": "stream",
          "name": "stdout",
          "text": [
            "Training model with https://tfhub.dev/tensorflow/small_bert/bert_en_uncased_L-4_H-512_A-8/1\n",
            "WARNING: AutoGraph could not transform <function Model.make_train_function.<locals>.train_function at 0x7c02321551b0> and will run it as-is.\n",
            "Cause: Unable to locate the source code of <function Model.make_train_function.<locals>.train_function at 0x7c02321551b0>. Note that functions defined in certain environments, like the interactive Python shell, do not expose their source code. If that is the case, you should define them in a .py source file. If you are certain the code is graph-compatible, wrap the call using @tf.autograph.experimental.do_not_convert. Original error: could not get source code\n",
            "To silence this warning, decorate the function with @tf.autograph.experimental.do_not_convert\n"
          ]
        },
        {
          "output_type": "stream",
          "name": "stderr",
          "text": [
            "/usr/local/lib/python3.10/dist-packages/keras/backend.py:5612: UserWarning: \"`sparse_categorical_crossentropy` received `from_logits=True`, but the `output` argument was produced by a Softmax activation and thus does not represent logits. Was this intended?\n"
          ]
        },
        {
          "output_type": "stream",
          "name": "stdout",
          "text": [
            "117/117 [==============================] - ETA: 0s - loss: 0.6621 - sparse_categorical_accuracy: 0.7300 WARNING: AutoGraph could not transform <function Model.make_test_function.<locals>.test_function at 0x7c0232154af0> and will run it as-is.\n",
            "Cause: Unable to locate the source code of <function Model.make_test_function.<locals>.test_function at 0x7c0232154af0>. Note that functions defined in certain environments, like the interactive Python shell, do not expose their source code. If that is the case, you should define them in a .py source file. If you are certain the code is graph-compatible, wrap the call using @tf.autograph.experimental.do_not_convert. Original error: could not get source code\n",
            "To silence this warning, decorate the function with @tf.autograph.experimental.do_not_convert\n",
            "117/117 [==============================] - 2405s 20s/step - loss: 0.6621 - sparse_categorical_accuracy: 0.7300 - val_loss: 0.4707 - val_sparse_categorical_accuracy: 0.8105\n",
            "Evaluate model and show result:\n",
            "15/15 [==============================] - 83s 6s/step - loss: 0.5046 - sparse_categorical_accuracy: 0.7906\n",
            "Loss: 0.5045532584190369\n",
            "Accuracy: 0.7906249761581421\n"
          ]
        }
      ]
    },
    {
      "cell_type": "code",
      "source": [
        "plot_acc_loss(bert_model2.history.history)"
      ],
      "metadata": {
        "colab": {
          "base_uri": "https://localhost:8080/",
          "height": 557
        },
        "id": "kG6__cNGNzbb",
        "outputId": "b95af3e2-0d7e-45e1-9c29-39354614e42d"
      },
      "execution_count": 126,
      "outputs": [
        {
          "output_type": "display_data",
          "data": {
            "text/plain": [
              "<Figure size 1000x600 with 2 Axes>"
            ],
            "image/png": "[encoded data removed]"
          },
          "metadata": {}
        }
      ]
    }
  ]
}